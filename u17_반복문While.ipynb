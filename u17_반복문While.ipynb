{
 "cells": [
  {
   "cell_type": "markdown",
   "metadata": {},
   "source": [
    "# Unit 17. while 반복문"
   ]
  },
  {
   "cell_type": "code",
   "execution_count": 2,
   "metadata": {},
   "outputs": [
    {
     "name": "stdout",
     "output_type": "stream",
     "text": [
      "Hello world! 0\n",
      "Hello world! 1\n",
      "Hello world! 2\n",
      "Hello world! 3\n",
      "Hello world! 4\n"
     ]
    }
   ],
   "source": [
    "for i in range(5):          #횟수가 정해져있다?그럼 for\n",
    "    print('Hello world!', i)"
   ]
  },
  {
   "cell_type": "code",
   "execution_count": 3,
   "metadata": {},
   "outputs": [
    {
     "name": "stdout",
     "output_type": "stream",
     "text": [
      "Hello world! 0\n",
      "Hello world! 1\n",
      "Hello world! 2\n",
      "Hello world! 3\n",
      "Hello world! 4\n"
     ]
    }
   ],
   "source": [
    "i = 0                              #똑같은결과지만, 결과가 어떻게 될지 모르는경우에 쓴다??\n",
    "while i < 5:\n",
    "    print('Hello world!', i)\n",
    "    i += 1"
   ]
  },
  {
   "cell_type": "code",
   "execution_count": 4,
   "metadata": {},
   "outputs": [
    {
     "name": "stdout",
     "output_type": "stream",
     "text": [
      "반복할 횟수> 3\n",
      "Hello world! 0\n",
      "Hello world! 1\n",
      "Hello world! 2\n"
     ]
    }
   ],
   "source": [
    "count = int(input('반복할 횟수> '))\n",
    "i = 0\n",
    "while i < count:\n",
    "    print('Hello world!', i)\n",
    "    i += 1"
   ]
  },
  {
   "cell_type": "markdown",
   "metadata": {},
   "source": [
    "### 반복횟수가 정해지지않은경우 while 사용"
   ]
  },
  {
   "cell_type": "code",
   "execution_count": 5,
   "metadata": {},
   "outputs": [
    {
     "data": {
      "text/plain": [
       "0.6804717350096676"
      ]
     },
     "execution_count": 5,
     "metadata": {},
     "output_type": "execute_result"
    }
   ],
   "source": [
    "#random 모듈은 import 키워드를 사용하여 가져옴\n",
    "import random as rd   #0보다크고 1보다작은 랜덤의 수가 튀어나옴 ㅋ\n",
    "rd.random()"
   ]
  },
  {
   "cell_type": "code",
   "execution_count": 11,
   "metadata": {},
   "outputs": [
    {
     "data": {
      "text/plain": [
       "1"
      ]
     },
     "execution_count": 11,
     "metadata": {},
     "output_type": "execute_result"
    }
   ],
   "source": [
    "rd.randint(1, 6)  #1부터 6까지의 정수값 랜덤으로(주사위)"
   ]
  },
  {
   "cell_type": "code",
   "execution_count": 13,
   "metadata": {},
   "outputs": [
    {
     "name": "stdout",
     "output_type": "stream",
     "text": [
      "5\n",
      "5\n",
      "5\n",
      "1\n",
      "2\n",
      "5\n",
      "5\n",
      "1\n",
      "2\n"
     ]
    }
   ],
   "source": [
    "dice = rd.randint(1, 6)  #랜덤이라 한두번에 더 나올수도있다/몇번반복할지 모를때 while문을 쓴다\n",
    "while dice != 3:\n",
    "    print(dice)\n",
    "    dice = rd.randint(1, 6)"
   ]
  },
  {
   "cell_type": "code",
   "execution_count": 16,
   "metadata": {},
   "outputs": [
    {
     "name": "stdout",
     "output_type": "stream",
     "text": [
      "4\n"
     ]
    }
   ],
   "source": [
    "dice = [1, 2, 3, 4, 5, 6]  #돌릴때 그때그때 다르게 초이스되어 나와용\n",
    "val = rd.choice(dice)\n",
    "print(val)"
   ]
  },
  {
   "cell_type": "code",
   "execution_count": 17,
   "metadata": {},
   "outputs": [
    {
     "name": "stdout",
     "output_type": "stream",
     "text": [
      "apple\n"
     ]
    }
   ],
   "source": [
    "fruits = ['apple', 'banana', 'cherry']  #랜덤은 문자열도 가능\n",
    "fruit = rd.choice(fruits)\n",
    "print(fruit)"
   ]
  },
  {
   "cell_type": "code",
   "execution_count": 19,
   "metadata": {},
   "outputs": [
    {
     "data": {
      "text/plain": [
       "1"
      ]
     },
     "execution_count": 19,
     "metadata": {},
     "output_type": "execute_result"
    }
   ],
   "source": [
    "int(True)"
   ]
  },
  {
   "cell_type": "code",
   "execution_count": 21,
   "metadata": {
    "scrolled": true
   },
   "outputs": [
    {
     "name": "stdout",
     "output_type": "stream",
     "text": [
      "정수 입력> 2\n",
      "3의 배수가 아님\n"
     ]
    }
   ],
   "source": [
    "### 3의 배수면 출력하고 아니면 출력안하는 프로그램\n",
    "num = int(input('정수 입력> '))\n",
    "print(num * (num % 3 == 0) or '3의 배수가 아님')   \n",
    "# (num % 3 == 0) 부분이 True 1/  False 0"
   ]
  },
  {
   "cell_type": "code",
   "execution_count": 24,
   "metadata": {},
   "outputs": [
    {
     "name": "stdout",
     "output_type": "stream",
     "text": [
      "정수 입력> 111111111\n",
      "3의 배수\n"
     ]
    }
   ],
   "source": [
    "num = int(input('정수 입력> '))\n",
    "print('3의 배수' * (num % 3 == 0) or '3의 배수가 아님')   \n",
    "#헷갈리면 num하지말고 '3의 배수'라 했다."
   ]
  },
  {
   "cell_type": "markdown",
   "metadata": {},
   "source": [
    "# 코딩도장 퀴즈 "
   ]
  },
  {
   "cell_type": "markdown",
   "metadata": {},
   "source": [
    "## 1. 다음 중 while 반복문에 대한 설명으로 잘못된 것\n",
    "### while 반복문에는 조건식 또는 값을 지정하면 된다.\n",
    "### while 반복문은 조건식의 결과가 True이면 반복을 끝낸다. #잘못\n",
    "### while 반복문은 반복 횟수가 정해져 있을 때만 사용할 수 있다. #잘못\n",
    "### while 반복문의 다음 줄은 반드시 들여쓰기를 해야 한다.\n",
    "### while 반복문의 조건식에 True를 지정하면 무한 루프가 된다.\n",
    "\n",
    "\n",
    "#### while 반복문은 조건식의 결과가 True이면 계속 반복하고, \n",
    "#### False이면 반복을 끝냅니다. \n",
    "#### 그리고 while 반복문은 반복 횟수가 정해져 있지 않을 때도 사용할 수 있습니다.\n"
   ]
  },
  {
   "cell_type": "markdown",
   "metadata": {},
   "source": [
    "## 2. 다음 while 반복문을 실행했을 때 출력 결과\n",
    "### i = 10\n",
    " \n",
    "### while i < 19:\n",
    "###    print(i, end=' ')\n",
    "###    i += 2\n",
    "    \n",
    "### 10 12 14 16 18 출력결과\n",
    "\n",
    "\n",
    "#### i가 10이고 while에서는 i가 19보다 작을 때 반복합니다. \n",
    "#### 이때 변화식에서 i += 2와 같이 i가 2씩 증가하므로 10 12 14 16 18이 출력됩니다."
   ]
  },
  {
   "cell_type": "markdown",
   "metadata": {},
   "source": [
    "## 3. while 반복문으로 'Hello, world!'를 10번 출력한다고 했을 때 잘못된 부분\n",
    "### a. i = 0\n",
    "### b. \n",
    "### c. while i > 20:                      #잘못\n",
    "### d.     print('Hello, world!')\n",
    "### e.     i = i + 2\n",
    "\n",
    "\n",
    "#### 초깃값이 0인데 조건식을 i > 20과 같이 만들면 \n",
    "#### 처음부터 거짓이므로 반복을 하지 않습니다. \n",
    "#### 따라서 조건식을 i < 20과 같이 만들어야 합니다."
   ]
  },
  {
   "cell_type": "markdown",
   "metadata": {},
   "source": [
    "## 4. 다음 while 반복문 중 무한 루프를 모두 고르라\n",
    "### while '':\n",
    "### while 1.1:      #무한루프\n",
    "### while None:\n",
    "### while False:\n",
    "### while not 0:      #무한루프\n",
    "    \n",
    "#### while 반복문에 True를 지정하면 무한 루프가 됩니다. \n",
    "#### 여기서 1.1은 True로 취급하므로 무한 루프가 되고, \n",
    "#### False로 취급하는 0을 not으로 뒤집었으므로 무한 루프가 됩니다."
   ]
  },
  {
   "cell_type": "markdown",
   "metadata": {},
   "source": [
    "### 코딩도장 연습문제"
   ]
  },
  {
   "cell_type": "code",
   "execution_count": 25,
   "metadata": {},
   "outputs": [
    {
     "name": "stdout",
     "output_type": "stream",
     "text": [
      "2 5\n",
      "4 4\n",
      "8 3\n",
      "16 2\n",
      "32 1\n"
     ]
    }
   ],
   "source": [
    "i = 2\n",
    "j = 5\n",
    "\n",
    "while i <= 32 or j >= 1:\n",
    "    print(i, j)\n",
    "    i *= 2\n",
    "    j -= 1"
   ]
  },
  {
   "cell_type": "markdown",
   "metadata": {},
   "source": [
    "해설\n",
    "\n",
    "출력된 숫자의 규칙을 살펴보면 첫 번째 숫자는 \n",
    "2부터 크기가 두 배씩 늘어나서 32까지 출력되고, \n",
    "두 번째 숫자는 5부터 1씩 줄어들어서 1까지 출력됩니다. \n",
    "따라서 while 반복문 안에서 반복할 때마다 변수 i는 2배씩 만들고, \n",
    "j는 1씩 감소시킵니다.\n",
    "\n",
    "먼저 i는 32까지 출력하고, \n",
    "j는 1까지 출력해야 하므로 \n",
    "while에 조건식을 i <= 32 or j >= 1과 같이 지정합니다. \n",
    "사실 여기서는 i와 j 모두 다섯 번씩 반복하므로 \n",
    "i <= 32만 지정하거나 j >= 1만 지정해도 상관없습니다. \n",
    "또는, i <= 32 and j >= 1와 같이 and 연산자를 사용해도 결과는 같습니다. \n",
    "이런 조건식은 각 상황에 맞게 지정해주면 됩니다.\n",
    "\n",
    "그리고 반복문 안에서는 i *= 2로 i가 두 배씩 늘어나도록 만들고, \n",
    "j -= 1로 j가 1씩 줄어들게 만들면 됩니다."
   ]
  },
  {
   "cell_type": "code",
   "execution_count": 26,
   "metadata": {},
   "outputs": [
    {
     "name": "stdout",
     "output_type": "stream",
     "text": [
      "충전금액> 10000\n",
      "550\n"
     ]
    }
   ],
   "source": [
    "amount = int(input('충전금액> '))\n",
    "while(amount >= 1350):\n",
    "    amount -= 1350\n",
    "print(amount)"
   ]
  },
  {
   "cell_type": "code",
   "execution_count": 27,
   "metadata": {},
   "outputs": [
    {
     "name": "stdout",
     "output_type": "stream",
     "text": [
      "충전금액> 12150\n",
      "0\n"
     ]
    }
   ],
   "source": [
    "amount = int(input('충전금액> '))\n",
    "while(amount >= 1350):\n",
    "    amount -= 1350\n",
    "print(amount)"
   ]
  },
  {
   "cell_type": "code",
   "execution_count": null,
   "metadata": {},
   "outputs": [],
   "source": []
  }
 ],
 "metadata": {
  "kernelspec": {
   "display_name": "Python 3",
   "language": "python",
   "name": "python3"
  },
  "language_info": {
   "codemirror_mode": {
    "name": "ipython",
    "version": 3
   },
   "file_extension": ".py",
   "mimetype": "text/x-python",
   "name": "python",
   "nbconvert_exporter": "python",
   "pygments_lexer": "ipython3",
   "version": "3.8.3"
  }
 },
 "nbformat": 4,
 "nbformat_minor": 4
}
