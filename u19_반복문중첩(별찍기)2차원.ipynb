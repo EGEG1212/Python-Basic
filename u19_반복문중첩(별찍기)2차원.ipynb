{
 "cells": [
  {
   "cell_type": "markdown",
   "metadata": {},
   "source": [
    "# Unit 19. 계단식으로 별 출력하기"
   ]
  },
  {
   "cell_type": "markdown",
   "metadata": {},
   "source": [
    "### 중첩 루프(반복문) 사용하기"
   ]
  },
  {
   "cell_type": "code",
   "execution_count": 2,
   "metadata": {},
   "outputs": [
    {
     "name": "stdout",
     "output_type": "stream",
     "text": [
      "k:0 k:1 k:2 k:3 k:4 i:0\\n\n",
      "k:0 k:1 k:2 k:3 k:4 i:1\\n\n",
      "k:0 k:1 k:2 k:3 k:4 i:2\\n\n",
      "k:0 k:1 k:2 k:3 k:4 i:3\\n\n",
      "k:0 k:1 k:2 k:3 k:4 i:4\\n\n"
     ]
    }
   ],
   "source": [
    "#2차원코드............\n",
    "for i in range(5):\n",
    "    for k in range(5):\n",
    "        print('k:', k, sep='', end= ' ') #가로처리코드\n",
    "    print('i:', i, '\\\\n', sep='')        #세로처리코드 "
   ]
  },
  {
   "cell_type": "code",
   "execution_count": 7,
   "metadata": {},
   "outputs": [
    {
     "name": "stdout",
     "output_type": "stream",
     "text": [
      "*****\n",
      "*****\n",
      "*****\n",
      "*****\n",
      "*****\n"
     ]
    }
   ],
   "source": [
    "for i in range(5):\n",
    "    for k in range(5):\n",
    "        print('*', end= '') \n",
    "    print() "
   ]
  },
  {
   "cell_type": "code",
   "execution_count": 6,
   "metadata": {},
   "outputs": [
    {
     "name": "stdout",
     "output_type": "stream",
     "text": [
      "*\n",
      "**\n",
      "***\n",
      "****\n",
      "*****\n"
     ]
    }
   ],
   "source": [
    "# 1 사분면\n",
    "for i in range(5):           #방법1\n",
    "    for k in range(i+1):\n",
    "        print('*', end= '') \n",
    "    print() "
   ]
  },
  {
   "cell_type": "code",
   "execution_count": 8,
   "metadata": {},
   "outputs": [
    {
     "name": "stdout",
     "output_type": "stream",
     "text": [
      "*\n",
      "**\n",
      "***\n",
      "****\n",
      "*****\n"
     ]
    }
   ],
   "source": [
    "for i in range(1,6):         #방법2\n",
    "    for k in range(i):\n",
    "        print('*', end= '') \n",
    "    print() "
   ]
  },
  {
   "cell_type": "code",
   "execution_count": 9,
   "metadata": {},
   "outputs": [
    {
     "name": "stdout",
     "output_type": "stream",
     "text": [
      "    *\n",
      "   **\n",
      "  ***\n",
      " ****\n",
      "*****\n"
     ]
    }
   ],
   "source": [
    "# 2 사분면\n",
    "for i in range(5):         \n",
    "    for k in range(4-i):\n",
    "        print(' ', end= '') \n",
    "    for k in range(i+1):\n",
    "        print('*', end= '') \n",
    "    print() "
   ]
  },
  {
   "cell_type": "code",
   "execution_count": 10,
   "metadata": {},
   "outputs": [
    {
     "name": "stdout",
     "output_type": "stream",
     "text": [
      "*****\n",
      " ****\n",
      "  ***\n",
      "   **\n",
      "    *\n"
     ]
    }
   ],
   "source": [
    "# 3 사분면\n",
    "for i in range(5):         \n",
    "    for k in range(i):\n",
    "        print(' ', end= '') \n",
    "    for k in range(5-i):\n",
    "        print('*', end= '') \n",
    "    print() "
   ]
  },
  {
   "cell_type": "code",
   "execution_count": 11,
   "metadata": {
    "scrolled": true
   },
   "outputs": [
    {
     "name": "stdout",
     "output_type": "stream",
     "text": [
      "*****\n",
      "****\n",
      "***\n",
      "**\n",
      "*\n"
     ]
    }
   ],
   "source": [
    "# 4 사분면\n",
    "for i in range(5):         \n",
    "    for k in range(5-i):\n",
    "        print('*', end= '') \n",
    "    print() "
   ]
  },
  {
   "cell_type": "code",
   "execution_count": 12,
   "metadata": {
    "scrolled": true
   },
   "outputs": [
    {
     "name": "stdout",
     "output_type": "stream",
     "text": [
      "   *\n",
      "  ***\n",
      " *****\n",
      "*******\n"
     ]
    }
   ],
   "source": [
    "# 산모양 별찍기\n",
    "for i in range(4):         \n",
    "    for k in range(3-i):\n",
    "        print(' ', end= '') \n",
    "    for k in range(2*i+1):\n",
    "        print('*', end= '') \n",
    "    print() "
   ]
  },
  {
   "cell_type": "code",
   "execution_count": 20,
   "metadata": {},
   "outputs": [
    {
     "name": "stdout",
     "output_type": "stream",
     "text": [
      "   *\n",
      "  ***\n",
      " *****\n",
      "*******\n",
      "*   \n",
      "***  \n",
      "***** \n",
      "*******\n"
     ]
    }
   ],
   "source": [
    "# 다이아몬드 별찍기\n",
    "\n",
    "for i in range(7):         \n",
    "    for k in range(3-i):\n",
    "        print(' ', end= '') \n",
    "    for k in range(2*i+1):\n",
    "        print('*', end= '') \n",
    "    print() \n",
    "for i in range(4):  \n",
    "    for k in range(2*i+1):\n",
    "        print('*', end= '') \n",
    "    for k in range(3-i):\n",
    "        print(' ', end= '') \n",
    "    print() "
   ]
  },
  {
   "cell_type": "code",
   "execution_count": 25,
   "metadata": {},
   "outputs": [
    {
     "name": "stdout",
     "output_type": "stream",
     "text": [
      "      * \n",
      "    * * * \n",
      "  * * * * * \n",
      "* * * * * * * \n",
      "  * * * * * \n",
      "    * * * \n",
      "      * \n"
     ]
    }
   ],
   "source": [
    "#정현언니 천재!  \n",
    "for i in range(4):\n",
    "    for k in range(3-i):\n",
    "        print(' ', end=' ')\n",
    "    for k in range(2*i+1):\n",
    "        print('*', end=' ')\n",
    "    print()\n",
    "for i in range(3):\n",
    "    for k in range(i+1):\n",
    "        print(' ', end=' ')\n",
    "    for k in range(5-2*i):\n",
    "         print('*', end=' ')\n",
    "    print() "
   ]
  },
  {
   "cell_type": "code",
   "execution_count": 31,
   "metadata": {},
   "outputs": [
    {
     "name": "stdout",
     "output_type": "stream",
     "text": [
      "   *\n",
      "  ***\n",
      " *****\n",
      "*******\n",
      "*   ***  ***** \n"
     ]
    }
   ],
   "source": [
    "for i in range(4):          #산을 반대로 붙였는데 왜 줄바꿈이 안되는거야\n",
    "    for k in range(3-i):\n",
    "        print(' ', end= '') \n",
    "    for k in range(2*i+1):\n",
    "        print('*', end= '') \n",
    "    print() \n",
    "for i in range(3):         \n",
    "    for k in range(2*i+1):\n",
    "        print('*', end= '') \n",
    "    for k in range(3-i):\n",
    "        print(' ', end= '') \n",
    "print() "
   ]
  }
 ],
 "metadata": {
  "kernelspec": {
   "display_name": "Python 3",
   "language": "python",
   "name": "python3"
  },
  "language_info": {
   "codemirror_mode": {
    "name": "ipython",
    "version": 3
   },
   "file_extension": ".py",
   "mimetype": "text/x-python",
   "name": "python",
   "nbconvert_exporter": "python",
   "pygments_lexer": "ipython3",
   "version": "3.8.3"
  }
 },
 "nbformat": 4,
 "nbformat_minor": 4
}
