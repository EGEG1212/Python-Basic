{
 "metadata": {
  "language_info": {
   "codemirror_mode": {
    "name": "ipython",
    "version": 3
   },
   "file_extension": ".py",
   "mimetype": "text/x-python",
   "name": "python",
   "nbconvert_exporter": "python",
   "pygments_lexer": "ipython3",
   "version": "3.8.3-final"
  },
  "orig_nbformat": 2,
  "kernelspec": {
   "name": "Python 3.8.3 64-bit (conda)",
   "display_name": "Python 3.8.3 64-bit (conda)",
   "metadata": {
    "interpreter": {
     "hash": "b3ba2566441a7c06988d0923437866b63cedc61552a5af99d1f4fb67d367b25f"
    }
   }
  }
 },
 "nbformat": 4,
 "nbformat_minor": 2,
 "cells": [
  {
   "source": [
    "# Unit 43. 정규표현식 사용하기"
   ],
   "cell_type": "markdown",
   "metadata": {}
  },
  {
   "source": [
    "## 43.1 문자열 판단하기 impotr match"
   ],
   "cell_type": "markdown",
   "metadata": {}
  },
  {
   "cell_type": "code",
   "execution_count": 2,
   "metadata": {},
   "outputs": [
    {
     "output_type": "execute_result",
     "data": {
      "text/plain": [
       "<re.Match object; span=(0, 5), match='Hello'>"
      ]
     },
     "metadata": {},
     "execution_count": 2
    }
   ],
   "source": [
    "import re\n",
    "re.match('Hello', 'Hello, world!') #찾고자하는 문자열,  이 내용중에서\n",
    "# 0, 5 인덱싱에 있다. 라고 알려줌"
   ]
  },
  {
   "cell_type": "code",
   "execution_count": 3,
   "metadata": {},
   "outputs": [],
   "source": [
    "re.match('Python', 'Hello, world!')\n",
    "#파이썬이 헬로월드안에 없으니까 아무것도 안나옴.. 왜 에러안나지?????"
   ]
  },
  {
   "cell_type": "code",
   "execution_count": 4,
   "metadata": {},
   "outputs": [
    {
     "output_type": "stream",
     "name": "stdout",
     "text": [
      " 'Hello'가 있습니다.\n"
     ]
    }
   ],
   "source": [
    "# 없다는 문구를 띄워주려면 이렇게if else\n",
    "if re.match('Hello', 'Hello, world!') :\n",
    "    print(\" 'Hello'가 있습니다.\")\n",
    "else:\n",
    "    print(\"'Hello'가 없습니다.\")\n"
   ]
  },
  {
   "source": [
    "## 43.1.1  문자열이 맨 앞에 오는지 맨 뒤에 오는지 판단하기\n",
    "https://regexr.com/ 정규표현식 사이트  \n",
    "match 문자의 시작부분에 있으면  \n",
    "search 문자내 전체부분에 찾으려면   \n",
    "(시작)^문자열$(끝) 에 있는지없는지 확인하는것"
   ],
   "cell_type": "markdown",
   "metadata": {}
  },
  {
   "cell_type": "code",
   "execution_count": 37,
   "metadata": {},
   "outputs": [
    {
     "output_type": "execute_result",
     "data": {
      "text/plain": [
       "<re.Match object; span=(0, 5), match='Hello'>"
      ]
     },
     "metadata": {},
     "execution_count": 37
    }
   ],
   "source": [
    "re.search('^Hello', 'Hello, world!')"
   ]
  },
  {
   "cell_type": "code",
   "execution_count": 6,
   "metadata": {},
   "outputs": [
    {
     "output_type": "execute_result",
     "data": {
      "text/plain": [
       "<re.Match object; span=(0, 5), match='Hello'>"
      ]
     },
     "metadata": {},
     "execution_count": 6
    }
   ],
   "source": [
    "re.match('^Hello', 'Hello, world!')"
   ]
  },
  {
   "cell_type": "code",
   "execution_count": 7,
   "metadata": {},
   "outputs": [
    {
     "output_type": "execute_result",
     "data": {
      "text/plain": [
       "<re.Match object; span=(7, 13), match='world!'>"
      ]
     },
     "metadata": {},
     "execution_count": 7
    }
   ],
   "source": [
    "re.search('world!$', 'Hello, world!')"
   ]
  },
  {
   "cell_type": "code",
   "execution_count": 8,
   "metadata": {},
   "outputs": [],
   "source": [
    "re.match('world!$', 'Hello, world!')      #오잉 매치$는 안되네 ㅋㅋㅋㅋ"
   ]
  },
  {
   "source": [
    "## 43.1.2  지정된 문자열이 하나라도 포함되는지 판단하기\n",
    "or | 버티칼바"
   ],
   "cell_type": "markdown",
   "metadata": {}
  },
  {
   "source": [
    "## 43.2 범위 판단하기\n",
    "문자가 여러 개 있는지 판단할 때는 *별 과 +플  \n",
    "문자가 1개있을때는 ?물음표 와 .쩜  \n",
    "0-9 0123456789 오잉 9가 안짤리는구나  \n",
    "a-z  \n",
    "A-z  \n",
    "\\[0-9]\\* 별이찍혔다는이유로 *반복인데 제로포함 0 or any  \n",
    "\\[0-9]+ 플이찍혔따는이유로  1 or any  "
   ],
   "cell_type": "markdown",
   "metadata": {}
  },
  {
   "cell_type": "code",
   "execution_count": 10,
   "metadata": {},
   "outputs": [
    {
     "output_type": "execute_result",
     "data": {
      "text/plain": [
       "<re.Match object; span=(0, 4), match='1234'>"
      ]
     },
     "metadata": {},
     "execution_count": 10
    }
   ],
   "source": [
    "re.match('[0-9]*', '1234')   # 0 or any"
   ]
  },
  {
   "cell_type": "code",
   "execution_count": 16,
   "metadata": {},
   "outputs": [
    {
     "output_type": "execute_result",
     "data": {
      "text/plain": [
       "<re.Match object; span=(0, 0), match=''>"
      ]
     },
     "metadata": {},
     "execution_count": 16
    }
   ],
   "source": [
    "re.match('[0-9]*', '')     # 0 or any  아무것도 없다..."
   ]
  },
  {
   "cell_type": "code",
   "execution_count": 17,
   "metadata": {},
   "outputs": [
    {
     "output_type": "execute_result",
     "data": {
      "text/plain": [
       "<re.Match object; span=(0, 4), match='1234'>"
      ]
     },
     "metadata": {},
     "execution_count": 17
    }
   ],
   "source": [
    "re.match('[0-9]+', '1234')   # 1 or any"
   ]
  },
  {
   "cell_type": "code",
   "execution_count": 18,
   "metadata": {},
   "outputs": [
    {
     "output_type": "execute_result",
     "data": {
      "text/plain": [
       "<re.Match object; span=(0, 2), match='12'>"
      ]
     },
     "metadata": {},
     "execution_count": 18
    }
   ],
   "source": [
    "re.match('[0-9]+', '12cd')  # 1 or any"
   ]
  },
  {
   "cell_type": "code",
   "execution_count": 15,
   "metadata": {},
   "outputs": [],
   "source": [
    "re.match('[0-9]+', 'abcd')  #일치하는게없어서 출력값이 없음"
   ]
  },
  {
   "source": [
    "## 43.2.1  문자가 한 개만 있는지 판단하기\n",
    "문자가 여러 개 있는지 판단할 때는 *별 과 +플  \n",
    "문자가 1개있을때는 ?물음표 와 .쩜   \n",
    " 물음표?는 ? 앞의 문자(범위)가 0개 또는 1개인지 판단하고,   \n",
    " 쩜.은 .이 있는 위치에 아무 문자(숫자)가 1개 있는지 판단합"
   ],
   "cell_type": "markdown",
   "metadata": {}
  },
  {
   "cell_type": "code",
   "execution_count": 19,
   "metadata": {},
   "outputs": [
    {
     "output_type": "execute_result",
     "data": {
      "text/plain": [
       "<re.Match object; span=(0, 3), match='abd'>"
      ]
     },
     "metadata": {},
     "execution_count": 19
    }
   ],
   "source": [
    "re.match('abc?d', 'abd')  # c가 제로개????"
   ]
  },
  {
   "cell_type": "code",
   "execution_count": 20,
   "metadata": {},
   "outputs": [
    {
     "output_type": "execute_result",
     "data": {
      "text/plain": [
       "<re.Match object; span=(0, 4), match='ab3c'>"
      ]
     },
     "metadata": {},
     "execution_count": 20
    }
   ],
   "source": [
    "re.match('ab[0-9]?c', 'ab3c')  #0123456789"
   ]
  },
  {
   "cell_type": "code",
   "execution_count": 21,
   "metadata": {},
   "outputs": [
    {
     "output_type": "execute_result",
     "data": {
      "text/plain": [
       "<re.Match object; span=(0, 4), match='abxd'>"
      ]
     },
     "metadata": {},
     "execution_count": 21
    }
   ],
   "source": [
    "re.match('ab.d', 'abxd')"
   ]
  },
  {
   "source": [
    "### 정규표현식 사이트에가서.. 매칭을 확인 할 수도 있따..........\n",
    "#### 근데 이거 왜하는거여\n",
    "\n",
    "# 아래 3개만 알고있음 된다 ★★★★★★★★★★★★★★★★★★★★★★★★★★★★★★★★★★★\n",
    "# re.match(패턴, 문자열)    문자의 시작부분에 있으면  \n",
    "# re.search      문자내 전체부분에 찾으려면   \n",
    "# re.sub(패턴, 바꿀문자열, 대상문자열)\n",
    "re.sub('패턴', '바꿀문자열', '문자열', 바꿀횟수)"
   ],
   "cell_type": "markdown",
   "metadata": {}
  },
  {
   "source": [
    "## 43.2.2  문자 개수 판단하기 (폰전번)"
   ],
   "cell_type": "markdown",
   "metadata": {}
  },
  {
   "cell_type": "code",
   "execution_count": 23,
   "metadata": {},
   "outputs": [
    {
     "output_type": "execute_result",
     "data": {
      "text/plain": [
       "<re.Match object; span=(0, 13), match='010-1000-1000'>"
      ]
     },
     "metadata": {},
     "execution_count": 23
    }
   ],
   "source": [
    "re.match('[0-9]{3}-[0-9]{4}-[0-9]{4}', '010-1000-1000')  #0-9까지 3개 - 4개 - 4개"
   ]
  },
  {
   "cell_type": "code",
   "execution_count": 24,
   "metadata": {},
   "outputs": [
    {
     "output_type": "execute_result",
     "data": {
      "text/plain": [
       "<re.Match object; span=(0, 13), match='010-1000-1000'>"
      ]
     },
     "metadata": {},
     "execution_count": 24
    }
   ],
   "source": [
    "re.match('010-[0-9]{4}-[0-9]{4}', '010-1000-1000')  #우리나라 010"
   ]
  },
  {
   "cell_type": "code",
   "execution_count": null,
   "metadata": {},
   "outputs": [],
   "source": [
    "re.match('01[0-9]{1}-[0-9]{4}-[0-9]{4}', '010-1000-1000')  #옛날폰전번쓸수있으니까"
   ]
  },
  {
   "cell_type": "code",
   "execution_count": 25,
   "metadata": {},
   "outputs": [
    {
     "output_type": "execute_result",
     "data": {
      "text/plain": [
       "<re.Match object; span=(0, 11), match='02-100-1000'>"
      ]
     },
     "metadata": {},
     "execution_count": 25
    }
   ],
   "source": [
    "#일반전화 02 031 2,3자리 /또 가운데전번 3-4자리/ 끝4자리\n",
    "re.match('[0-9]{2,3}-[0-9]{3,4}-[0-9]{4}', '02-100-1000')"
   ]
  },
  {
   "source": [
    "## 43.2.3  숫자와 영문 문자를 조합해서 판단하기"
   ],
   "cell_type": "markdown",
   "metadata": {}
  },
  {
   "cell_type": "code",
   "execution_count": 26,
   "metadata": {},
   "outputs": [
    {
     "output_type": "execute_result",
     "data": {
      "text/plain": [
       "<re.Match object; span=(0, 9), match='Hello1234'>"
      ]
     },
     "metadata": {},
     "execution_count": 26
    }
   ],
   "source": [
    "re.match('[a-zA-Z0-9]+', 'Hello1234') # a부터 z, A부터 Z, 0부터 9까지 1개 이상 있으므로 \n",
    "# 모두 포함되어서 모두 통과!!!!!!!!!"
   ]
  },
  {
   "cell_type": "code",
   "execution_count": 29,
   "metadata": {},
   "outputs": [
    {
     "output_type": "execute_result",
     "data": {
      "text/plain": [
       "<re.Match object; span=(0, 1), match='H'>"
      ]
     },
     "metadata": {},
     "execution_count": 29
    }
   ],
   "source": [
    "re.match('[A-Z]+', 'Hello1234') # 대문자만 통과"
   ]
  },
  {
   "cell_type": "code",
   "execution_count": 36,
   "metadata": {},
   "outputs": [
    {
     "output_type": "execute_result",
     "data": {
      "text/plain": [
       "<re.Match object; span=(0, 3), match='홍길동'>"
      ]
     },
     "metadata": {},
     "execution_count": 36
    }
   ],
   "source": [
    "re.match('[가-힣]+', '홍길동') # 오~~~ 한글도 되네 >_<"
   ]
  },
  {
   "source": [
    "## 43.2.5  특수 문자 판단하기\n",
    "\n",
    "특수 문자를 판단할 때는 특수 문자 앞에 \\를 붙이면 됩니다.   \n",
    "단, [ ] 안에서는 \\를 붙이지 않아도 되지만   \n",
    "에러가 발생하는 경우에는 \\를 붙입니다."
   ],
   "cell_type": "markdown",
   "metadata": {}
  },
  {
   "source": [
    "# 43.4 문자열 바꾸기★★★★★★★★★★★★★★★★★★★★★★★★★★★★★★★★★★★★★★"
   ],
   "cell_type": "markdown",
   "metadata": {}
  },
  {
   "cell_type": "code",
   "execution_count": 42,
   "metadata": {},
   "outputs": [
    {
     "output_type": "execute_result",
     "data": {
      "text/plain": [
       "'fruit box fruit tree'"
      ]
     },
     "metadata": {},
     "execution_count": 42
    }
   ],
   "source": [
    "# re.sub('패턴', '바꿀문자열', '문자열', 바꿀횟수)\n",
    "re.sub('apple|orange', 'fruit', 'apple box orange tree')   \n",
    "# apple 또는 orange를 fruit로 바꿈"
   ]
  },
  {
   "cell_type": "code",
   "execution_count": 41,
   "metadata": {},
   "outputs": [
    {
     "output_type": "execute_result",
     "data": {
      "text/plain": [
       "'n n Fizz n Buzz Fizz n n'"
      ]
     },
     "metadata": {},
     "execution_count": 41
    }
   ],
   "source": [
    "re.sub('[0-9]+', 'n', '1 2 Fizz 4 Buzz Fizz 7 8')    # n-9까지 숫자만 찾아서, n으로 바꿈"
   ]
  },
  {
   "cell_type": "code",
   "execution_count": 43,
   "metadata": {},
   "outputs": [],
   "source": [
    "# re.sub('패턴', 교체함수, '문자열', 바꿀횟수)\n",
    "# 교체함수가 올 수 있다...\n",
    "\n",
    "def multiple10(m):        # 매개변수로 매치 객체를 받음\n",
    "     n = int(m.group())    # 매칭된 문자열을 가져와서 정수로 변환\n",
    "     return str(n * 10)    # 숫자에 10을 곱한 뒤 문자열로 변환해서 반환"
   ]
  },
  {
   "cell_type": "code",
   "execution_count": 44,
   "metadata": {},
   "outputs": [
    {
     "output_type": "execute_result",
     "data": {
      "text/plain": [
       "'multiple10 multiple10 Fizz multiple10 Buzz Fizz multiple10 multiple10'"
      ]
     },
     "metadata": {},
     "execution_count": 44
    }
   ],
   "source": [
    "re.sub('[0-9]+', 'multiple10', '1 2 Fizz 4 Buzz Fizz 7 8') "
   ]
  },
  {
   "cell_type": "code",
   "execution_count": null,
   "metadata": {},
   "outputs": [],
   "source": [
    "# 솔직히.. 함수써서 배열바꾸지는 않으니;; 그냥 이런게 있다~ 정도만 알아둬랑 \n",
    "# 함수도 가능하니 람다식도 가능하겠쮜....\n",
    "# "
   ]
  }
 ]
}