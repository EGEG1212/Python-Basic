{
 "cells": [
  {
   "cell_type": "markdown",
   "metadata": {},
   "source": [
    "# 과제"
   ]
  },
  {
   "cell_type": "code",
   "execution_count": 1,
   "metadata": {},
   "outputs": [
    {
     "name": "stdout",
     "output_type": "stream",
     "text": [
      "1~10사이의 숫자를 입력> 1\n",
      "too low\n"
     ]
    }
   ],
   "source": [
    "#105p_4.1\n",
    "#1~10사이의 숫자를 secret변수에 할당\n",
    "#1~10사이의 다른 숫자를 선택에서 guess변수에 할당 \n",
    "secret = 7\n",
    "guess = int(input('1~10사이의 숫자를 입력> '))\n",
    "if guess <secret:\n",
    "    print('too low')\n",
    "elif guess > secet:\n",
    "    print('too high')\n",
    "else:\n",
    "    print('just right')"
   ]
  },
  {
   "cell_type": "code",
   "execution_count": 2,
   "metadata": {},
   "outputs": [
    {
     "name": "stdout",
     "output_type": "stream",
     "text": [
      "watermelon\n"
     ]
    }
   ],
   "source": [
    "#105p_4.2\n",
    "#\n",
    "small = False\n",
    "green = True\n",
    "if small:\n",
    "        if green:\n",
    "            print(\"pea\")\n",
    "        else:\n",
    "            print(\"cherry\")\n",
    "else:\n",
    "    if green:\n",
    "        print(\"watermelon\")\n",
    "    else:\n",
    "        print(\"pumpkin\")"
   ]
  },
  {
   "cell_type": "code",
   "execution_count": 3,
   "metadata": {},
   "outputs": [
    {
     "name": "stdout",
     "output_type": "stream",
     "text": [
      "When an eel grabs your arm,\n",
      "And it causes great harm,\n",
      "That's - a Moray!\n"
     ]
    }
   ],
   "source": [
    "#134p_5.1_m으로 시작하는 단어를 대문자로 만들기\n",
    "song = \"\"\"When an eel grabs your arm,\n",
    "And it causes great harm,\n",
    "That's - a moray!\"\"\"\n",
    "song = song.replace(\" m\", \" M\")\n",
    "print(song)"
   ]
  },
  {
   "cell_type": "code",
   "execution_count": 4,
   "metadata": {},
   "outputs": [
    {
     "name": "stdout",
     "output_type": "stream",
     "text": [
      "Q: We don't serve strings around here. Are you a string?\n",
      "A: No, I'm a frayed knot.\n",
      "\n",
      "Q: What is said on Father's Day in the forest?\n",
      "A: 'Pop!' goes the weasel.\n",
      "\n",
      "Q: What makes the sound 'Sis! Boom!'?\n",
      "A: An exploding sheep.\n",
      "\n"
     ]
    }
   ],
   "source": [
    "#134p_5.2_\n",
    "questions = [\n",
    "    \"We don't serve strings around here. Are you a string?\",\n",
    "    \"What is said on Father's Day in the forest?\",\n",
    "    \"What makes the sound 'Sis! Boom!'?\",\n",
    "]\n",
    "answers = [\n",
    "    \"An exploding sheep.\",\n",
    "    \"No, I'm a frayed knot.\",\n",
    "    \"'Pop!' goes the weasel.\"\n",
    "]\n",
    "q_a = ( (0,1), (1,2), (2,0))\n",
    "for q, a in q_a:\n",
    "    print(\"Q:\", questions[q])\n",
    "    print(\"A:\", answers[a])\n",
    "    print()"
   ]
  },
  {
   "cell_type": "code",
   "execution_count": 5,
   "metadata": {},
   "outputs": [
    {
     "name": "stdout",
     "output_type": "stream",
     "text": [
      "\n",
      "My kitty cat likes roast beef,\n",
      "My kitty cat likes ham,\n",
      "My kitty cat fell on his head\n",
      "And now thinks he's a clam.\n",
      "\n"
     ]
    }
   ],
   "source": [
    "#134p_5.3\n",
    "poem = '''\n",
    "My kitty cat likes %s,\n",
    "My kitty cat likes %s,\n",
    "My kitty cat fell on his %s\n",
    "And now thinks he's a %s.\n",
    "'''\n",
    "args = ('roast beef', 'ham', 'head', 'clam')\n",
    "print(poem % args)"
   ]
  },
  {
   "cell_type": "code",
   "execution_count": 11,
   "metadata": {},
   "outputs": [],
   "source": [
    "#134p_5.4 변수저장\n",
    "letter = '''\n",
    "Dear {salutation} {name},\n",
    "\n",
    "Thank you for your letter. \n",
    "We are sorry that our {product} {verbed} in your {room}. \n",
    "Please note that it should never be used in a {room}, especially near any {animals}.\n",
    "\n",
    "Send us your receipt and {amount} for shipping and handling. \n",
    "We will send you another {product} that, in our tests, is {percent}% less likely to have {verbed}.\n",
    "\n",
    "Thank you for your support.\n",
    "Sincerely,\n",
    "{spokesman}\n",
    "{job_title}\n",
    "'''"
   ]
  },
  {
   "cell_type": "code",
   "execution_count": 14,
   "metadata": {},
   "outputs": [
    {
     "name": "stdout",
     "output_type": "stream",
     "text": [
      "\n",
      "Dear 친애하는 누구,\n",
      "\n",
      "Thank you for your letter. \n",
      "We are sorry that our pudding evaporated in your gazebo. \n",
      "Please note that it should never be used in a gazebo, especially near any octothorpes.\n",
      "\n",
      "Send us your receipt and $1.99 for shipping and handling. \n",
      "We will send you another pudding that, in our tests, is 88% less likely to have evaporated.\n",
      "\n",
      "Thank you for your support.\n",
      "Sincerely,\n",
      "Shirley Iugeste\n",
      "I Hate This Job\n",
      "\n"
     ]
    }
   ],
   "source": [
    "#134p_5.5\n",
    "print (\n",
    "    letter.format(salutation='친애하는',\n",
    "                 name='누구',\n",
    "                 product='pudding',\n",
    "                 verbed='evaporated',\n",
    "                 room='gazebo',\n",
    "                 animals='octothorpes',\n",
    "                 amount='$1.99',\n",
    "                 percent=88,\n",
    "                 spokesman='Shirley Iugeste',\n",
    "                 job_title='I Hate This Job')\n",
    "        )"
   ]
  },
  {
   "cell_type": "code",
   "execution_count": 8,
   "metadata": {},
   "outputs": [
    {
     "name": "stdout",
     "output_type": "stream",
     "text": [
      "Ducky McDuckface\n",
      "Gourdy McGourdface\n",
      "Spitzy McSpitzface\n"
     ]
    }
   ],
   "source": [
    "#134p_5.6\n",
    "names = [\"duck\", \"gourd\", \"spitz\"]\n",
    "for name in names:\n",
    "    cap_name =  name.capitalize()\n",
    "    print(\"%sy Mc%sface\" % (cap_name, cap_name))"
   ]
  },
  {
   "cell_type": "code",
   "execution_count": 9,
   "metadata": {},
   "outputs": [
    {
     "name": "stdout",
     "output_type": "stream",
     "text": [
      "Ducky McDuckface\n",
      "Gourdy McGourdface\n",
      "Spitzy McSpitzface\n"
     ]
    }
   ],
   "source": [
    "#134p_5.7\n",
    "names = [\"duck\", \"gourd\", \"spitz\"]\n",
    "for name in names:\n",
    "    cap_name = name.capitalize()\n",
    "    print(\"{}y Mc{}face\".format(cap_name, cap_name))"
   ]
  },
  {
   "cell_type": "code",
   "execution_count": 10,
   "metadata": {},
   "outputs": [
    {
     "name": "stdout",
     "output_type": "stream",
     "text": [
      "Ducky McDuckface\n",
      "Gourdy McGourdface\n",
      "Spitzy McSpitzface\n"
     ]
    }
   ],
   "source": [
    "#134p_5.8\n",
    "names = [\"duck\", \"gourd\", \"spitz\"]\n",
    "for name in names:\n",
    "    cap_name = name.capitalize()\n",
    "    print(f\"{cap_name}y Mc{cap_name}face\")"
   ]
  },
  {
   "cell_type": "code",
   "execution_count": null,
   "metadata": {},
   "outputs": [],
   "source": []
  },
  {
   "cell_type": "code",
   "execution_count": null,
   "metadata": {},
   "outputs": [],
   "source": []
  }
 ],
 "metadata": {
  "kernelspec": {
   "display_name": "Python 3",
   "language": "python",
   "name": "python3"
  },
  "language_info": {
   "codemirror_mode": {
    "name": "ipython",
    "version": 3
   },
   "file_extension": ".py",
   "mimetype": "text/x-python",
   "name": "python",
   "nbconvert_exporter": "python",
   "pygments_lexer": "ipython3",
   "version": "3.8.3"
  }
 },
 "nbformat": 4,
 "nbformat_minor": 4
}
