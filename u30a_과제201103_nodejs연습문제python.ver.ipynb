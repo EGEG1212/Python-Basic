{
 "cells": [
  {
   "cell_type": "markdown",
   "metadata": {},
   "source": [
    "#### 1. 양의 정수 N을 입력으로 받아 1부터 N까지 제곱의 합과 합의 제곱을 구하시오."
   ]
  },
  {
   "cell_type": "code",
   "execution_count": 4,
   "metadata": {},
   "outputs": [
    {
     "name": "stdout",
     "output_type": "stream",
     "text": [
      "정수를 입력하세요 곱해드립니다.> 10\n",
      "385\n",
      "3025\n"
     ]
    }
   ],
   "source": [
    "def squ(num):\n",
    "    squ_sum = []   \n",
    "    sum_squ = []\n",
    "    for i in range(1, num+1):\n",
    "        squ_sum.append(i**2)\n",
    "        sum_squ.append(i)\n",
    "    print(sum(squ_sum))\n",
    "    print(sum(sum_squ) * sum(sum_squ))\n",
    "n = int(input('정수를 입력하세요 곱해드립니다.> '))\n",
    "squ(n)\n",
    "    "
   ]
  },
  {
   "cell_type": "markdown",
   "metadata": {},
   "source": [
    "#### 2. a + b + c = 1000 인 피타고라스 수를 구하시오.  즉, a*a + b*b = c*c 을 만족하고  a < b < c 이고, a + b > c 이다."
   ]
  },
  {
   "cell_type": "code",
   "execution_count": 5,
   "metadata": {},
   "outputs": [
    {
     "name": "stdout",
     "output_type": "stream",
     "text": [
      "200 375 425\n"
     ]
    }
   ],
   "source": [
    "def pytha(n):\n",
    "    for a in range(1, n):\n",
    "        for b in range(1, n):\n",
    "            c = n - (a + b)\n",
    "            if a**2 + b**2 == c**2 and a < b < c and a + b > c:\n",
    "                print(a, b, c)\n",
    "                \n",
    "pytha(1000)"
   ]
  },
  {
   "cell_type": "markdown",
   "metadata": {},
   "source": [
    "##### 3. 디지털 시계에 하루동안(00:00~23:59) 3이 표시되는 시간을 초로 환산하면 총 몇 초(second) 인가?"
   ]
  },
  {
   "cell_type": "code",
   "execution_count": 9,
   "metadata": {},
   "outputs": [
    {
     "name": "stdout",
     "output_type": "stream",
     "text": [
      "22145400\n"
     ]
    }
   ],
   "source": [
    "def count_time(n):\n",
    "    item = []\n",
    "    for hour in range(0, 24):\n",
    "        for minute in range(0, 60):\n",
    "            time = str(hour) + ':' + str(minute)\n",
    "            if str(n) in time:\n",
    "                second = hour * 60 * 60 + minute * 60\n",
    "                item.append(second)\n",
    "    print(sum(item))\n",
    "count_time(3)\n",
    "            "
   ]
  },
  {
   "cell_type": "markdown",
   "metadata": {},
   "source": [
    "#### 4. 1에서 1000까지 각 숫자의 갯수를 구하시오.\n",
    "\n",
    "    예) 10 ~ 15\n",
    "\n",
    "         10 => 1, 0\n",
    "\n",
    "         11 => 1, 1\n",
    "\n",
    "         12 => 1, 2\n",
    "\n",
    "         13 => 1, 3\n",
    "\n",
    "         14 => 1, 4\n",
    "\n",
    "         15 => 1, 5\n",
    "\n",
    "    즉, 0: 1개, 1: 7개, 2: 1개, 3: 1개, 4: 1개, 5: 1개"
   ]
  },
  {
   "cell_type": "code",
   "execution_count": 11,
   "metadata": {},
   "outputs": [
    {
     "name": "stdout",
     "output_type": "stream",
     "text": [
      "1 301\n",
      "2 300\n",
      "3 300\n",
      "4 300\n",
      "5 300\n",
      "6 300\n",
      "7 300\n",
      "8 300\n",
      "9 300\n",
      "0 192\n"
     ]
    }
   ],
   "source": [
    "def count_number(n):\n",
    "    obj = {}\n",
    "    for i in range(1, n+1):\n",
    "        for k in str(i):\n",
    "            if k in obj.keys():\n",
    "                obj[k] += 1\n",
    "            else:\n",
    "                obj.update({k: 1})\n",
    "    for k, v in obj.items():\n",
    "        print(k, v)\n",
    "        \n",
    "count_number(1000)"
   ]
  },
  {
   "cell_type": "markdown",
   "metadata": {},
   "source": [
    "#### 5. 세자리 수를 곱해 만들 수 있는 가장 큰 대칭수(palindrome)와 세자리 수를 구하시오. \n",
    "    단, 대칭수는 12321과 같은 수를 의미함."
   ]
  },
  {
   "cell_type": "code",
   "execution_count": 13,
   "metadata": {},
   "outputs": [
    {
     "name": "stdout",
     "output_type": "stream",
     "text": [
      "906609\n"
     ]
    }
   ],
   "source": [
    "def is_pallin(n):\n",
    "    num = str(n)\n",
    "    if len(num) < 2:\n",
    "        return True\n",
    "    if num[0] != num[-1]:\n",
    "        return False\n",
    "    else:\n",
    "        return is_pallin(num[1:-1])\n",
    "    \n",
    "def pallin(n):\n",
    "    nums = []\n",
    "    for i in range(100, n):\n",
    "        for k in range(100, n):\n",
    "            p = i * k\n",
    "            if is_pallin(p) == True:\n",
    "                if p not in nums:\n",
    "                    nums.append(p)\n",
    "    print(max(nums))\n",
    "    \n",
    "pallin(1000)    "
   ]
  },
  {
   "cell_type": "code",
   "execution_count": null,
   "metadata": {},
   "outputs": [],
   "source": []
  }
 ],
 "metadata": {
  "kernelspec": {
   "display_name": "Python 3",
   "language": "python",
   "name": "python3"
  },
  "language_info": {
   "codemirror_mode": {
    "name": "ipython",
    "version": 3
   },
   "file_extension": ".py",
   "mimetype": "text/x-python",
   "name": "python",
   "nbconvert_exporter": "python",
   "pygments_lexer": "ipython3",
   "version": "3.8.3"
  }
 },
 "nbformat": 4,
 "nbformat_minor": 4
}
