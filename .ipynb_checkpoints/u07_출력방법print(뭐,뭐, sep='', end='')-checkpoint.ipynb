{
 "cells": [
  {
   "cell_type": "markdown",
   "metadata": {},
   "source": [
    "# 값을 여러 개 출력하기 "
   ]
  },
  {
   "cell_type": "markdown",
   "metadata": {},
   "source": [
    "print(값1, 값2, 값3)  \n",
    "print(변수1, 변수2, 변수3)"
   ]
  },
  {
   "cell_type": "code",
   "execution_count": 2,
   "metadata": {},
   "outputs": [
    {
     "name": "stdout",
     "output_type": "stream",
     "text": [
      "1 2 3\n",
      "Hello Python\n"
     ]
    }
   ],
   "source": [
    " #print에 변수나 값을 콤마로 구분해서 넣으면 각 값이 '공백으로 띄워져서' \"한 줄\"로 출력\n",
    "print(1, 2, 3)               \n",
    "print('Hello','Python')"
   ]
  },
  {
   "cell_type": "markdown",
   "metadata": {},
   "source": [
    "###  sep로 값 사이에 문자 넣기 (separator 구분자)\n",
    "print(값1, 값2, sep='문자 또는 문자열')  \n",
    "print(변수1, 변수2, sep='문자 또는 문자열')"
   ]
  },
  {
   "cell_type": "code",
   "execution_count": 3,
   "metadata": {},
   "outputs": [
    {
     "name": "stdout",
     "output_type": "stream",
     "text": [
      "1, 2, 3\n"
     ]
    }
   ],
   "source": [
    "print(1, 2, 3, sep=', ')  # sep에 콤마와 공백을 지정"
   ]
  },
  {
   "cell_type": "code",
   "execution_count": 4,
   "metadata": {},
   "outputs": [
    {
     "name": "stdout",
     "output_type": "stream",
     "text": [
      "4,5,6\n"
     ]
    }
   ],
   "source": [
    "print(4, 5, 6, sep=',')  # sep에 콤마만 지정"
   ]
  },
  {
   "cell_type": "code",
   "execution_count": 5,
   "metadata": {},
   "outputs": [
    {
     "name": "stdout",
     "output_type": "stream",
     "text": [
      "HelloPython\n"
     ]
    }
   ],
   "source": [
    "print('Hello', 'Python', sep='') # sep에 빈 문자열을 지정 ___ 붙어서 나옴'ㅁ'"
   ]
  },
  {
   "cell_type": "code",
   "execution_count": 6,
   "metadata": {},
   "outputs": [
    {
     "name": "stdout",
     "output_type": "stream",
     "text": [
      "1920x1080\n"
     ]
    }
   ],
   "source": [
    "print(1920, 1080, sep='x')  # sep에 x를 지정 (일반적인 문자도 가능)"
   ]
  },
  {
   "cell_type": "markdown",
   "metadata": {},
   "source": [
    "### 줄바꿈 개행"
   ]
  },
  {
   "cell_type": "code",
   "execution_count": 7,
   "metadata": {},
   "outputs": [
    {
     "name": "stdout",
     "output_type": "stream",
     "text": [
      "1 2 3\n"
     ]
    }
   ],
   "source": [
    "print(1, 2, 3)      # print는 한줄로 출력"
   ]
  },
  {
   "cell_type": "code",
   "execution_count": 8,
   "metadata": {},
   "outputs": [
    {
     "name": "stdout",
     "output_type": "stream",
     "text": [
      "1\n",
      "2\n",
      "3\n"
     ]
    }
   ],
   "source": [
    "print(1, 2, 3, sep='\\n')  #줄바꿈 \\n을 sep에 지정(제어문자이므로 화면에 출력되지 않음)"
   ]
  },
  {
   "cell_type": "code",
   "execution_count": 9,
   "metadata": {},
   "outputs": [
    {
     "name": "stdout",
     "output_type": "stream",
     "text": [
      "1\n",
      "2\n",
      "3\n"
     ]
    }
   ],
   "source": [
    "print('1\\n2\\n3')  #이것또한 같은결과 ㅋ"
   ]
  },
  {
   "cell_type": "markdown",
   "metadata": {},
   "source": [
    "#### 제어문자\n",
    "\\n: 다음 줄로 이동하며 개행이라고도 부릅니다.  \n",
    "\\t: 탭 문자, 키보드의 Tab 키와 같으며 여러 칸을 띄웁니다.  \n",
    "\\\\: \\ 문자 자체를 출력할 때는 \\를 두 번 써야 합니다."
   ]
  },
  {
   "cell_type": "markdown",
   "metadata": {},
   "source": [
    "### 줄바꿈의 반대 ㅋㅋ 한줄로 출력 end\n",
    "print(값, end='문자 또는 문자열')  \n",
    "print(변수, end='문자 또는 문자열')"
   ]
  },
  {
   "cell_type": "code",
   "execution_count": 12,
   "metadata": {},
   "outputs": [
    {
     "name": "stdout",
     "output_type": "stream",
     "text": [
      "1\n",
      "2\n",
      "3\n"
     ]
    }
   ],
   "source": [
    "print(1)\n",
    "print(2)\n",
    "print(3)  # 원래는 각각 3줄이 출력되는데"
   ]
  },
  {
   "cell_type": "code",
   "execution_count": 13,
   "metadata": {},
   "outputs": [
    {
     "name": "stdout",
     "output_type": "stream",
     "text": [
      "123\n"
     ]
    }
   ],
   "source": [
    "#end를 넣어 ''빈문자열을 지정하면 한줄로 출력됨. \n",
    "#본적으로 print의 end에 \\n이 지정된 상태인데 \n",
    "#빈 문자열을 지정하면 강제로 \\n을 지워주기 때문입니다.\n",
    "print(1, end='') \n",
    "print(2, end='') # ' '공백1칸을 넣으면 사이가 띄워짐\n",
    "print(3)"
   ]
  },
  {
   "cell_type": "markdown",
   "metadata": {},
   "source": [
    "# 코딩도장 퀴즈"
   ]
  },
  {
   "cell_type": "markdown",
   "metadata": {},
   "source": [
    "#### 1. 다음 중 3.1 Python 100을 한 줄에 출력하는 방법\n",
    "print(3.1, 'Python', 100)  \n",
    "\n",
    "틀린것  \n",
    "a. print(3.1 Python 100)  \n",
    "b. print(3.1)  \n",
    "   print('Python')  \n",
    "   print(100)  \n",
    "c. print(3.1, Python, 100)  \n",
    "e. print(3.1; 'Python'; 100)  \n",
    "print에서 값 여러 개를 출력할 때는 값을 콤마로 구분해서 넣어줍니다.  \n",
    "그리고 문자열은 ' '(작은따옴표)로 묶어야 합니다."
   ]
  },
  {
   "cell_type": "markdown",
   "metadata": {},
   "source": [
    "#### 2. 다음 중 16:9를 출력하는 방법으로 올바른 것\n",
    "print(16, 9, sep=':')\n",
    "\n",
    "틀린것  \n",
    "print(16:9)      #이것은 SyntaxError  \n",
    "print(16, 9)             # 16 9 출력됨  \n",
    "print(16, 9, end=':')   # 16 9: 로 출력됨  \n",
    "print(16, :, 9)        # ':'스트링처리안해서 SyntaxError"
   ]
  },
  {
   "cell_type": "markdown",
   "metadata": {},
   "source": [
    "#### 3. 다음 중 'Hello'와 'Python'을 두 줄로 출력하는 방법으로 올바른 것\n",
    "print('Hello\\nPython')  \n",
    "print('Hello', 'Python', sep='\\n')  \n",
    "print('Hello', '\\n', 'Python', sep='')  \n",
    "\n",
    "print로 'Hello'와 'Python'을 두 줄로 출력하려면  \n",
    "문자열 사이에 \\n을 넣거나 sep에 \\n을 지정합니다.  \n",
    "또는 print에 'Hello', '\\n', 'Python'을 콤마로 구분해서 넣고  \n",
    "sep에 빈 문자열을 지정해도 됩니다.  \n",
    "\n",
    "틀린것  \n",
    "print('Hello', 'Python')   # 한줄출력됨  \n",
    "print('Hello', 'Python', end='\\n')  #end는 아님"
   ]
  },
  {
   "cell_type": "markdown",
   "metadata": {},
   "source": [
    "# 코딩도장 연습문제"
   ]
  },
  {
   "cell_type": "code",
   "execution_count": 16,
   "metadata": {},
   "outputs": [
    {
     "name": "stdout",
     "output_type": "stream",
     "text": [
      "2000/10/27 11:43:59\n"
     ]
    }
   ],
   "source": [
    "year = 2000\n",
    "month = 10\n",
    "day = 27\n",
    "hour = 11\n",
    "minute = 43\n",
    "second = 59\n",
    "\n",
    "print(year, month, day, sep='/', end=' ')\n",
    "print(hour, minute, second, sep=':')"
   ]
  },
  {
   "cell_type": "markdown",
   "metadata": {},
   "source": [
    "해설  \n",
    "날짜와 시간이 한 줄로 출력되고 있고, 날짜와 시간 사이에는 공백이 들어있습니다.  \n",
    "먼저 날짜는 /로 구분하고 있으므로 sep에 '/'를 지정합니다.  \n",
    "그리고 공백이 출력되면서 그 다음에 오는 print의 결과가 한 줄로 출력될 수 있도록 end에 ' '를 지정합니다.  \n",
    "시간은 :로 구분하고 있으므로 sep에 ':'를 지정하면 됩니다."
   ]
  },
  {
   "cell_type": "code",
   "execution_count": 20,
   "metadata": {},
   "outputs": [
    {
     "name": "stdout",
     "output_type": "stream",
     "text": [
      "1999 12 31 10 37 21\n",
      "1999-12-31 T 10:37:21\n"
     ]
    }
   ],
   "source": [
    "year, month, day, hour, minute, second = input().split()\n",
    "print(year, month, day, sep='-', end='T')\n",
    "print(hour, minute, second, sep=':')"
   ]
  },
  {
   "cell_type": "markdown",
   "metadata": {},
   "source": [
    "해설  \n",
    "년, 월, 일, 시, 분, 초를 년-월-일T시:분:초 형식으로 출력해야 합니다.  \n",
    "먼저 시간은 print(hour, minute, second, sep=':')와 같이 이미 출력하고 있습니다.  \n",
    "따라서 날짜만 출력하면 됩니다.  \n",
    "날짜는 년-월-일 형식이므로 print에 year, month, day를 넣고 sep에 '-'를 지정하여 -로 구분해줍니다.  \n",
    "그다음에 날짜와 시간 사이에 Tend'T'를 지정합니다"
   ]
  },
  {
   "cell_type": "code",
   "execution_count": 22,
   "metadata": {},
   "outputs": [
    {
     "name": "stdout",
     "output_type": "stream",
     "text": [
      "1999 12 31 10 37 21\n",
      "1999/12/31 10:37:21\n"
     ]
    }
   ],
   "source": [
    "input().split()\n",
    "print(year, month, day, sep='/', end=' ')\n",
    "print(hour, minute, second, sep=':')"
   ]
  }
 ],
 "metadata": {
  "kernelspec": {
   "display_name": "Python 3",
   "language": "python",
   "name": "python3"
  },
  "language_info": {
   "codemirror_mode": {
    "name": "ipython",
    "version": 3
   },
   "file_extension": ".py",
   "mimetype": "text/x-python",
   "name": "python",
   "nbconvert_exporter": "python",
   "pygments_lexer": "ipython3",
   "version": "3.8.3"
  }
 },
 "nbformat": 4,
 "nbformat_minor": 4
}
