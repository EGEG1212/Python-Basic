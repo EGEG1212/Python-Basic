{
 "cells": [
  {
   "cell_type": "markdown",
   "metadata": {},
   "source": [
    "# unit 22. 리스트와 튜플 응용하기"
   ]
  },
  {
   "cell_type": "markdown",
   "metadata": {},
   "source": [
    "### 리스트조작"
   ]
  },
  {
   "cell_type": "code",
   "execution_count": 1,
   "metadata": {},
   "outputs": [
    {
     "data": {
      "text/plain": [
       "[10, 20, 30, 500]"
      ]
     },
     "execution_count": 1,
     "metadata": {},
     "output_type": "execute_result"
    }
   ],
   "source": [
    "a = [10, 20, 30]\n",
    "a.append(500)         #예쁘게 추가됨ㅎ append: 요소 하나를 추가\n",
    "a"
   ]
  },
  {
   "cell_type": "code",
   "execution_count": 4,
   "metadata": {},
   "outputs": [
    {
     "data": {
      "text/plain": [
       "[10, 20, 30, 500, [3, 4], [3, 4], [3, 4]]"
      ]
     },
     "execution_count": 4,
     "metadata": {},
     "output_type": "execute_result"
    }
   ],
   "source": [
    "a.append([3, 4])        #리스트추가\n",
    "a"
   ]
  },
  {
   "cell_type": "markdown",
   "metadata": {},
   "source": [
    "#memo\n",
    "for ___  행의갯수만큼\n",
    "\tx=[ ]\n",
    "\tfor ___열의 갯수만큼\n",
    " \t\tx.append"
   ]
  },
  {
   "cell_type": "code",
   "execution_count": 11,
   "metadata": {},
   "outputs": [],
   "source": [
    "# 3 x 6 list에 1~6 랜덤값 채우기_행3 열6 주사위 눈 (1~6) 외우기!!2차원리스트많이사용할예정\n",
    "\n",
    "import random as rd\n",
    "mat = []\n",
    "for i in range(3):        # 행의 갯수\n",
    "    row = []              #들어가기전 빈 리스트 만들기\n",
    "    for k in range(6):    #열의 갯수\n",
    "        row.append(rd.randint(1,6))\n",
    "    mat.append(row) #한줄만든거 append. 여기까지 만든것임 출력만하면 됨"
   ]
  },
  {
   "cell_type": "code",
   "execution_count": 12,
   "metadata": {},
   "outputs": [],
   "source": [
    "def print_matrix(mat):            #함수만들기;ㅁ; \n",
    "    for row in mat:\n",
    "        for element in row:\n",
    "            print(element, end=' ')\n",
    "        print()"
   ]
  },
  {
   "cell_type": "code",
   "execution_count": 13,
   "metadata": {},
   "outputs": [
    {
     "name": "stdout",
     "output_type": "stream",
     "text": [
      "4 5 1 3 3 1 \n",
      "5 6 2 3 4 5 \n",
      "2 3 6 4 3 4 \n"
     ]
    }
   ],
   "source": [
    "print_matrix(mat)   #행의갯수만큼이 lenght"
   ]
  },
  {
   "cell_type": "code",
   "execution_count": 14,
   "metadata": {},
   "outputs": [],
   "source": [
    "# Old-fashioned  같은결과 옛날방법\n",
    "def old_print_matrix(mat): #숫자가오면 함수가안됨(임의의것을 출력해야하니까)\n",
    "    for i in range(len(mat)):   #길이가 되겠다..\n",
    "        for k in range(len(mat[0])): #매트릭스의 제로를 구하면 6이나옴?\n",
    "            print(mat[i][k], end=' ')\n",
    "        print()"
   ]
  },
  {
   "cell_type": "code",
   "execution_count": 15,
   "metadata": {},
   "outputs": [
    {
     "name": "stdout",
     "output_type": "stream",
     "text": [
      "4 5 1 3 3 1 \n",
      "5 6 2 3 4 5 \n",
      "2 3 6 4 3 4 \n"
     ]
    }
   ],
   "source": [
    "old_print_matrix(mat)"
   ]
  },
  {
   "cell_type": "code",
   "execution_count": 16,
   "metadata": {},
   "outputs": [
    {
     "data": {
      "text/plain": [
       "[3, 4]"
      ]
     },
     "execution_count": 16,
     "metadata": {},
     "output_type": "execute_result"
    }
   ],
   "source": [
    "# 리스트의 엘리먼트 삭제\n",
    "a.pop()      #끝에있는거 뱉어내고 삭제 ㅋㅋㅋ(중간삭제는 del)(특정값삭제는 remove)"
   ]
  },
  {
   "cell_type": "code",
   "execution_count": 17,
   "metadata": {},
   "outputs": [
    {
     "data": {
      "text/plain": [
       "[10, 20, 30, 500, [3, 4], [3, 4]]"
      ]
     },
     "execution_count": 17,
     "metadata": {},
     "output_type": "execute_result"
    }
   ],
   "source": [
    "a"
   ]
  },
  {
   "cell_type": "code",
   "execution_count": 18,
   "metadata": {},
   "outputs": [
    {
     "data": {
      "text/plain": [
       "[3, 4]"
      ]
     },
     "execution_count": 18,
     "metadata": {},
     "output_type": "execute_result"
    }
   ],
   "source": [
    "a.pop()"
   ]
  },
  {
   "cell_type": "code",
   "execution_count": 19,
   "metadata": {},
   "outputs": [
    {
     "data": {
      "text/plain": [
       "[3, 4]"
      ]
     },
     "execution_count": 19,
     "metadata": {},
     "output_type": "execute_result"
    }
   ],
   "source": [
    "a.pop()"
   ]
  },
  {
   "cell_type": "code",
   "execution_count": 20,
   "metadata": {},
   "outputs": [
    {
     "data": {
      "text/plain": [
       "[10, 20, 30, 500]"
      ]
     },
     "execution_count": 20,
     "metadata": {},
     "output_type": "execute_result"
    }
   ],
   "source": [
    "a"
   ]
  },
  {
   "cell_type": "markdown",
   "metadata": {},
   "source": [
    "# Stack Last-In, First-Out \n",
    "### 들어가는위치 나오는위치가 같으면 \n",
    "### (엘베늦게탔는데먼저나옴)\n",
    "\n",
    "# Queue First-In, First-Out \n",
    "### 줄서기입장 \n",
    "### (먼저들어간사람이 먼저나옴)"
   ]
  },
  {
   "cell_type": "markdown",
   "metadata": {},
   "source": [
    "#### array는 늘리고 줄이고가 안되서 나온게 \n",
    "#### collections 복잡한 자료구조\n",
    "#### deque 양쪽사이드 양방향 차도로같이............(어펜드 팝 레프트라이트)\n",
    "#### 스택을만들때 "
   ]
  },
  {
   "cell_type": "code",
   "execution_count": 22,
   "metadata": {},
   "outputs": [
    {
     "data": {
      "text/plain": [
       "[10, 20, 30, 500]"
      ]
     },
     "execution_count": 22,
     "metadata": {},
     "output_type": "execute_result"
    }
   ],
   "source": [
    "a"
   ]
  },
  {
   "cell_type": "code",
   "execution_count": 21,
   "metadata": {},
   "outputs": [
    {
     "data": {
      "text/plain": [
       "2"
      ]
     },
     "execution_count": 21,
     "metadata": {},
     "output_type": "execute_result"
    }
   ],
   "source": [
    "a.index(30)   #0 1 2 순서로"
   ]
  },
  {
   "cell_type": "code",
   "execution_count": 23,
   "metadata": {},
   "outputs": [
    {
     "data": {
      "text/plain": [
       "[10, 20, 30, 500, 20]"
      ]
     },
     "execution_count": 23,
     "metadata": {},
     "output_type": "execute_result"
    }
   ],
   "source": [
    "a.append(20)   #20을 맨 뒤에 추가했고 \n",
    "a "
   ]
  },
  {
   "cell_type": "code",
   "execution_count": 24,
   "metadata": {},
   "outputs": [
    {
     "data": {
      "text/plain": [
       "2"
      ]
     },
     "execution_count": 24,
     "metadata": {},
     "output_type": "execute_result"
    }
   ],
   "source": [
    "a.count(20)  #20이 몇개냐 물으니, 2개입니다~_~"
   ]
  },
  {
   "cell_type": "markdown",
   "metadata": {},
   "source": [
    "### 순서뒤집기 reversed 는 함수\n",
    "### 여기서 reverse 메소드입니다(사용방법이다름)"
   ]
  },
  {
   "cell_type": "code",
   "execution_count": 25,
   "metadata": {},
   "outputs": [
    {
     "data": {
      "text/plain": [
       "[20, 500, 30, 20, 10]"
      ]
     },
     "execution_count": 25,
     "metadata": {},
     "output_type": "execute_result"
    }
   ],
   "source": [
    "a.reverse()\n",
    "a"
   ]
  },
  {
   "cell_type": "markdown",
   "metadata": {},
   "source": [
    "###  ... 교수님설명.. \n",
    "a = [3,6,5,4,2,2] 인덱스\n",
    "\n",
    "for i in range(len(a)):   #이 방법보다는\n",
    "\ta[i]\n",
    "\n",
    "for e in a :    #이 방법이 훨씬 쉬운..\n",
    "\te\n"
   ]
  },
  {
   "cell_type": "code",
   "execution_count": 26,
   "metadata": {},
   "outputs": [
    {
     "data": {
      "text/plain": [
       "[10, 20, 20, 30, 500]"
      ]
     },
     "execution_count": 26,
     "metadata": {},
     "output_type": "execute_result"
    }
   ],
   "source": [
    "#리스트정렬\n",
    "a.sort()    #그냥순서대로sort\n",
    "a"
   ]
  },
  {
   "cell_type": "code",
   "execution_count": 27,
   "metadata": {},
   "outputs": [
    {
     "data": {
      "text/plain": [
       "[500, 30, 20, 20, 10]"
      ]
     },
     "execution_count": 27,
     "metadata": {},
     "output_type": "execute_result"
    }
   ],
   "source": [
    "a.sort(reverse=True)   #내림차순reverse=True\n",
    "a"
   ]
  },
  {
   "cell_type": "code",
   "execution_count": 28,
   "metadata": {},
   "outputs": [
    {
     "data": {
      "text/plain": [
       "[10, 15, 20, 20, 30, 40]"
      ]
     },
     "execution_count": 28,
     "metadata": {},
     "output_type": "execute_result"
    }
   ],
   "source": [
    "a = [10, 20, 30, 15, 20, 40] \n",
    "a.sort()               #그냥순서대로sort\n",
    "a"
   ]
  },
  {
   "cell_type": "code",
   "execution_count": 29,
   "metadata": {},
   "outputs": [
    {
     "data": {
      "text/plain": [
       "[10, 15, 20, 20, 30, 40]"
      ]
     },
     "execution_count": 29,
     "metadata": {},
     "output_type": "execute_result"
    }
   ],
   "source": [
    "b = [10, 20, 30, 15, 20, 40]  #뒤죽박죽내용을 sort완전순서대로 바꿔 보여주기만한다!!\n",
    "sorted(b)"
   ]
  },
  {
   "cell_type": "code",
   "execution_count": 30,
   "metadata": {},
   "outputs": [
    {
     "data": {
      "text/plain": [
       "[10, 20, 30, 15, 20, 40]"
      ]
     },
     "execution_count": 30,
     "metadata": {},
     "output_type": "execute_result"
    }
   ],
   "source": [
    "b                        #봐라, 그대로지?ㅋㅋ"
   ]
  },
  {
   "cell_type": "code",
   "execution_count": 31,
   "metadata": {},
   "outputs": [
    {
     "ename": "IndexError",
     "evalue": "list assignment index out of range",
     "output_type": "error",
     "traceback": [
      "\u001b[1;31m---------------------------------------------------------------------------\u001b[0m",
      "\u001b[1;31mIndexError\u001b[0m                                Traceback (most recent call last)",
      "\u001b[1;32m<ipython-input-31-1134f1e046f2>\u001b[0m in \u001b[0;36m<module>\u001b[1;34m\u001b[0m\n\u001b[0;32m      1\u001b[0m \u001b[0ma\u001b[0m \u001b[1;33m=\u001b[0m \u001b[1;33m[\u001b[0m\u001b[1;36m10\u001b[0m\u001b[1;33m,\u001b[0m \u001b[1;36m20\u001b[0m\u001b[1;33m,\u001b[0m \u001b[1;36m30\u001b[0m\u001b[1;33m]\u001b[0m\u001b[1;33m\u001b[0m\u001b[1;33m\u001b[0m\u001b[0m\n\u001b[1;32m----> 2\u001b[1;33m \u001b[0ma\u001b[0m\u001b[1;33m[\u001b[0m\u001b[1;36m3\u001b[0m\u001b[1;33m]\u001b[0m \u001b[1;33m=\u001b[0m \u001b[1;36m40\u001b[0m   \u001b[1;31m#이렇게하면 에러가난다.. 당연\u001b[0m\u001b[1;33m\u001b[0m\u001b[1;33m\u001b[0m\u001b[0m\n\u001b[0m",
      "\u001b[1;31mIndexError\u001b[0m: list assignment index out of range"
     ]
    }
   ],
   "source": [
    "a = [10, 20, 30]\n",
    "a[3] = 40   #이렇게하면 에러가난다.. 당연"
   ]
  },
  {
   "cell_type": "code",
   "execution_count": 32,
   "metadata": {},
   "outputs": [
    {
     "data": {
      "text/plain": [
       "[10, 20, 30, 40]"
      ]
     },
     "execution_count": 32,
     "metadata": {},
     "output_type": "execute_result"
    }
   ],
   "source": [
    "a[3:] = [40]  #그런데 이렇게 하면 에러가 안난다 ^^\n",
    "a"
   ]
  },
  {
   "cell_type": "code",
   "execution_count": 35,
   "metadata": {},
   "outputs": [
    {
     "data": {
      "text/plain": [
       "[10, 20, 30, 40, 50]"
      ]
     },
     "execution_count": 35,
     "metadata": {},
     "output_type": "execute_result"
    }
   ],
   "source": [
    "a[4:] = (50,) #마지막슬라이스:에서 반복가능한놈을 (50, )입력하면 허용해준다\n",
    "a"
   ]
  },
  {
   "cell_type": "markdown",
   "metadata": {},
   "source": [
    "# 리스트 할당과 복사"
   ]
  },
  {
   "cell_type": "code",
   "execution_count": 36,
   "metadata": {},
   "outputs": [],
   "source": [
    "a = [0, 0, 0, 0, 0]      #0으로 이루어진 리스트를 만들고\n",
    "b = a                       #복사"
   ]
  },
  {
   "cell_type": "code",
   "execution_count": 37,
   "metadata": {},
   "outputs": [
    {
     "data": {
      "text/plain": [
       "[0, 0, 0, 0, 0]"
      ]
     },
     "execution_count": 37,
     "metadata": {},
     "output_type": "execute_result"
    }
   ],
   "source": [
    "b"
   ]
  },
  {
   "cell_type": "code",
   "execution_count": 40,
   "metadata": {},
   "outputs": [
    {
     "data": {
      "text/plain": [
       "[0, 0, 2, 0, 0]"
      ]
     },
     "execution_count": 40,
     "metadata": {},
     "output_type": "execute_result"
    }
   ],
   "source": [
    "b[2] = 2                   #b의 2번째를 2로 바꿔줬는데\n",
    "b"
   ]
  },
  {
   "cell_type": "code",
   "execution_count": 41,
   "metadata": {},
   "outputs": [
    {
     "data": {
      "text/plain": [
       "[0, 0, 2, 0, 0]"
      ]
     },
     "execution_count": 41,
     "metadata": {},
     "output_type": "execute_result"
    }
   ],
   "source": [
    "a             #오잉 a도 똑같이 바뀌었네!?!?"
   ]
  },
  {
   "cell_type": "markdown",
   "metadata": {},
   "source": [
    "### 같은 객체의 위치를 a도 b도 가르키고(pointing) 있어서 그렇다\n",
    "변수는 .. 가르키기만 하는 포인터다"
   ]
  },
  {
   "cell_type": "code",
   "execution_count": 42,
   "metadata": {},
   "outputs": [
    {
     "data": {
      "text/plain": [
       "True"
      ]
     },
     "execution_count": 42,
     "metadata": {},
     "output_type": "execute_result"
    }
   ],
   "source": [
    "a is b    #객체가 같으냐(포인팅이 같냐)물으니 맞다고!!!!"
   ]
  },
  {
   "cell_type": "code",
   "execution_count": 43,
   "metadata": {},
   "outputs": [
    {
     "data": {
      "text/plain": [
       "[0, 0, 0, 0, 0]"
      ]
     },
     "execution_count": 43,
     "metadata": {},
     "output_type": "execute_result"
    }
   ],
   "source": [
    "#완전 다른 놈으로 복사 하고싶으면\n",
    "a = [0, 0, 0, 0, 0]      #0으로 이루어진 리스트를 만들고\n",
    "b = a.copy()        #a.copy()를 하면 _list객체 카피(a가 가르키고있는 리스트와 b가 가르키고있는리스트가 각각생김)\n",
    "b[2] = 2            \n",
    "a                    # 띠로리~ 안바뀜!! "
   ]
  },
  {
   "cell_type": "code",
   "execution_count": 44,
   "metadata": {},
   "outputs": [
    {
     "data": {
      "text/plain": [
       "False"
      ]
     },
     "execution_count": 44,
     "metadata": {},
     "output_type": "execute_result"
    }
   ],
   "source": [
    "a is b      #객체가 같지 않다고 한다! 으히히히 copy"
   ]
  },
  {
   "cell_type": "markdown",
   "metadata": {},
   "source": [
    "### 반복문으로 출력하기"
   ]
  },
  {
   "cell_type": "code",
   "execution_count": 45,
   "metadata": {},
   "outputs": [
    {
     "name": "stdout",
     "output_type": "stream",
     "text": [
      "0 10\n",
      "1 20\n",
      "2 30\n",
      "3 40\n"
     ]
    }
   ],
   "source": [
    "a = [10, 20, 30, 40]     #인덱스까지 알고싶다 (인덱스가 궁금해질 때)\n",
    "for index, value in enumerate(a):\n",
    "    print(index, value)"
   ]
  },
  {
   "cell_type": "markdown",
   "metadata": {},
   "source": [
    "## 22.3.3  while반복문으로 요소 출력하기 \n",
    "### 이건 미친짓이다(교수님 왈)"
   ]
  },
  {
   "cell_type": "markdown",
   "metadata": {},
   "source": [
    "### 유용한 함수"
   ]
  },
  {
   "cell_type": "code",
   "execution_count": 50,
   "metadata": {},
   "outputs": [
    {
     "name": "stdout",
     "output_type": "stream",
     "text": [
      "5\n"
     ]
    }
   ],
   "source": [
    "# 가장 작은 수는 ? #가장작은 수를 찾아낼때\n",
    "a = [10, 20, 30, 40, 5]  \n",
    "small = a[0]                #미니멈을 a의 0번째로\n",
    "for i in range(1, len(a)):\n",
    "    if a[i] < small:        # a[i]값이 미니멈보다 작으면\n",
    "        small = a[i]        #그것이 미니멈이다\n",
    "print(small)                #그것을 출력한다"
   ]
  },
  {
   "cell_type": "code",
   "execution_count": 1,
   "metadata": {},
   "outputs": [
    {
     "name": "stdout",
     "output_type": "stream",
     "text": [
      "5 40\n"
     ]
    }
   ],
   "source": [
    "# 가장 작은 수와 가장 큰수 구하기 \n",
    "a = [10, 20, 30, 40, 5]  \n",
    "small = a[0]                #미니멈을 a의 0번째로\n",
    "large = a[0]\n",
    "for i in range(1, len(a)):\n",
    "    if a[i] < small:        # a[i]값이 미니멈보다 작으면\n",
    "        small = a[i]        #그것이 미니멈이다\n",
    "    if a[i] > large:\n",
    "        large = a[i]\n",
    "print(small, large)        "
   ]
  },
  {
   "cell_type": "code",
   "execution_count": 2,
   "metadata": {},
   "outputs": [
    {
     "name": "stdout",
     "output_type": "stream",
     "text": [
      "5 40\n"
     ]
    }
   ],
   "source": [
    "a.sort()         #또다른방법은 소팅을해서  첫번째 값, 끝 값\n",
    "print(a[0], a[-1])"
   ]
  },
  {
   "cell_type": "code",
   "execution_count": 5,
   "metadata": {},
   "outputs": [
    {
     "name": "stdout",
     "output_type": "stream",
     "text": [
      "19\n"
     ]
    }
   ],
   "source": [
    "a = [38, 21, 53, 62, 19]\n",
    "print(min(a))"
   ]
  },
  {
   "cell_type": "code",
   "execution_count": 4,
   "metadata": {},
   "outputs": [
    {
     "name": "stdout",
     "output_type": "stream",
     "text": [
      "62 193\n"
     ]
    }
   ],
   "source": [
    "print(max(a), sum(a))"
   ]
  },
  {
   "cell_type": "markdown",
   "metadata": {},
   "source": [
    "# 리스트표현식(list comprehension) \n",
    "### 잘쓰면 파이썬스러운코드이다♥"
   ]
  },
  {
   "cell_type": "code",
   "execution_count": 57,
   "metadata": {},
   "outputs": [
    {
     "data": {
      "text/plain": [
       "[1, 4, 9, 16, 25, 36, 49, 64, 81, 100]"
      ]
     },
     "execution_count": 57,
     "metadata": {},
     "output_type": "execute_result"
    }
   ],
   "source": [
    "# 1에서 10까지 제곱수를 리스트로 만들기 (1 4 9 ...)\n",
    "sq = []           # 빈리스트 만들기\n",
    "for i in range(1, 11):\n",
    "    sq.append(i*i)\n",
    "sq"
   ]
  },
  {
   "cell_type": "code",
   "execution_count": 58,
   "metadata": {},
   "outputs": [
    {
     "data": {
      "text/plain": [
       "[1, 4, 9, 16, 25, 36, 49, 64, 81, 100]"
      ]
     },
     "execution_count": 58,
     "metadata": {},
     "output_type": "execute_result"
    }
   ],
   "source": [
    "sq_new = [i*i for i in range(1,11)]         #3줄을 1줄로줄였다! 고급진표현\n",
    "sq_new"
   ]
  },
  {
   "cell_type": "code",
   "execution_count": 59,
   "metadata": {},
   "outputs": [
    {
     "data": {
      "text/plain": [
       "[1, 9, 25, 49, 81]"
      ]
     },
     "execution_count": 59,
     "metadata": {},
     "output_type": "execute_result"
    }
   ],
   "source": [
    "#홀수\n",
    "sq_odd = [i*i for i in range(1,11) if i%2 == 1]    #for :콜론생략/ if :콜론생략\n",
    "sq_odd"
   ]
  },
  {
   "cell_type": "code",
   "execution_count": 61,
   "metadata": {},
   "outputs": [
    {
     "name": "stdout",
     "output_type": "stream",
     "text": [
      "[2, 4, 6, 8, 10, 12, 14, 16, 18, 3, 6, 9, 12, 15, 18, 21, 24, 27, 4, 8, 12, 16, 20, 24, 28, 32, 36, 5, 10, 15, 20, 25, 30, 35, 40, 45, 6, 12, 18, 24, 30, 36, 42, 48, 54, 7, 14, 21, 28, 35, 42, 49, 56, 63, 8, 16, 24, 32, 40, 48, 56, 64, 72, 9, 18, 27, 36, 45, 54, 63, 72, 81]\n"
     ]
    }
   ],
   "source": [
    "a = [i * k for i  in range(2, 10) \n",
    "            for k in range(1, 10)]\n",
    "print(a)      #그냥 a찍으면 세로로주르륵너무길고, print(a) 찍으니 가로로나왔다"
   ]
  },
  {
   "cell_type": "markdown",
   "metadata": {},
   "source": [
    "# map 함수"
   ]
  },
  {
   "cell_type": "code",
   "execution_count": 6,
   "metadata": {},
   "outputs": [
    {
     "data": {
      "text/plain": [
       "[1, 2, 3, 4]"
      ]
     },
     "execution_count": 6,
     "metadata": {},
     "output_type": "execute_result"
    }
   ],
   "source": [
    "a = [1.2, 2.5, 3.7, 4.6]\n",
    "for i in range(len(a)):\n",
    "    a[i] = int(a[i])\n",
    "a"
   ]
  },
  {
   "cell_type": "code",
   "execution_count": 7,
   "metadata": {},
   "outputs": [
    {
     "data": {
      "text/plain": [
       "[1, 2, 4, 5]"
      ]
     },
     "execution_count": 7,
     "metadata": {},
     "output_type": "execute_result"
    }
   ],
   "source": [
    "#int할때 반올림하고 싶다면!  round로 바꿔준다.\n",
    "a = [1.2, 2.5, 3.7, 4.6]\n",
    "for i in range(len(a)):\n",
    "    a[i] = round(a[i])\n",
    "a"
   ]
  },
  {
   "cell_type": "code",
   "execution_count": 8,
   "metadata": {},
   "outputs": [
    {
     "data": {
      "text/plain": [
       "[1, 3, 4, 5]"
      ]
     },
     "execution_count": 8,
     "metadata": {},
     "output_type": "execute_result"
    }
   ],
   "source": [
    "#int할때 반올림하고 싶다면!  +0.5하는방법도있는데.. 올드한방법\n",
    "a = [1.2, 2.5, 3.7, 4.6]\n",
    "for i in range(len(a)):\n",
    "    a[i] = int(a[i]+0.5)\n",
    "a"
   ]
  },
  {
   "cell_type": "code",
   "execution_count": 10,
   "metadata": {},
   "outputs": [
    {
     "name": "stdout",
     "output_type": "stream",
     "text": [
      "[1, 2, 3, 4]\n"
     ]
    }
   ],
   "source": [
    "a = [1.2, 2.5, 3.7, 4.6]\n",
    "a = list(map(int, a)) #튜플식으로 튕겨져 나오니까 list화 했다. \n",
    "print(a)"
   ]
  },
  {
   "cell_type": "code",
   "execution_count": 11,
   "metadata": {},
   "outputs": [
    {
     "name": "stdout",
     "output_type": "stream",
     "text": [
      "여러개의 정수> 10 20 30 40 50\n"
     ]
    },
    {
     "data": {
      "text/plain": [
       "[10, 20, 30, 40, 50]"
      ]
     },
     "execution_count": 11,
     "metadata": {},
     "output_type": "execute_result"
    }
   ],
   "source": [
    "#여러개 받을 수 있어요 input().split()\n",
    "\n",
    "x = list(map(int, input('여러개의 정수> ').split())) \n",
    "x"
   ]
  },
  {
   "cell_type": "code",
   "execution_count": 19,
   "metadata": {},
   "outputs": [
    {
     "name": "stdout",
     "output_type": "stream",
     "text": [
      "hh:mm:ss> 11:47:43\n",
      "11 47 43\n"
     ]
    }
   ],
   "source": [
    "# 시분초를입력하라\n",
    "hour, minute, second = map(int, input('hh:mm:ss> ').split(':'))\n",
    "print(hour, minute, second)"
   ]
  },
  {
   "cell_type": "code",
   "execution_count": 20,
   "metadata": {},
   "outputs": [
    {
     "name": "stdout",
     "output_type": "stream",
     "text": [
      "hh:mm:ss> 11:47:43\n",
      "hour=11, minute=47, second=43\n"
     ]
    }
   ],
   "source": [
    "# 시분초를입력하라 f스트링이용\n",
    "hour, minute, second = map(int, input('hh:mm:ss> ').split(':'))\n",
    "print(f'{hour=}, {minute=}, {second=}')"
   ]
  },
  {
   "cell_type": "code",
   "execution_count": 23,
   "metadata": {},
   "outputs": [
    {
     "name": "stdout",
     "output_type": "stream",
     "text": [
      "yy-mm-dd> 2020-10-30\n",
      "year=2020, month=10, day=30\n"
     ]
    }
   ],
   "source": [
    "# 년월일을 입력하라 f스트링이용\n",
    "year, month, day = map(int, input('yy-mm-dd> ').split('-'))\n",
    "print(f'{year=}, {month=}, {day=}')"
   ]
  },
  {
   "cell_type": "markdown",
   "metadata": {},
   "source": [
    "# 튜플"
   ]
  },
  {
   "cell_type": "code",
   "execution_count": 16,
   "metadata": {},
   "outputs": [
    {
     "data": {
      "text/plain": [
       "62"
      ]
     },
     "execution_count": 16,
     "metadata": {},
     "output_type": "execute_result"
    }
   ],
   "source": [
    "a = (38, 21, 53, 62, 19, 53)\n",
    "a[3]"
   ]
  },
  {
   "cell_type": "code",
   "execution_count": 17,
   "metadata": {},
   "outputs": [
    {
     "data": {
      "text/plain": [
       "1"
      ]
     },
     "execution_count": 17,
     "metadata": {},
     "output_type": "execute_result"
    }
   ],
   "source": [
    "a.count(21)"
   ]
  },
  {
   "cell_type": "code",
   "execution_count": 18,
   "metadata": {},
   "outputs": [
    {
     "name": "stdout",
     "output_type": "stream",
     "text": [
      "19 62 246\n"
     ]
    }
   ],
   "source": [
    "print(min(a), max(a), sum(a))"
   ]
  },
  {
   "cell_type": "markdown",
   "metadata": {},
   "source": [
    "### 코딩도장 퀴즈"
   ]
  },
  {
   "cell_type": "markdown",
   "metadata": {},
   "source": [
    "### 1. 리스트 a가 있을 때 다음 중 리스트 a.append(40)과 동작이 같은 것\n",
    "#### a.insert(len(a), 40)  리스트 끝에 40을 추가합니다.\n",
    "#### a[len(a):] = [40]  리스트 끝에서부터 시작하겠다는 뜻.새 리스트를 할당"
   ]
  },
  {
   "cell_type": "markdown",
   "metadata": {},
   "source": [
    "### 2. 리스트의 모든 요소를 삭제하는 메서드 clear"
   ]
  },
  {
   "cell_type": "markdown",
   "metadata": {},
   "source": [
    "### 3. 다음 중 리스트 a의 모든 요소를 출력하는 방법으로 올바른 것\n",
    "\n",
    "#### for i in range(len(a)):\n",
    "####    print(a[i])\n",
    "#### ----------\n",
    "#### i = 0\n",
    "#### while i < len(a):\n",
    "####    print(a[i])\n",
    "####    i += 1 \n",
    "#### ----------      \n",
    "#### for i in a:\n",
    "####    print(i)\n",
    "\n",
    "## for로 리스트의 모든 요소를 출력할 때는 \n",
    "## for i in a:로 반복하고 print(i)로 출력하거나, \n",
    "## for i in range(len(a)):로 반복하고 \n",
    "## print(a[i])로 출력합니다. \n",
    "## while은 조건식을 i < len(a)처럼 지정하고 print(a[i])로 출력합니다."
   ]
  },
  {
   "cell_type": "markdown",
   "metadata": {},
   "source": [
    "### 4. 다음 중 튜플 a에 사용할 수 없는 코드 a.pop()\n",
    "#### 사용할수있는코드 print(a[:])\n",
    "#### 사용할수있는코드 sum(a)\n",
    "#### 사용할수있는코드 a.count(10)\n",
    "#### 사용할수있는코드 min(a)"
   ]
  },
  {
   "cell_type": "markdown",
   "metadata": {},
   "source": [
    "### 5. 리스트 [0, 1, 2, 3, 17, 18, 19]를 만드는 방법으로 올바른 것\n",
    "#### [i for i in range(20) if i <= 3 or i >= 17]\n",
    "\n",
    "\n",
    "## [0, 1, 2, 3, 17, 18, 19]는 1부터 19까지 숫자 중\n",
    "## 3보다 작거나 같은 숫자 또는 \n",
    "## 17보다 크거나 같은 숫자입니다. \n",
    "## 따라서 [i for i in range(20) if i <= 3 or i >= 17]로 만들 수 있습니다."
   ]
  },
  {
   "cell_type": "markdown",
   "metadata": {},
   "source": [
    "### 6. 다음 중 실수가 들어있는 리스트 [4.7, 3.5, 2.9]의 요소를 \n",
    "### 문자열로 변환하는 방법으로 올바른 것을 고르세요. \n",
    "### a는 리스트가 되어야 함\n",
    "#### a = list(map(str, [4.7, 3.5, 2.9]))\n",
    "\n",
    "\n",
    "## map을 사용해서 리스트의 요소를 문자열로 변환할 때는 map에 str과 리스트를 넣어줍니다. 그리고 list를 사용해서 결과를 리스트로 만들어줍니다."
   ]
  },
  {
   "cell_type": "code",
   "execution_count": null,
   "metadata": {},
   "outputs": [],
   "source": []
  }
 ],
 "metadata": {
  "kernelspec": {
   "display_name": "Python 3",
   "language": "python",
   "name": "python3"
  },
  "language_info": {
   "codemirror_mode": {
    "name": "ipython",
    "version": 3
   },
   "file_extension": ".py",
   "mimetype": "text/x-python",
   "name": "python",
   "nbconvert_exporter": "python",
   "pygments_lexer": "ipython3",
   "version": "3.8.3"
  }
 },
 "nbformat": 4,
 "nbformat_minor": 4
}
