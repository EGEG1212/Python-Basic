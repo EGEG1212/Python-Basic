{
 "cells": [
  {
   "cell_type": "code",
   "execution_count": 2,
   "metadata": {},
   "outputs": [
    {
     "name": "stdout",
     "output_type": "stream",
     "text": [
      "10이 아닙니다.\n"
     ]
    }
   ],
   "source": [
    "x = 5\n",
    "if x == 10:\n",
    "    print('10입니다.')\n",
    "else:\n",
    "    print('10이 아닙니다.')"
   ]
  },
  {
   "cell_type": "code",
   "execution_count": 3,
   "metadata": {
    "scrolled": true
   },
   "outputs": [
    {
     "name": "stdout",
     "output_type": "stream",
     "text": [
      "입력하세요> 10\n",
      "10입니다.\n"
     ]
    }
   ],
   "source": [
    "x = int(input('입력하세요> '))\n",
    "if x == 10:\n",
    "    print('10입니다.')\n",
    "else:\n",
    "    print('10이 아닙니다.')"
   ]
  },
  {
   "cell_type": "code",
   "execution_count": 7,
   "metadata": {},
   "outputs": [],
   "source": [
    "x = 5\n",
    "if x == 10:\n",
    "    y = x\n",
    "else:\n",
    "    y = 0"
   ]
  },
  {
   "cell_type": "code",
   "execution_count": 8,
   "metadata": {},
   "outputs": [
    {
     "data": {
      "text/plain": [
       "0"
      ]
     },
     "execution_count": 8,
     "metadata": {},
     "output_type": "execute_result"
    }
   ],
   "source": [
    "y"
   ]
  },
  {
   "cell_type": "code",
   "execution_count": 13,
   "metadata": {
    "scrolled": true
   },
   "outputs": [
    {
     "name": "stdout",
     "output_type": "stream",
     "text": [
      "10입니다.\n",
      "10이 아닙니다.\n"
     ]
    }
   ],
   "source": [
    "x =10\n",
    "if x == 10:\n",
    "    print('10입니다.')\n",
    "else:\n",
    "    print('x에 들어있는 숫자는')\n",
    "print('10이 아닙니다.')"
   ]
  },
  {
   "cell_type": "code",
   "execution_count": 14,
   "metadata": {},
   "outputs": [
    {
     "name": "stdout",
     "output_type": "stream",
     "text": [
      "참\n",
      "거짓\n",
      "거짓\n"
     ]
    }
   ],
   "source": [
    "if True:                # True는 참\n",
    "    print('참')\n",
    "else:\n",
    "    print('거짓')\n",
    "\n",
    "if False:                # ■False는 거짓■\n",
    "    print('참')\n",
    "else:\n",
    "    print('거짓')\n",
    "    \n",
    "if None:                   # ■None은 거짓■\n",
    "    print('참')\n",
    "else:\n",
    "    print('거짓')"
   ]
  },
  {
   "cell_type": "code",
   "execution_count": 16,
   "metadata": {},
   "outputs": [
    {
     "name": "stdout",
     "output_type": "stream",
     "text": [
      "거짓\n",
      "참\n",
      "참\n",
      "참\n",
      "참\n"
     ]
    }
   ],
   "source": [
    "if 0:                      # ■0은 거짓■\n",
    "    print('참')\n",
    "else:\n",
    "    print('거짓')\n",
    "    \n",
    "if 1:                     # 1은 참\n",
    "    print('참')\n",
    "else:\n",
    "    print('거짓')\n",
    "    \n",
    "if 13.5:                 # 실수는 참\n",
    "    print('참')\n",
    "else:\n",
    "    print('거짓')\n",
    "\n",
    "if 0x1F:                  #16진수 0x1f는 참\n",
    "    print('참')\n",
    "else:\n",
    "    print('거짓')\n",
    "    \n",
    "if 0b1000:               # 2진수 0b1000은 참\n",
    "    print('참')\n",
    "else:\n",
    "    print('거짓')\n"
   ]
  },
  {
   "cell_type": "code",
   "execution_count": 17,
   "metadata": {},
   "outputs": [
    {
     "name": "stdout",
     "output_type": "stream",
     "text": [
      "참\n",
      "거짓\n"
     ]
    }
   ],
   "source": [
    "if 'Hello':               # 문자열은 참\n",
    "    print('참')\n",
    "else:\n",
    "    print('거짓')\n",
    "    \n",
    "if '':                   # ■빈문자열''\"\"은 거짓■ [리스트] (튜플) {딕셔너리} set()세트\n",
    "    print('참')\n",
    "else:\n",
    "    print('거짓')"
   ]
  },
  {
   "cell_type": "code",
   "execution_count": 19,
   "metadata": {},
   "outputs": [
    {
     "name": "stdout",
     "output_type": "stream",
     "text": [
      "참\n",
      "참\n",
      "참\n"
     ]
    }
   ],
   "source": [
    "if not 0:\n",
    "    print('참')\n",
    "    \n",
    "if not None:\n",
    "    print('참')\n",
    "    \n",
    "if not '':\n",
    "    print('참')"
   ]
  },
  {
   "cell_type": "code",
   "execution_count": 22,
   "metadata": {},
   "outputs": [
    {
     "name": "stdout",
     "output_type": "stream",
     "text": [
      "참\n"
     ]
    }
   ],
   "source": [
    "x = 10\n",
    "y = 20\n",
    "\n",
    "if x == 10 and y == 20:     # x가 10이면서 y가 20일 때\n",
    "    print('참')\n",
    "else:\n",
    "    print('거짓')"
   ]
  },
  {
   "cell_type": "code",
   "execution_count": 25,
   "metadata": {},
   "outputs": [
    {
     "name": "stdout",
     "output_type": "stream",
     "text": [
      "20보다 작은 양수입니다.\n"
     ]
    }
   ],
   "source": [
    "if x > 0:                          #같은공식1\n",
    "    if x < 20:\n",
    "        print('20보다 작은 양수입니다.')"
   ]
  },
  {
   "cell_type": "code",
   "execution_count": 26,
   "metadata": {},
   "outputs": [
    {
     "name": "stdout",
     "output_type": "stream",
     "text": [
      "20보다 작은 양수입니다.\n"
     ]
    }
   ],
   "source": [
    "if x > 0 and x < 20:               #같은공식2\n",
    "        print('20보다 작은 양수입니다.')"
   ]
  },
  {
   "cell_type": "code",
   "execution_count": 27,
   "metadata": {},
   "outputs": [
    {
     "name": "stdout",
     "output_type": "stream",
     "text": [
      "20보다 작은 양수입니다.\n"
     ]
    }
   ],
   "source": [
    "if 0 < x < 20:                     #같은공식3 파이썬스러운 초간단\n",
    "    print('20보다 작은 양수입니다.')"
   ]
  },
  {
   "cell_type": "markdown",
   "metadata": {},
   "source": [
    "# 코딩도장 연습문제"
   ]
  },
  {
   "cell_type": "markdown",
   "metadata": {},
   "source": [
    "#### A 기업의 입사 시험은 필기 시험 점수가 80점 이상이면서 코딩 시험을 통과해야 합격이라고 정했습니다(코딩 시험 통과 여부는 True, False로 구분). 다음 소스 코드를 완성하여 '합격', '불합격'이 출력되게 만드세요."
   ]
  },
  {
   "cell_type": "code",
   "execution_count": 31,
   "metadata": {},
   "outputs": [
    {
     "name": "stdout",
     "output_type": "stream",
     "text": [
      "불합격\n"
     ]
    }
   ],
   "source": [
    "written_test = 70\n",
    "coding_test = True\n",
    "\n",
    "if written_test >= 80 and coding_test == True:\n",
    "    print('합격')\n",
    "else:\n",
    "    print('불합격')"
   ]
  },
  {
   "cell_type": "markdown",
   "metadata": {},
   "source": [
    "#### 합격 조건이 필기 시험 점수가 80점 이상이면서 코딩 시험을 통과해야 한다고 했으므로 두 조건이 모두 만족해야 합니다. 따라서 if 조건문을 만들고 written_test >= 80 and coding_test == True와 같이 필기 시험 점수가 80점 이상인지 검사하는 조건식과 코딩 시험이 통과했는지 판단하는 조건식을 만듭니다. 여기서 필기 시험 점수, 코딩 시험 통과 여부가 모두 만족해야 하므로 and 연산자로 연결해줍니다."
   ]
  },
  {
   "cell_type": "markdown",
   "metadata": {},
   "source": [
    "# 코딩도장 심사문제"
   ]
  },
  {
   "cell_type": "markdown",
   "metadata": {},
   "source": [
    "#### 표준 입력으로 국어, 영어, 수학, 과학 점수가 입력됩니다. 여기서 네 과목의 평균 점수가 80점 이상일 때 합격이라고 정했습니다. 평균 점수에 따라 '합격', '불합격'을 출력하는 프로그램을 만드세요(input에서 안내 문자열은 출력하지 않아야 합니다). 단, 점수는 0점부터 100점까지만 입력받을 수 있으며 범위를 벗어났다면 '잘못된 점수'를 출력하고 합격, 불합격 여부는 출력하지 않아야 합니다."
   ]
  },
  {
   "cell_type": "code",
   "execution_count": 33,
   "metadata": {},
   "outputs": [
    {
     "ename": "SyntaxError",
     "evalue": "invalid syntax (<ipython-input-33-61ed03f3f357>, line 2)",
     "output_type": "error",
     "traceback": [
      "\u001b[1;36m  File \u001b[1;32m\"<ipython-input-33-61ed03f3f357>\"\u001b[1;36m, line \u001b[1;32m2\u001b[0m\n\u001b[1;33m    if 0 <= korean <= 100\u001b[0m\n\u001b[1;37m                          ^\u001b[0m\n\u001b[1;31mSyntaxError\u001b[0m\u001b[1;31m:\u001b[0m invalid syntax\n"
     ]
    }
   ],
   "source": [
    "int(map(input().split()))\n",
    "if 0 <= korean <= 100 \n",
    "    and 0 <= english <= 100 \n",
    "    and 0 <= mathematics <= 100 \n",
    "    and 0 <= science <= 100:\n",
    "        (korean + english + mathematics + science) / 4 >= 80\n",
    "else:\n",
    "    print('잘못된 점수')"
   ]
  },
  {
   "cell_type": "markdown",
   "metadata": {},
   "source": [
    "#### 먼저 국어, 영어, 수학, 과학 점수가 한 줄에 입력되므로 input에서 split을 사용한 뒤 변수 네 개에 저장해주면 됩니다\n",
    "#### (변수는 이하 korean, english, mathematics, science). \n",
    "#### 이때 input().split()의 결과는 문자열 상태이므로 map에 int를 사용하여 정수로 변환해줍니다.\n",
    "\n",
    "#### 먼저 점수는 0점부터 100점까지만 입력받을 수 있다고 했으므로 if 조건문을 사용하여 0 <= korean <= 100 and 0 <= english <= 100 and 0 <= mathematics <= 100 and 0 <= science <= 100과 같이 모든 점수가 0점 이상이거나 100점 이하인지 검사해야 합니다. 특히 하나라도 범위를 벗어나면 안 되므로 모두 and 연산자로 판단합니다. 점수가 범위 안에 있으면 if 부분에서 합격 불합격 여부를 판단하고, 점수가 범위를 벗어나면 else 부분에서 print로 '잘못된 점수'를 출력합니다(if 부분에 합격, 불합격을 판단하는 if, else가 들어감).\n",
    "\n",
    "#### 또는, korean < 0 or korean > 100 or english < 0 or english > 100 or mathematics < 0 or mathematics > 100 or science < 0 or science > 100처럼 모든 점수가 0점 미만이거나 100점 초과인지 검사합니다. 이때는 하나라도 범위를 벗어나면 잘못된 점수이므로 or 연산자로 판단합니다. 그리고 if 부분에서 '잘못된 점수'를 출력하고, else 부분에서 합격 불합격 여부를 판단해도 됩니다.\n",
    "\n",
    "합격, 불합격 여부는 국어, 영어, 수학, 과학 점수의 평균이 80점 이상이라야 합격이므로 (korean + english + mathematics + science) / 4 >= 80과 같이 조건문 안에서 평균을 구하고 80점 이상인지 검사합니다. 그리고 if 부분에는 print로 '합격'을 출력하고, else 부분에는 '불합격'을 출력하면 됩니다. 여기서 주의할 점이 있는데 평균을 구할 때는 반드시 덧셈 부분을 괄호로 묶어야 합니다. 괄호로 묶지 않으면 나눗셈이 먼저 계산되어 잘못된 결과가 나옵니다.\n",
    "\n",
    "이처럼 프로그램을 만들 때는 입력 값의 범위를 항상 확인하는 것이 좋습니다. 범위를 벗어난 입력 값으로 인해 완전히 잘못된 값이 나올 수 있고, 상당수의 보안 취약점이 입력 값의 범위를 검사하지 않아서 발생하게 됩니다."
   ]
  },
  {
   "cell_type": "code",
   "execution_count": null,
   "metadata": {},
   "outputs": [],
   "source": []
  }
 ],
 "metadata": {
  "kernelspec": {
   "display_name": "Python 3",
   "language": "python",
   "name": "python3"
  },
  "language_info": {
   "codemirror_mode": {
    "name": "ipython",
    "version": 3
   },
   "file_extension": ".py",
   "mimetype": "text/x-python",
   "name": "python",
   "nbconvert_exporter": "python",
   "pygments_lexer": "ipython3",
   "version": "3.8.3"
  }
 },
 "nbformat": 4,
 "nbformat_minor": 4
}
