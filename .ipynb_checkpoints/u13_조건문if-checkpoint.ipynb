{
 "cells": [
  {
   "cell_type": "code",
   "execution_count": 3,
   "metadata": {},
   "outputs": [
    {
     "name": "stdout",
     "output_type": "stream",
     "text": [
      "30\n"
     ]
    }
   ],
   "source": [
    "x = int(input())\n",
    "if x == 10:\n",
    "    print('10입니다.')\n",
    "if x == 20:\n",
    "    print('20입니다.')"
   ]
  },
  {
   "cell_type": "markdown",
   "metadata": {},
   "source": [
    "# 코딩도장 퀴즈"
   ]
  },
  {
   "cell_type": "code",
   "execution_count": 4,
   "metadata": {},
   "outputs": [],
   "source": [
    "if x == 10:\n",
    "    print('10입니다.')"
   ]
  },
  {
   "cell_type": "markdown",
   "metadata": {},
   "source": [
    "#### if 조건식: 콜론잊지않기.세미콜론아님.\n",
    "####     4칸들여쓰기\n",
    "#### 조건식에  =(할당 연산자)을 사용할 수 없으므로,  ==임.\n",
    "#### 나머지 >,  is,  not,  != 연산자는 사용가능."
   ]
  },
  {
   "cell_type": "code",
   "execution_count": 14,
   "metadata": {},
   "outputs": [
    {
     "name": "stdout",
     "output_type": "stream",
     "text": [
      "입력하시오> 10\n"
     ]
    }
   ],
   "source": [
    "x = int(input('입력하시오> '))\n",
    "if x != 10:\n",
    "    print('ok')"
   ]
  },
  {
   "cell_type": "markdown",
   "metadata": {},
   "source": [
    "# 코딩도장 심사문제"
   ]
  },
  {
   "cell_type": "code",
   "execution_count": 23,
   "metadata": {},
   "outputs": [
    {
     "name": "stdout",
     "output_type": "stream",
     "text": [
      "금액입력: 27000\n",
      "쿠폰입력: Cash3000\n"
     ]
    },
    {
     "ename": "ValueError",
     "evalue": "invalid literal for int() with base 10: 'Cash3000'",
     "output_type": "error",
     "traceback": [
      "\u001b[1;31m---------------------------------------------------------------------------\u001b[0m",
      "\u001b[1;31mValueError\u001b[0m                                Traceback (most recent call last)",
      "\u001b[1;32m<ipython-input-23-b2fd309a2720>\u001b[0m in \u001b[0;36m<module>\u001b[1;34m\u001b[0m\n\u001b[0;32m      1\u001b[0m \u001b[0mprice\u001b[0m \u001b[1;33m=\u001b[0m \u001b[0mint\u001b[0m\u001b[1;33m(\u001b[0m\u001b[0minput\u001b[0m\u001b[1;33m(\u001b[0m\u001b[1;34m'금액입력: '\u001b[0m\u001b[1;33m)\u001b[0m\u001b[1;33m)\u001b[0m\u001b[1;33m\u001b[0m\u001b[1;33m\u001b[0m\u001b[0m\n\u001b[1;32m----> 2\u001b[1;33m \u001b[0mcoupon\u001b[0m \u001b[1;33m=\u001b[0m \u001b[0mint\u001b[0m\u001b[1;33m(\u001b[0m\u001b[0minput\u001b[0m\u001b[1;33m(\u001b[0m\u001b[1;34m'쿠폰입력: '\u001b[0m\u001b[1;33m)\u001b[0m\u001b[1;33m)\u001b[0m\u001b[1;33m\u001b[0m\u001b[1;33m\u001b[0m\u001b[0m\n\u001b[0m\u001b[0;32m      3\u001b[0m \u001b[1;33m\u001b[0m\u001b[0m\n\u001b[0;32m      4\u001b[0m \u001b[1;32mif\u001b[0m \u001b[0mcoupon\u001b[0m \u001b[1;33m==\u001b[0m \u001b[1;34m'Cash3000'\u001b[0m\u001b[1;33m:\u001b[0m\u001b[1;33m\u001b[0m\u001b[1;33m\u001b[0m\u001b[0m\n\u001b[0;32m      5\u001b[0m     \u001b[0mprice\u001b[0m \u001b[1;33m-=\u001b[0m \u001b[1;36m3000\u001b[0m\u001b[1;33m\u001b[0m\u001b[1;33m\u001b[0m\u001b[0m\n",
      "\u001b[1;31mValueError\u001b[0m: invalid literal for int() with base 10: 'Cash3000'"
     ]
    }
   ],
   "source": [
    "price = int(input('금액입력: '))\n",
    "coupon = int(input('쿠폰입력: '))\n",
    "\n",
    "if coupon == 'Cash3000':\n",
    "    price -= 3000\n",
    "    x = price\n",
    "    print(x)\n",
    "if coupon == 'Cash5000':\n",
    "    price -= 5000\n",
    "    price\n",
    "    print(price)"
   ]
  },
  {
   "cell_type": "markdown",
   "metadata": {},
   "source": [
    "#### 먼저 정수가 입력된다고 했으므로 \n",
    "#### int(input())과 같이 입력 값을 정수로 변환한 뒤 \n",
    "#### 변수에 저장합니다(이하 변수는 price). \n",
    "#### 그리고 다음 줄에 쿠폰 이름이 입력되므로 \n",
    "#### input()으로 문자열을 변수에 저장합니다(이하 변수는 coupon).\n",
    "\n",
    "#### 쿠폰 이름이 Cash3000일 때는 if coupon == 'Cash3000':과 같이 if 조건문을 만든 뒤 \n",
    "#### price -= 3000과 같이 price에서 3000을 뺀 뒤 \n",
    "#### *결과를 다시 price에 저장해줍니다.*\n",
    "\n",
    "#### 그리고 쿠폰 이름이 Cash5000일 때도 처리해야 하므로 \n",
    "#### if coupon == 'Cash5000':과 같이 if 조건문을 하나 더 만든 뒤 \n",
    "#### price -= 5000과 같이 price에서 5000을 뺀 뒤 \n",
    "#### *결과를 다시 price에 저장해줍니다.*\n",
    "\n",
    "#### 마지막으로 price를 print로 출력해주면 됩니다."
   ]
  },
  {
   "cell_type": "code",
   "execution_count": null,
   "metadata": {},
   "outputs": [],
   "source": []
  }
 ],
 "metadata": {
  "kernelspec": {
   "display_name": "Python 3",
   "language": "python",
   "name": "python3"
  },
  "language_info": {
   "codemirror_mode": {
    "name": "ipython",
    "version": 3
   },
   "file_extension": ".py",
   "mimetype": "text/x-python",
   "name": "python",
   "nbconvert_exporter": "python",
   "pygments_lexer": "ipython3",
   "version": "3.8.3"
  }
 },
 "nbformat": 4,
 "nbformat_minor": 4
}
