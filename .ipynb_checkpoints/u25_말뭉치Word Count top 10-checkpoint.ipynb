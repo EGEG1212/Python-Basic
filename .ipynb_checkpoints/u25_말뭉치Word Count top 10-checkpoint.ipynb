{
 "cells": [
  {
   "cell_type": "markdown",
   "metadata": {},
   "source": [
    "말뭉치를   \n",
    "1)소문자로변경(lower)  \n",
    "2)구둣점 숫자제거하기(카운트할 대상이 아니니까)  \n",
    "3)분리하여 단어리스트(split메소드)  \n",
    "words.dict딕셔너리로해서 키를 단어로하고 밸류값을 횟수로! (우와!! )  \n",
    "for  \n",
    ">있으면 밸류증가 'what':1  \n",
    ">없으면 새딕션생성   \n",
    "(반복, 조건따지고, 일하고)  \n",
    "\n",
    "전처리할때, have, 접속사, 관사a the, 전치사in of, 비동사is and 모두 빼줘야한다 stop_words (구글링)NLTK  "
   ]
  },
  {
   "cell_type": "code",
   "execution_count": 2,
   "metadata": {},
   "outputs": [],
   "source": [
    "lorem = '''\n",
    "What is Lorem Ipsum?\n",
    "Lorem Ipsum is simply dummy text of the printing and typesetting industry. Lorem Ipsum has been the industry's standard dummy text ever since the 1500s, when an unknown printer took a galley of type and scrambled it to make a type specimen book. It has survived not only five centuries, but also the leap into electronic typesetting, remaining essentially unchanged. It was popularised in the 1960s with the release of Letraset sheets containing Lorem Ipsum passages, and more recently with desktop publishing software like Aldus PageMaker including versions of Lorem Ipsum.\n",
    "\n",
    "Why do we use it?\n",
    "It is a long established fact that a reader will be distracted by the readable content of a page when looking at its layout. The point of using Lorem Ipsum is that it has a more-or-less normal distribution of letters, as opposed to using 'Content here, content here', making it look like readable English. Many desktop publishing packages and web page editors now use Lorem Ipsum as their default model text, and a search for 'lorem ipsum' will uncover many web sites still in their infancy. Various versions have evolved over the years, sometimes by accident, sometimes on purpose (injected humour and the like).\n",
    "\n",
    "Where does it come from?\n",
    "Contrary to popular belief, Lorem Ipsum is not simply random text. It has roots in a piece of classical Latin literature from 45 BC, making it over 2000 years old. Richard McClintock, a Latin professor at Hampden-Sydney College in Virginia, looked up one of the more obscure Latin words, consectetur, from a Lorem Ipsum passage, and going through the cites of the word in classical literature, discovered the undoubtable source. Lorem Ipsum comes from sections 1.10.32 and 1.10.33 of \"de Finibus Bonorum et Malorum\" (The Extremes of Good and Evil) by Cicero, written in 45 BC. This book is a treatise on the theory of ethics, very popular during the Renaissance. The first line of Lorem Ipsum, \"Lorem ipsum dolor sit amet..\", comes from a line in section 1.10.32.\n",
    "\n",
    "The standard chunk of Lorem Ipsum used since the 1500s is reproduced below for those interested. Sections 1.10.32 and 1.10.33 from \"de Finibus Bonorum et Malorum\" by Cicero are also reproduced in their exact original form, accompanied by English versions from the 1914 translation by H. Rackham.\n",
    "\n",
    "Where can I get some?\n",
    "There are many variations of passages of Lorem Ipsum available, but the majority have suffered alteration in some form, by injected humour, or randomised words which don't look even slightly believable. If you are going to use a passage of Lorem Ipsum, you need to be sure there isn't anything embarrassing hidden in the middle of text. All the Lorem Ipsum generators on the Internet tend to repeat predefined chunks as necessary, making this the first true generator on the Internet. It uses a dictionary of over 200 Latin words, combined with a handful of model sentence structures, to generate Lorem Ipsum which looks reasonable. The generated Lorem Ipsum is therefore always free from repetition, injected humour, or non-characteristic words etc.\n",
    "'''"
   ]
  },
  {
   "cell_type": "code",
   "execution_count": 3,
   "metadata": {
    "scrolled": true
   },
   "outputs": [
    {
     "name": "stdout",
     "output_type": "stream",
     "text": [
      "\n",
      "what is lorem ipsum?\n",
      "lorem ipsum is simply dummy text of the printing and typesetting industry. lorem ipsum has been the industry's standard dummy text ever since the 1500s, when an unknown printer took a galley of type and scrambled it to make a type specimen book. it has survived not only five centuries, but also the leap into electronic typesetting, remaining essentially unchanged. it was popularised in the 1960s with the release of letraset sheets containing lorem ipsum passages, and more recently with desktop publishing software like aldus pagemaker including versions of lorem ipsum.\n",
      "\n",
      "why do we use it?\n",
      "it is a long established fact that a reader will be distracted by the readable content of a page when looking at its layout. the point of using lorem ipsum is that it has a more-or-less normal distribution of letters, as opposed to using 'content here, content here', making it look like readable english. many desktop publishing packages and web page editors now use lorem ipsum as their default model text, and a search for 'lorem ipsum' will uncover many web sites still in their infancy. various versions have evolved over the years, sometimes by accident, sometimes on purpose (injected humour and the like).\n",
      "\n",
      "where does it come from?\n",
      "contrary to popular belief, lorem ipsum is not simply random text. it has roots in a piece of classical latin literature from 45 bc, making it over 2000 years old. richard mcclintock, a latin professor at hampden-sydney college in virginia, looked up one of the more obscure latin words, consectetur, from a lorem ipsum passage, and going through the cites of the word in classical literature, discovered the undoubtable source. lorem ipsum comes from sections 1.10.32 and 1.10.33 of \"de finibus bonorum et malorum\" (the extremes of good and evil) by cicero, written in 45 bc. this book is a treatise on the theory of ethics, very popular during the renaissance. the first line of lorem ipsum, \"lorem ipsum dolor sit amet..\", comes from a line in section 1.10.32.\n",
      "\n",
      "the standard chunk of lorem ipsum used since the 1500s is reproduced below for those interested. sections 1.10.32 and 1.10.33 from \"de finibus bonorum et malorum\" by cicero are also reproduced in their exact original form, accompanied by english versions from the 1914 translation by h. rackham.\n",
      "\n",
      "where can i get some?\n",
      "there are many variations of passages of lorem ipsum available, but the majority have suffered alteration in some form, by injected humour, or randomised words which don't look even slightly believable. if you are going to use a passage of lorem ipsum, you need to be sure there isn't anything embarrassing hidden in the middle of text. all the lorem ipsum generators on the internet tend to repeat predefined chunks as necessary, making this the first true generator on the internet. it uses a dictionary of over 200 latin words, combined with a handful of model sentence structures, to generate lorem ipsum which looks reasonable. the generated lorem ipsum is therefore always free from repetition, injected humour, or non-characteristic words etc.\n",
      "\n"
     ]
    }
   ],
   "source": [
    "#소문자로 변경\n",
    "import string\n",
    "lorem = lorem.lower()\n",
    "print(lorem)"
   ]
  },
  {
   "cell_type": "code",
   "execution_count": 4,
   "metadata": {},
   "outputs": [
    {
     "name": "stdout",
     "output_type": "stream",
     "text": [
      "\n",
      "what is lorem ipsum\n",
      "lorem ipsum is simply dummy text of the printing and typesetting industry lorem ipsum has been the industrys standard dummy text ever since the s when an unknown printer took a galley of type and scrambled it to make a type specimen book it has survived not only five centuries but also the leap into electronic typesetting remaining essentially unchanged it was popularised in the s with the release of letraset sheets containing lorem ipsum passages and more recently with desktop publishing software like aldus pagemaker including versions of lorem ipsum\n",
      "\n",
      "why do we use it\n",
      "it is a long established fact that a reader will be distracted by the readable content of a page when looking at its layout the point of using lorem ipsum is that it has a moreorless normal distribution of letters as opposed to using content here content here making it look like readable english many desktop publishing packages and web page editors now use lorem ipsum as their default model text and a search for lorem ipsum will uncover many web sites still in their infancy various versions have evolved over the years sometimes by accident sometimes on purpose injected humour and the like\n",
      "\n",
      "where does it come from\n",
      "contrary to popular belief lorem ipsum is not simply random text it has roots in a piece of classical latin literature from  bc making it over  years old richard mcclintock a latin professor at hampdensydney college in virginia looked up one of the more obscure latin words consectetur from a lorem ipsum passage and going through the cites of the word in classical literature discovered the undoubtable source lorem ipsum comes from sections  and  of de finibus bonorum et malorum the extremes of good and evil by cicero written in  bc this book is a treatise on the theory of ethics very popular during the renaissance the first line of lorem ipsum lorem ipsum dolor sit amet comes from a line in section \n",
      "\n",
      "the standard chunk of lorem ipsum used since the s is reproduced below for those interested sections  and  from de finibus bonorum et malorum by cicero are also reproduced in their exact original form accompanied by english versions from the  translation by h rackham\n",
      "\n",
      "where can i get some\n",
      "there are many variations of passages of lorem ipsum available but the majority have suffered alteration in some form by injected humour or randomised words which dont look even slightly believable if you are going to use a passage of lorem ipsum you need to be sure there isnt anything embarrassing hidden in the middle of text all the lorem ipsum generators on the internet tend to repeat predefined chunks as necessary making this the first true generator on the internet it uses a dictionary of over  latin words combined with a handful of model sentence structures to generate lorem ipsum which looks reasonable the generated lorem ipsum is therefore always free from repetition injected humour or noncharacteristic words etc\n",
      "\n"
     ]
    }
   ],
   "source": [
    "#구둣점 삭제\n",
    "import re\n",
    "lorem = re.sub(f'[{string.punctuation}0-9]', '', lorem, flags=re.MULTILINE)\n",
    "print(lorem)"
   ]
  },
  {
   "cell_type": "code",
   "execution_count": 5,
   "metadata": {},
   "outputs": [
    {
     "name": "stdout",
     "output_type": "stream",
     "text": [
      "['what', 'is', 'lorem', 'ipsum', 'lorem', 'ipsum', 'is', 'simply', 'dummy', 'text', 'of', 'the', 'printing', 'and', 'typesetting', 'industry', 'lorem', 'ipsum', 'has', 'been', 'the', 'industrys', 'standard', 'dummy', 'text', 'ever', 'since', 'the', 's', 'when', 'an', 'unknown', 'printer', 'took', 'a', 'galley', 'of', 'type', 'and', 'scrambled', 'it', 'to', 'make', 'a', 'type', 'specimen', 'book', 'it', 'has', 'survived', 'not', 'only', 'five', 'centuries', 'but', 'also', 'the', 'leap', 'into', 'electronic', 'typesetting', 'remaining', 'essentially', 'unchanged', 'it', 'was', 'popularised', 'in', 'the', 's', 'with', 'the', 'release', 'of', 'letraset', 'sheets', 'containing', 'lorem', 'ipsum', 'passages', 'and', 'more', 'recently', 'with', 'desktop', 'publishing', 'software', 'like', 'aldus', 'pagemaker', 'including', 'versions', 'of', 'lorem', 'ipsum', 'why', 'do', 'we', 'use', 'it', 'it', 'is', 'a', 'long', 'established', 'fact', 'that', 'a', 'reader', 'will', 'be', 'distracted', 'by', 'the', 'readable', 'content', 'of', 'a', 'page', 'when', 'looking', 'at', 'its', 'layout', 'the', 'point', 'of', 'using', 'lorem', 'ipsum', 'is', 'that', 'it', 'has', 'a', 'moreorless', 'normal', 'distribution', 'of', 'letters', 'as', 'opposed', 'to', 'using', 'content', 'here', 'content', 'here', 'making', 'it', 'look', 'like', 'readable', 'english', 'many', 'desktop', 'publishing', 'packages', 'and', 'web', 'page', 'editors', 'now', 'use', 'lorem', 'ipsum', 'as', 'their', 'default', 'model', 'text', 'and', 'a', 'search', 'for', 'lorem', 'ipsum', 'will', 'uncover', 'many', 'web', 'sites', 'still', 'in', 'their', 'infancy', 'various', 'versions', 'have', 'evolved', 'over', 'the', 'years', 'sometimes', 'by', 'accident', 'sometimes', 'on', 'purpose', 'injected', 'humour', 'and', 'the', 'like', 'where', 'does', 'it', 'come', 'from', 'contrary', 'to', 'popular', 'belief', 'lorem', 'ipsum', 'is', 'not', 'simply', 'random', 'text', 'it', 'has', 'roots', 'in', 'a', 'piece', 'of', 'classical', 'latin', 'literature', 'from', 'bc', 'making', 'it', 'over', 'years', 'old', 'richard', 'mcclintock', 'a', 'latin', 'professor', 'at', 'hampdensydney', 'college', 'in', 'virginia', 'looked', 'up', 'one', 'of', 'the', 'more', 'obscure', 'latin', 'words', 'consectetur', 'from', 'a', 'lorem', 'ipsum', 'passage', 'and', 'going', 'through', 'the', 'cites', 'of', 'the', 'word', 'in', 'classical', 'literature', 'discovered', 'the', 'undoubtable', 'source', 'lorem', 'ipsum', 'comes', 'from', 'sections', 'and', 'of', 'de', 'finibus', 'bonorum', 'et', 'malorum', 'the', 'extremes', 'of', 'good', 'and', 'evil', 'by', 'cicero', 'written', 'in', 'bc', 'this', 'book', 'is', 'a', 'treatise', 'on', 'the', 'theory', 'of', 'ethics', 'very', 'popular', 'during', 'the', 'renaissance', 'the', 'first', 'line', 'of', 'lorem', 'ipsum', 'lorem', 'ipsum', 'dolor', 'sit', 'amet', 'comes', 'from', 'a', 'line', 'in', 'section', 'the', 'standard', 'chunk', 'of', 'lorem', 'ipsum', 'used', 'since', 'the', 's', 'is', 'reproduced', 'below', 'for', 'those', 'interested', 'sections', 'and', 'from', 'de', 'finibus', 'bonorum', 'et', 'malorum', 'by', 'cicero', 'are', 'also', 'reproduced', 'in', 'their', 'exact', 'original', 'form', 'accompanied', 'by', 'english', 'versions', 'from', 'the', 'translation', 'by', 'h', 'rackham', 'where', 'can', 'i', 'get', 'some', 'there', 'are', 'many', 'variations', 'of', 'passages', 'of', 'lorem', 'ipsum', 'available', 'but', 'the', 'majority', 'have', 'suffered', 'alteration', 'in', 'some', 'form', 'by', 'injected', 'humour', 'or', 'randomised', 'words', 'which', 'dont', 'look', 'even', 'slightly', 'believable', 'if', 'you', 'are', 'going', 'to', 'use', 'a', 'passage', 'of', 'lorem', 'ipsum', 'you', 'need', 'to', 'be', 'sure', 'there', 'isnt', 'anything', 'embarrassing', 'hidden', 'in', 'the', 'middle', 'of', 'text', 'all', 'the', 'lorem', 'ipsum', 'generators', 'on', 'the', 'internet', 'tend', 'to', 'repeat', 'predefined', 'chunks', 'as', 'necessary', 'making', 'this', 'the', 'first', 'true', 'generator', 'on', 'the', 'internet', 'it', 'uses', 'a', 'dictionary', 'of', 'over', 'latin', 'words', 'combined', 'with', 'a', 'handful', 'of', 'model', 'sentence', 'structures', 'to', 'generate', 'lorem', 'ipsum', 'which', 'looks', 'reasonable', 'the', 'generated', 'lorem', 'ipsum', 'is', 'therefore', 'always', 'free', 'from', 'repetition', 'injected', 'humour', 'or', 'noncharacteristic', 'words', 'etc']\n"
     ]
    }
   ],
   "source": [
    "lorem_list = lorem.split()\n",
    "print(lorem_list)"
   ]
  },
  {
   "cell_type": "code",
   "execution_count": 6,
   "metadata": {},
   "outputs": [
    {
     "name": "stdout",
     "output_type": "stream",
     "text": [
      "{'what': 1, 'is': 8, 'lorem': 19, 'ipsum': 19, 'simply': 2, 'dummy': 2, 'text': 5, 'of': 21, 'the': 28, 'printing': 1, 'and': 10, 'typesetting': 2, 'industry': 1, 'has': 4, 'been': 1, 'industrys': 1, 'standard': 2, 'ever': 1, 'since': 2, 's': 3, 'when': 2, 'an': 1, 'unknown': 1, 'printer': 1, 'took': 1, 'a': 15, 'galley': 1, 'type': 2, 'scrambled': 1, 'it': 11, 'to': 7, 'make': 1, 'specimen': 1, 'book': 2, 'survived': 1, 'not': 2, 'only': 1, 'five': 1, 'centuries': 1, 'but': 2, 'also': 2, 'leap': 1, 'into': 1, 'electronic': 1, 'remaining': 1, 'essentially': 1, 'unchanged': 1, 'was': 1, 'popularised': 1, 'in': 10, 'with': 3, 'release': 1, 'letraset': 1, 'sheets': 1, 'containing': 1, 'passages': 2, 'more': 2, 'recently': 1, 'desktop': 2, 'publishing': 2, 'software': 1, 'like': 3, 'aldus': 1, 'pagemaker': 1, 'including': 1, 'versions': 3, 'why': 1, 'do': 1, 'we': 1, 'use': 3, 'long': 1, 'established': 1, 'fact': 1, 'that': 2, 'reader': 1, 'will': 2, 'be': 2, 'distracted': 1, 'by': 7, 'readable': 2, 'content': 3, 'page': 2, 'looking': 1, 'at': 2, 'its': 1, 'layout': 1, 'point': 1, 'using': 2, 'moreorless': 1, 'normal': 1, 'distribution': 1, 'letters': 1, 'as': 3, 'opposed': 1, 'here': 2, 'making': 3, 'look': 2, 'english': 2, 'many': 3, 'packages': 1, 'web': 2, 'editors': 1, 'now': 1, 'their': 3, 'default': 1, 'model': 2, 'search': 1, 'for': 2, 'uncover': 1, 'sites': 1, 'still': 1, 'infancy': 1, 'various': 1, 'have': 2, 'evolved': 1, 'over': 3, 'years': 2, 'sometimes': 2, 'accident': 1, 'on': 4, 'purpose': 1, 'injected': 3, 'humour': 3, 'where': 2, 'does': 1, 'come': 1, 'from': 8, 'contrary': 1, 'popular': 2, 'belief': 1, 'random': 1, 'roots': 1, 'piece': 1, 'classical': 2, 'latin': 4, 'literature': 2, 'bc': 2, 'old': 1, 'richard': 1, 'mcclintock': 1, 'professor': 1, 'hampdensydney': 1, 'college': 1, 'virginia': 1, 'looked': 1, 'up': 1, 'one': 1, 'obscure': 1, 'words': 4, 'consectetur': 1, 'passage': 2, 'going': 2, 'through': 1, 'cites': 1, 'word': 1, 'discovered': 1, 'undoubtable': 1, 'source': 1, 'comes': 2, 'sections': 2, 'de': 2, 'finibus': 2, 'bonorum': 2, 'et': 2, 'malorum': 2, 'extremes': 1, 'good': 1, 'evil': 1, 'cicero': 2, 'written': 1, 'this': 2, 'treatise': 1, 'theory': 1, 'ethics': 1, 'very': 1, 'during': 1, 'renaissance': 1, 'first': 2, 'line': 2, 'dolor': 1, 'sit': 1, 'amet': 1, 'section': 1, 'chunk': 1, 'used': 1, 'reproduced': 2, 'below': 1, 'those': 1, 'interested': 1, 'are': 3, 'exact': 1, 'original': 1, 'form': 2, 'accompanied': 1, 'translation': 1, 'h': 1, 'rackham': 1, 'can': 1, 'i': 1, 'get': 1, 'some': 2, 'there': 2, 'variations': 1, 'available': 1, 'majority': 1, 'suffered': 1, 'alteration': 1, 'or': 2, 'randomised': 1, 'which': 2, 'dont': 1, 'even': 1, 'slightly': 1, 'believable': 1, 'if': 1, 'you': 2, 'need': 1, 'sure': 1, 'isnt': 1, 'anything': 1, 'embarrassing': 1, 'hidden': 1, 'middle': 1, 'all': 1, 'generators': 1, 'internet': 2, 'tend': 1, 'repeat': 1, 'predefined': 1, 'chunks': 1, 'necessary': 1, 'true': 1, 'generator': 1, 'uses': 1, 'dictionary': 1, 'combined': 1, 'handful': 1, 'sentence': 1, 'structures': 1, 'generate': 1, 'looks': 1, 'reasonable': 1, 'generated': 1, 'therefore': 1, 'always': 1, 'free': 1, 'repetition': 1, 'noncharacteristic': 1, 'etc': 1}\n"
     ]
    }
   ],
   "source": [
    "word_dict = {}              #새 딕션만들어주고\n",
    "for word in lorem_list:\n",
    "    if word in word_dict.keys():\n",
    "        word_dict[word] += 1    #기존 단어가 있으면 증가\n",
    "    else:\n",
    "        word_dict.update({word: 1})   # 기존단어가 없으면 새워드 추가\n",
    "print(word_dict)        "
   ]
  },
  {
   "cell_type": "code",
   "execution_count": 8,
   "metadata": {},
   "outputs": [
    {
     "name": "stdout",
     "output_type": "stream",
     "text": [
      "['the', 'of', 'lorem', 'ipsum', 'a', 'it', 'and', 'in', 'is', 'from', 'to', 'by', 'text', 'has', 'on', 'latin', 'words', 's', 'with', 'like', 'versions', 'use', 'content', 'as', 'making', 'many', 'their', 'over', 'injected', 'humour', 'are', 'simply', 'dummy', 'typesetting', 'standard', 'since', 'when', 'type', 'book', 'not', 'but', 'also', 'passages', 'more', 'desktop', 'publishing', 'that', 'will', 'be', 'readable', 'page', 'at', 'using', 'here', 'look', 'english', 'web', 'model', 'for', 'have', 'years', 'sometimes', 'where', 'popular', 'classical', 'literature', 'bc', 'passage', 'going', 'comes', 'sections', 'de', 'finibus', 'bonorum', 'et', 'malorum', 'cicero', 'this', 'first', 'line', 'reproduced', 'form', 'some', 'there', 'or', 'which', 'you', 'internet', 'what', 'printing', 'industry', 'been', 'industrys', 'ever', 'an', 'unknown', 'printer', 'took', 'galley', 'scrambled', 'make', 'specimen', 'survived', 'only', 'five', 'centuries', 'leap', 'into', 'electronic', 'remaining', 'essentially', 'unchanged', 'was', 'popularised', 'release', 'letraset', 'sheets', 'containing', 'recently', 'software', 'aldus', 'pagemaker', 'including', 'why', 'do', 'we', 'long', 'established', 'fact', 'reader', 'distracted', 'looking', 'its', 'layout', 'point', 'moreorless', 'normal', 'distribution', 'letters', 'opposed', 'packages', 'editors', 'now', 'default', 'search', 'uncover', 'sites', 'still', 'infancy', 'various', 'evolved', 'accident', 'purpose', 'does', 'come', 'contrary', 'belief', 'random', 'roots', 'piece', 'old', 'richard', 'mcclintock', 'professor', 'hampdensydney', 'college', 'virginia', 'looked', 'up', 'one', 'obscure', 'consectetur', 'through', 'cites', 'word', 'discovered', 'undoubtable', 'source', 'extremes', 'good', 'evil', 'written', 'treatise', 'theory', 'ethics', 'very', 'during', 'renaissance', 'dolor', 'sit', 'amet', 'section', 'chunk', 'used', 'below', 'those', 'interested', 'exact', 'original', 'accompanied', 'translation', 'h', 'rackham', 'can', 'i', 'get', 'variations', 'available', 'majority', 'suffered', 'alteration', 'randomised', 'dont', 'even', 'slightly', 'believable', 'if', 'need', 'sure', 'isnt', 'anything', 'embarrassing', 'hidden', 'middle', 'all', 'generators', 'tend', 'repeat', 'predefined', 'chunks', 'necessary', 'true', 'generator', 'uses', 'dictionary', 'combined', 'handful', 'sentence', 'structures', 'generate', 'looks', 'reasonable', 'generated', 'therefore', 'always', 'free', 'repetition', 'noncharacteristic', 'etc']\n"
     ]
    }
   ],
   "source": [
    "# 딕셔너리에서 밸류로 소팅 구글링~ (lambda함수) 입력을 k로 받아서 워드딕트k로 뒤집어주는.. \n",
    "sorted_words = sorted(word_dict, key=lambda k : word_dict[k], reverse=True)\n",
    "print(sorted_words)"
   ]
  },
  {
   "cell_type": "code",
   "execution_count": 9,
   "metadata": {},
   "outputs": [
    {
     "name": "stdout",
     "output_type": "stream",
     "text": [
      "the 28\n",
      "of 21\n",
      "lorem 19\n",
      "ipsum 19\n",
      "a 15\n",
      "it 11\n",
      "and 10\n",
      "in 10\n",
      "is 8\n",
      "from 8\n"
     ]
    }
   ],
   "source": [
    "#밸류값얹어오기 10개만~ 인덱스가 10이면 브레이크\n",
    "for index, value in enumerate(sorted_words):\n",
    "    if index == 10:\n",
    "        break;\n",
    "    print(value, word_dict[value])"
   ]
  },
  {
   "cell_type": "markdown",
   "metadata": {},
   "source": [
    "# 파일로부터 읽어서 Word  counting"
   ]
  },
  {
   "cell_type": "code",
   "execution_count": null,
   "metadata": {},
   "outputs": [],
   "source": [
    "with open('c:/temp/lorem.txt', 'r') as file: #파일을 여러라인을 읽어서  라인리스트를 만든다\n",
    "    lines = file.readlines()\n",
    "lines = lorem.lower()\n",
    "#print(lines)\n",
    "#리스트였기떄문에 조인join\n"
   ]
  },
  {
   "cell_type": "code",
   "execution_count": null,
   "metadata": {},
   "outputs": [],
   "source": [
    "lines = re.sub(f'[{string.punctuation}0-9]', '', lines, flags=re.MULTILINE) #구두점과 숫자제거 \n",
    "#print(lines)"
   ]
  },
  {
   "cell_type": "code",
   "execution_count": null,
   "metadata": {},
   "outputs": [],
   "source": [
    "words_list = lines.split()\n",
    "#print(words_list)"
   ]
  },
  {
   "cell_type": "code",
   "execution_count": null,
   "metadata": {},
   "outputs": [],
   "source": [
    "word_dict = {}\n",
    "for word in words_list:\n",
    "    if word in word_dict.keys():\n",
    "        word_dict[word] += 1\n",
    "    else:\n",
    "        word_dict.update({word: 1})\n",
    "print(word_dict)"
   ]
  },
  {
   "cell_type": "code",
   "execution_count": null,
   "metadata": {},
   "outputs": [],
   "source": [
    "sorted_words = sorted(word_dict, key=lambda k : word_dict[k], reverse=True)\n",
    "print(sorted_words)"
   ]
  },
  {
   "cell_type": "code",
   "execution_count": null,
   "metadata": {},
   "outputs": [],
   "source": [
    "for index, value in enumerate(sorted_words):\n",
    "    if index == 10:\n",
    "        break;\n",
    "    print(value, word_dict[value])"
   ]
  },
  {
   "cell_type": "markdown",
   "metadata": {},
   "source": [
    "# 코딩도장 24.5 심사문제 특정단어갯수세기 ( 워드카운트)\n",
    "표준 입력으로 문자열이 입력됩니다. 입력된 문자열에서 'the'의 개수를 출력하는 프로그램을 만드세요(input에서 안내 문자열은 출력하지 않아야 합니다). 단, 모든 문자가 소문자인 'the'만 찾으면 되며 'them', 'there', 'their' 등은 포함하지 않아야 합니다."
   ]
  },
  {
   "cell_type": "markdown",
   "metadata": {},
   "source": [
    "해설   \n",
    "먼저 문자열이 입력되므로 input을 사용하여 문자열을 변수에 저장해줍니다(변수는 이하 paragraph).\n",
    "\n",
    "paragraph에서 paragraph.count('the')처럼 count 메서드로 'the'의 개수를 구하면 'whether', 'themselves'의 개수까지 구하게 되므로 잘못된 결과가 나옵니다. 따라서 'the'의 개수만 구하려면 먼저 paragraph에 split을 사용하여 공백을 기준으로 분리한 뒤 리스트로 만들어줍니다(리스트는 이하 words).\n",
    "\n",
    "그다음에 for 반복문으로 리스트 words를 반복하면서 문자열이 'the'인지 판단합니다. 이때 단순히 == 연산자로 요소 i가 'the'와 같은지만 판단하면 'the,' 또는 'the.'처럼 ,(콤마)나 .(점)이 붙어있는 문자열은 'the'와 다르다고 나옵니다. 따라서 strip에 ',.'을 지정해서 콤마와 점을 삭제한 뒤 'the'와 비교해야 합니다. 비교한 결과가 참이면 변수 count에 1을 더해주면 됩니다.\n",
    "\n",
    "마지막으로 print를 사용하여 count의 값을 출력해줍니다."
   ]
  },
  {
   "cell_type": "code",
   "execution_count": null,
   "metadata": {},
   "outputs": [],
   "source": []
  }
 ],
 "metadata": {
  "kernelspec": {
   "display_name": "Python 3",
   "language": "python",
   "name": "python3"
  },
  "language_info": {
   "codemirror_mode": {
    "name": "ipython",
    "version": 3
   },
   "file_extension": ".py",
   "mimetype": "text/x-python",
   "name": "python",
   "nbconvert_exporter": "python",
   "pygments_lexer": "ipython3",
   "version": "3.8.3"
  }
 },
 "nbformat": 4,
 "nbformat_minor": 4
}
