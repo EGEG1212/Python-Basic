{
 "cells": [
  {
   "cell_type": "markdown",
   "metadata": {},
   "source": [
    "# 교수님풀이 지뢰찾기(패딩추가)"
   ]
  },
  {
   "cell_type": "code",
   "execution_count": null,
   "metadata": {},
   "outputs": [],
   "source": [
    "힌트1) 패딩1을 .으로 모두 주면.. 주변8개를 비교하면 됨\n",
    "1) 지뢰판만들기 랜덤으로 .* 만들어 출력 (9*9) i k \n",
    "2) .을 숫자로 바꿔 출력\n",
    "i-1 k-1 비교?"
   ]
  },
  {
   "cell_type": "code",
   "execution_count": null,
   "metadata": {},
   "outputs": [],
   "source": [
    "mines = [ ]  마인즈라는 리스트를 만들고 \n",
    "list.append() #추가하는\n",
    "빈리스트만들고 \n",
    "9번돌리고\n",
    "확률주기40% 0.6 폭탄안나올확률60%\n",
    "마인즈 리스트에 어펜트하면..\n",
    "출력....."
   ]
  },
  {
   "cell_type": "code",
   "execution_count": 1,
   "metadata": {},
   "outputs": [],
   "source": [
    "\n",
    "import random as rd\n",
    "mines = []\n",
    "for i in range(9):\n",
    "    rows = []\n",
    "    for k in range(9):\n",
    "        if rd.random() > 0.6:\n",
    "            rows.append('*')\n",
    "        else:\n",
    "            rows.append('.')\n",
    "    mines.append(rows)\n",
    "\n"
   ]
  },
  {
   "cell_type": "code",
   "execution_count": 2,
   "metadata": {},
   "outputs": [
    {
     "name": "stdout",
     "output_type": "stream",
     "text": [
      "..***.*..\n",
      ".**...*..\n",
      "*.**.*...\n",
      ".*..*...*\n",
      "...**.*.*\n",
      "......*.*\n",
      "***.*...*\n",
      "....*.**.\n",
      "*......*.\n"
     ]
    }
   ],
   "source": [
    "for i in range(9):\n",
    "    for k in range(9):\n",
    "        print(mines[i][k], end='')\n",
    "    print()"
   ]
  },
  {
   "cell_type": "code",
   "execution_count": 3,
   "metadata": {},
   "outputs": [],
   "source": [
    "pad_mines = []\n",
    "pad_mines.append('...........')\n",
    "for i in range(9):\n",
    "    rows = ['.']\n",
    "    for k in range(9):\n",
    "        rows.append(mines[i][k])\n",
    "    rows.append('.')\n",
    "    pad_mines.append(rows)\n",
    "pad_mines.append('...........')"
   ]
  },
  {
   "cell_type": "code",
   "execution_count": 4,
   "metadata": {},
   "outputs": [
    {
     "name": "stdout",
     "output_type": "stream",
     "text": [
      "...........\n",
      "...***.*...\n",
      "..**...*...\n",
      ".*.**.*....\n",
      "..*..*...*.\n",
      "....**.*.*.\n",
      ".......*.*.\n",
      ".***.*...*.\n",
      ".....*.**..\n",
      ".*......*..\n",
      "...........\n"
     ]
    }
   ],
   "source": [
    "for i in range(11):\n",
    "    for k in range(11):\n",
    "        print(pad_mines[i][k], end='')\n",
    "    print()"
   ]
  },
  {
   "cell_type": "code",
   "execution_count": 6,
   "metadata": {},
   "outputs": [],
   "source": [
    "\n",
    "final_mines = []\n",
    "for i in range(1,10):\n",
    "    rows = []\n",
    "    for k in range(1,10):\n",
    "        if pad_mines[i][k] == '*':\n",
    "            rows.append('*')\n",
    "        else:\n",
    "            count = (pad_mines[i-1][k-1] == '*') \\\n",
    "                  + (pad_mines[i-1][k] == '*') + (pad_mines[i-1][k+1] == '*') \\\n",
    "                  + (pad_mines[i][k-1] == '*') + (pad_mines[i][k+1] == '*') \\\n",
    "                  + (pad_mines[i+1][k-1] == '*') \\\n",
    "                  + (pad_mines[i+1][k] == '*') + (pad_mines[i+1][k+1] == '*')\n",
    "            rows.append(str(count))\n",
    "    final_mines.append(rows)"
   ]
  },
  {
   "cell_type": "code",
   "execution_count": 7,
   "metadata": {},
   "outputs": [
    {
     "name": "stdout",
     "output_type": "stream",
     "text": [
      "13***3*20\n",
      "2**644*20\n",
      "*5**3*221\n",
      "2*45*423*\n",
      "112**4*5*\n",
      "233434*5*\n",
      "***3*435*\n",
      "3423*3**3\n",
      "*101123*2\n"
     ]
    }
   ],
   "source": [
    "for i in range(9):\n",
    "    for k in range(9):\n",
    "        print(final_mines[i][k], end='')\n",
    "    print()\n"
   ]
  },
  {
   "cell_type": "code",
   "execution_count": null,
   "metadata": {},
   "outputs": [],
   "source": []
  },
  {
   "cell_type": "code",
   "execution_count": null,
   "metadata": {},
   "outputs": [],
   "source": []
  },
  {
   "cell_type": "code",
   "execution_count": null,
   "metadata": {},
   "outputs": [],
   "source": []
  },
  {
   "cell_type": "code",
   "execution_count": null,
   "metadata": {},
   "outputs": [],
   "source": []
  },
  {
   "cell_type": "code",
   "execution_count": null,
   "metadata": {},
   "outputs": [],
   "source": []
  },
  {
   "cell_type": "markdown",
   "metadata": {},
   "source": [
    "# --------------------------------"
   ]
  },
  {
   "cell_type": "code",
   "execution_count": null,
   "metadata": {
    "scrolled": true
   },
   "outputs": [],
   "source": [
    "# https://codingdojang.com/scode/421?langby=python\n",
    "import random\n",
    "m = int(input(\"M:\"))\n",
    "n = int(input(\"N:\"))\n",
    "if not(n > 0 and m <= 100):\n",
    "    raise Exception(\"N > 0, M <= 100\")\n",
    "mn = [[random.choice(['.','.','.','.','*']) for x in range(n)] for y in range(m)]\n",
    "for y in mn:\n",
    "    print(''.join(y))\n",
    "r = mn.copy()\n",
    "for y, yd in enumerate(r):\n",
    "    for x, xd in enumerate(yd):\n",
    "        if r[y][x] == '*': continue\n",
    "        count = 0\n",
    "        c = [[''] if y - 1 < 0 else r[y-1][0 if x - 1 < 0 else x - 1:x+2],\n",
    "             r[y][0 if x - 1 < 0 else x - 1:x+2],             \n",
    "             [''] if y + 1 >= m else r[y+1][0 if x - 1 < 0 else x - 1:x+2]]\n",
    "        for z in c:\n",
    "            count+=z.count('*')\n",
    "        r[y][x] = str(count)\n",
    "\n",
    "print(\"output\")\n",
    "for y in r:\n",
    "    print(''.join(y))  "
   ]
  },
  {
   "cell_type": "code",
   "execution_count": 2,
   "metadata": {},
   "outputs": [
    {
     "name": "stdout",
     "output_type": "stream",
     "text": [
      "컬럼개수를 입력하세요.[100이하]:9\n",
      "열에 개수를 입력하세요.[0이상]:9\n",
      "*   *   *   4   *   *   *   4   *\n",
      "*   *   5   *   *   6   *   5   *\n",
      "4   *   4   4   *   3   2   4   *\n",
      "*   3   *   3   3   2   3   *   3\n",
      "3   5   4   *   4   *   5   *   3\n",
      "*   *   *   4   *   *   *   4   *\n",
      "*   *   4   3   *   5   5   *   4\n",
      "4   *   3   2   3   *   4   *   *\n",
      "*   2   2   *   2   2   *   4   *\n"
     ]
    }
   ],
   "source": [
    "# https://codingdojang.com/scode/421?langby=python 여기의 또다른 답변\n",
    "import random\n",
    "\n",
    "def printMatrix(_list):\n",
    "    for row in _list:\n",
    "        print (\"   \".join(row))\n",
    "\n",
    "def randomBomb():\n",
    "    bomb=['*','.']\n",
    "    return random.choice(bomb)\n",
    "\n",
    "m = int(input(\"컬럼개수를 입력하세요.[100이하]:\")) \n",
    "n = int(input(\"열에 개수를 입력하세요.[0이상]:\"))\n",
    "\n",
    "n_matrix = []\n",
    "\n",
    "for ndx in range(0,n):\n",
    "    n_matrix.append([\"*\"] * m)\n",
    "\n",
    "\n",
    "for ndx in range(0,n):\n",
    "    for mdx in range(0,m):\n",
    "            n_matrix[ndx][mdx]=randomBomb()\n",
    "\n",
    "for ndx in range(0,n):\n",
    "    for mdx in range(0,m):\n",
    "            if n_matrix[ndx][mdx] != \"*\":\n",
    "                bombCount = 0\n",
    "                for x in range(-1,2):\n",
    "                    for y in range(-1,2):\n",
    "                        xindex = ndx + x\n",
    "                        yindex = mdx + y\n",
    "                        if xindex > -1 and yindex > -1 and xindex < m  and yindex < n:\n",
    "                            if \"*\" == n_matrix[ndx + x][mdx + y]:\n",
    "                                bombCount = bombCount + 1\n",
    "\n",
    "                n_matrix[ndx][mdx]=str(bombCount)\n",
    "\n",
    "printMatrix(n_matrix)"
   ]
  },
  {
   "cell_type": "code",
   "execution_count": 8,
   "metadata": {},
   "outputs": [
    {
     "name": "stdout",
     "output_type": "stream",
     "text": [
      "9\n"
     ]
    },
    {
     "ename": "ValueError",
     "evalue": "not enough values to unpack (expected 2, got 1)",
     "output_type": "error",
     "traceback": [
      "\u001b[1;31m---------------------------------------------------------------------------\u001b[0m",
      "\u001b[1;31mValueError\u001b[0m                                Traceback (most recent call last)",
      "\u001b[1;32m<ipython-input-8-cb70bc2752cc>\u001b[0m in \u001b[0;36m<module>\u001b[1;34m\u001b[0m\n\u001b[0;32m      1\u001b[0m \u001b[1;31m# https://blog.naver.com/wgbtlcs/222055611645\u001b[0m\u001b[1;33m\u001b[0m\u001b[1;33m\u001b[0m\u001b[1;33m\u001b[0m\u001b[0m\n\u001b[1;32m----> 2\u001b[1;33m \u001b[0ma\u001b[0m\u001b[1;33m,\u001b[0m\u001b[0mb\u001b[0m \u001b[1;33m=\u001b[0m \u001b[0mmap\u001b[0m\u001b[1;33m(\u001b[0m\u001b[0mint\u001b[0m\u001b[1;33m,\u001b[0m\u001b[0minput\u001b[0m\u001b[1;33m(\u001b[0m\u001b[1;33m)\u001b[0m\u001b[1;33m.\u001b[0m\u001b[0msplit\u001b[0m\u001b[1;33m(\u001b[0m\u001b[1;33m)\u001b[0m\u001b[1;33m)\u001b[0m\u001b[1;33m\u001b[0m\u001b[1;33m\u001b[0m\u001b[0m\n\u001b[0m\u001b[0;32m      3\u001b[0m \u001b[0mmatrirx\u001b[0m \u001b[1;33m=\u001b[0m \u001b[1;33m[\u001b[0m\u001b[1;33m]\u001b[0m\u001b[1;33m\u001b[0m\u001b[1;33m\u001b[0m\u001b[0m\n\u001b[0;32m      4\u001b[0m \u001b[1;32mfor\u001b[0m \u001b[0mi\u001b[0m \u001b[1;32min\u001b[0m \u001b[0mrange\u001b[0m\u001b[1;33m(\u001b[0m\u001b[0mb\u001b[0m\u001b[1;33m)\u001b[0m\u001b[1;33m:\u001b[0m\u001b[1;33m\u001b[0m\u001b[1;33m\u001b[0m\u001b[0m\n\u001b[0;32m      5\u001b[0m     \u001b[0mmatrix\u001b[0m\u001b[1;33m.\u001b[0m\u001b[0mappend\u001b[0m\u001b[1;33m(\u001b[0m\u001b[0mlist\u001b[0m\u001b[1;33m(\u001b[0m\u001b[0minput\u001b[0m\u001b[1;33m(\u001b[0m\u001b[1;33m)\u001b[0m\u001b[1;33m)\u001b[0m\u001b[1;33m)\u001b[0m\u001b[1;33m\u001b[0m\u001b[1;33m\u001b[0m\u001b[0m\n",
      "\u001b[1;31mValueError\u001b[0m: not enough values to unpack (expected 2, got 1)"
     ]
    }
   ],
   "source": [
    "# https://blog.naver.com/wgbtlcs/222055611645 어떻게 써먹어야할지 모르겠음 ㅋㅋ\n",
    "a,b = map(int,input().split())\n",
    "matrirx = []\n",
    "for i in range(b):\n",
    "    matrix.append(list(input()))\n",
    "    \n",
    "newmatrix = [[0]*b for z in range(a)]\n",
    "x = [-1, -1, -1, 0, 0, 1, 1, 1]\n",
    "y = [-1, 0, 1, -1, 1, -1, 0, 1]\n",
    "for i in range(a):\n",
    "    for j in range(b):\n",
    "        if matrix[i][j] == '*':\n",
    "            newmatrix[i][j] = '*'\n",
    "        else:\n",
    "            for k in range(8):\n",
    "                if 0 <= i + x[k] < b and 0 <= j + y[k] < b:\n",
    "                    if matrix[i + x[k]][j + y [k]] == \"*\":\n",
    "                        newmatrix[i][j] += 1\n",
    "                            \n",
    "for p in range(a):\n",
    "    for q in range(b):\n",
    "        print(newmatrix[p][q], end='')\n",
    "    print()"
   ]
  },
  {
   "cell_type": "code",
   "execution_count": 5,
   "metadata": {},
   "outputs": [
    {
     "name": "stdout",
     "output_type": "stream",
     "text": [
      "**..*****\n",
      ".*.**.*..\n",
      "*...*.*..\n",
      "..*.**..*\n",
      "*...*..**\n",
      "*.*******\n",
      "**..****.\n",
      "...**.**.\n",
      "*.***....\n",
      "output\n",
      "**33*****\n",
      "4*3**7*52\n",
      "*335*6*31\n",
      "23*4**34*\n",
      "*436*65**\n",
      "*5*******\n",
      "**46****4\n",
      "344**6**2\n",
      "*2***3221\n"
     ]
    }
   ],
   "source": [
    "import random\n",
    "m = 9\n",
    "n = 9\n",
    "mn = [[random.choice(['.','.','.','.','*','.','.']) for x in range(n)] for y in range(m)]\n",
    "for y in mn:\n",
    "    print(''.join(y))\n",
    "r = mn.copy()\n",
    "for y, yd in enumerate(r):\n",
    "    for x, xd in enumerate(yd):\n",
    "        if r[y][x] == '*': continue\n",
    "        count = 0\n",
    "        c = [[''] if y - 1 < 0 else r[y-1][0 if x - 1 < 0 else x - 1:x+2],\n",
    "             r[y][0 if x - 1 < 0 else x - 1:x+2],             \n",
    "             [''] if y + 1 >= m else r[y+1][0 if x - 1 < 0 else x - 1:x+2]]\n",
    "        for z in c:\n",
    "            count+=z.count('*')\n",
    "        r[y][x] = str(count)\n",
    "\n",
    "print(\"output\")\n",
    "for y in r:\n",
    "    print(''.join(y)) "
   ]
  },
  {
   "cell_type": "code",
   "execution_count": 4,
   "metadata": {},
   "outputs": [
    {
     "ename": "SyntaxError",
     "evalue": "invalid syntax (<ipython-input-4-f12b10c31376>, line 1)",
     "output_type": "error",
     "traceback": [
      "\u001b[1;36m  File \u001b[1;32m\"<ipython-input-4-f12b10c31376>\"\u001b[1;36m, line \u001b[1;32m1\u001b[0m\n\u001b[1;33m    import matplotlib.pyplot as plt import numpy as np today=27 # 오늘 날짜 labels = ['10/'+str(i) for i in range (12,today)] #12일부터 오늘이전까지 domestic =[69,53,95,41,62,71,50,41,57,104,138,66,50,94,72] # 국내발생 foreign = [33,31,15,6,11,20,26,17,34,17,17,11,11,25,16] # 해외유입 Bottom=min(foreign)-5 Top=max(domestic)+10 width = 0.35 # 그래프 폭 plt.rc('font', family='Malgun Gothic') # 맑은 고딕 fig, ax = plt.subplots(figsize=(9,5)) # 2개이상 그래프 사용 x = np.arange(len(labels)) # label 위치 배열만들기 ax.bar(x+width/2, foreign, width, label='해외유입') ax.bar(x-width/2, domestic,width, label='국내발생') ax.set_xticks(x) # x축 체크 배열 ax.set_xticklabels(labels) # labels 리스트 내용 출력 ax.set_ylabel('확진자') # y축 레이블 ax.set_title(f'코로나19 확진자 추세 {v} 10/{today} 00:00 기준') ax.axis(ymin=Bottom,ymax=Top) # y 축 최소 최대 for p in ax.patches: left, bottom, width, height = p.get_bbox().bounds # 막대의 정보 저장 ax.annotate(\"%d\" %(height), xy=( left+width/2, height+2), ha='center', va='center') ax.legend() # 범례 plt.grid() # 격자선 plt.show() # 그래프 보여주기\u001b[0m\n\u001b[1;37m                                    ^\u001b[0m\n\u001b[1;31mSyntaxError\u001b[0m\u001b[1;31m:\u001b[0m invalid syntax\n"
     ]
    }
   ],
   "source": [
    "v='v0.41' # 이중 막대그래프 나란히 -시공여행자- \n",
    "import matplotlib.pyplot as plt \n",
    "import numpy as np \n",
    "today=27 # 오늘 날짜 \n",
    "labels = ['10/'+str(i) for i in range (12,today)] #12일부터 오늘이전까지 \n",
    "domestic =[69,53,95,41,62,71,50,41,57,104,138,66,50,94,72] # 국내발생 foreign = [33,31,15,6,11,20,26,17,34,17,17,11,11,25,16] \n",
    "# 해외유입 Bottom=min(foreign)-5 Top=max(domestic)+10 width = 0.35 \n",
    "# 그래프 폭 plt.rc('font', family='Malgun Gothic') \n",
    "# 맑은 고딕 fig, ax = plt.subplots(figsize=(9,5)) \n",
    "# 2개이상 그래프 사용 x = np.arange(len(labels)) \n",
    "# label 위치 배열만들기 ax.bar(x+width/2, foreign, width, label='해외유입') ax.bar(x-width/2, domestic,width, label='국내발생') ax.set_xticks(x) # x축 체크 배열 ax.set_xticklabels(labels) # labels 리스트 내용 출력 ax.set_ylabel('확진자') # y축 레이블 ax.set_title(f'코로나19 확진자 추세 {v} 10/{today} 00:00 기준') ax.axis(ymin=Bottom,ymax=Top) # y 축 최소 최대 for p in ax.patches: left, bottom, width, height = p.get_bbox().bounds # 막대의 정보 저장 ax.annotate(\"%d\" %(height), xy=( left+width/2, height+2), ha='center', va='center') ax.legend() # 범례 plt.grid() # 격자선 plt.show() # 그래프 보여주기"
   ]
  },
  {
   "cell_type": "code",
   "execution_count": null,
   "metadata": {},
   "outputs": [],
   "source": []
  }
 ],
 "metadata": {
  "kernelspec": {
   "display_name": "Python 3",
   "language": "python",
   "name": "python3"
  },
  "language_info": {
   "codemirror_mode": {
    "name": "ipython",
    "version": 3
   },
   "file_extension": ".py",
   "mimetype": "text/x-python",
   "name": "python",
   "nbconvert_exporter": "python",
   "pygments_lexer": "ipython3",
   "version": "3.8.3"
  }
 },
 "nbformat": 4,
 "nbformat_minor": 4
}
