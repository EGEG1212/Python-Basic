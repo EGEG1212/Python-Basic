{
 "cells": [
  {
   "cell_type": "markdown",
   "metadata": {},
   "source": [
    "# Unit 32. 람다 표현식 사용하기"
   ]
  },
  {
   "cell_type": "markdown",
   "metadata": {},
   "source": [
    "같은거..\n",
    ">lambda x: x * x\n",
    "\n",
    ">x => x*x\n",
    "\n",
    ">function anonymous(x) {\n",
    "    return x*x\n",
    "}\n",
    "\n",
    ">(x) => {\n",
    "    return x*x\n",
    "}"
   ]
  },
  {
   "cell_type": "code",
   "execution_count": 2,
   "metadata": {},
   "outputs": [],
   "source": [
    "def plus_ten(x):\n",
    "    return x +10"
   ]
  },
  {
   "cell_type": "code",
   "execution_count": 6,
   "metadata": {},
   "outputs": [
    {
     "data": {
      "text/plain": [
       "30"
      ]
     },
     "execution_count": 6,
     "metadata": {},
     "output_type": "execute_result"
    }
   ],
   "source": [
    "plus_ten(20)"
   ]
  },
  {
   "cell_type": "code",
   "execution_count": 7,
   "metadata": {},
   "outputs": [
    {
     "data": {
      "text/plain": [
       "30"
      ]
     },
     "execution_count": 7,
     "metadata": {},
     "output_type": "execute_result"
    }
   ],
   "source": [
    "# 위에 일반적인 함수를 아래 람다(익명함수)로 바꿔보겠다!★★★★★★★★★★★★★\n",
    "lambda_ten = lambda x: x + 10  #변수lambda_ten에  함수람다를 주고\n",
    "lambda_ten(20)    #변수에다가 입력하면 뿅! 나왔다 30"
   ]
  },
  {
   "cell_type": "code",
   "execution_count": null,
   "metadata": {},
   "outputs": [],
   "source": [
    "# 익명함수라고하는 놈들은.. 일반적으로는 잘 안쓰나, \n",
    "#     윈도우프로그램은 이벤트상황을 기다렸다가 처리하는 것의 연속\n",
    "#     모든 이벤트를 함수화시키기에는 너무많으니까 익명함수화처리한다..\n",
    "#     함수이름 붙이는것도 일.... ㅋ\n",
    "# 어떤 리스트에 대해 map(함수명, 리스트) 식으로 들어감\n",
    "#     함수를 각 리스트엘리먼트에 적용시킨다는 뜻\n",
    "#     이떄 함수명은 ... 단순한표현또는 람다식을 넣어준다. \n"
   ]
  },
  {
   "cell_type": "markdown",
   "metadata": {},
   "source": [
    "### 32.1.2  람다 표현식 안에서는 변수를 만들 수 없다"
   ]
  },
  {
   "cell_type": "code",
   "execution_count": 8,
   "metadata": {},
   "outputs": [
    {
     "data": {
      "text/plain": [
       "[11, 12, 13]"
      ]
     },
     "execution_count": 8,
     "metadata": {},
     "output_type": "execute_result"
    }
   ],
   "source": [
    "list(map(plus_ten, [1, 2, 3]))    #일반적 이런 식을"
   ]
  },
  {
   "cell_type": "code",
   "execution_count": 9,
   "metadata": {
    "scrolled": true
   },
   "outputs": [
    {
     "data": {
      "text/plain": [
       "[11, 12, 13]"
      ]
     },
     "execution_count": 9,
     "metadata": {},
     "output_type": "execute_result"
    }
   ],
   "source": [
    "list(map(lambda x: x + 10, [1, 2, 3]))   # 람다로 바꾸어보았다(같은결과)"
   ]
  },
  {
   "cell_type": "markdown",
   "metadata": {},
   "source": [
    "## 32.2.1  람다 표현식에 조건부 표현식 사용하기"
   ]
  },
  {
   "cell_type": "markdown",
   "metadata": {},
   "source": [
    "## 3항연산자 \n",
    "### (교수님이 건너뛰었었었었다고 하심)\n",
    "조건식 ? 참일때값 : 거짓일때값     .... 나는 이렇게 알고있었는데 ㅋㅋ"
   ]
  },
  {
   "cell_type": "markdown",
   "metadata": {},
   "source": [
    "참일때값 if 조건식 else 거짓일때값   # 파이썬의 3항연산자는 이렇게 생겼다"
   ]
  },
  {
   "cell_type": "code",
   "execution_count": 15,
   "metadata": {},
   "outputs": [
    {
     "data": {
      "text/plain": [
       "10"
      ]
     },
     "execution_count": 15,
     "metadata": {},
     "output_type": "execute_result"
    }
   ],
   "source": [
    "x = 8\n",
    "y = 0\n",
    "if x >= 10:\n",
    "    y = x\n",
    "else:\n",
    "    y = 10\n",
    "y       #x가 8이면 y결과10. x가 12면 y결과12"
   ]
  },
  {
   "cell_type": "code",
   "execution_count": 16,
   "metadata": {},
   "outputs": [
    {
     "data": {
      "text/plain": [
       "10"
      ]
     },
     "execution_count": 16,
     "metadata": {},
     "output_type": "execute_result"
    }
   ],
   "source": [
    "y = x if x >= 10 else 10    # 위의 노드식을 파이썬3항으로바꾸어보았다. \n",
    "y                            # 불편 지저분... "
   ]
  },
  {
   "cell_type": "code",
   "execution_count": null,
   "metadata": {},
   "outputs": [],
   "source": [
    "x = 8\n",
    "y = 0\n",
    "if x >= 0:  #여기가 0으로 바뀌었을뿐인데 렐루ReLU 머신러닝할떄 나옴;\n",
    "    y = x\n",
    "else:\n",
    "    y = 10\n",
    "y       #x가 8이면 y결과10. x가 12면 y결과12"
   ]
  },
  {
   "cell_type": "code",
   "execution_count": 17,
   "metadata": {},
   "outputs": [
    {
     "data": {
      "text/plain": [
       "0"
      ]
     },
     "execution_count": 17,
     "metadata": {},
     "output_type": "execute_result"
    }
   ],
   "source": [
    "# 렐루를 람다표현식으로 해보겠다 (맞으면 이거, 아님 이거)★★★★★★★★★\n",
    "relu = lambda x: x if x >= 0 else 0\n",
    "relu(-3)"
   ]
  },
  {
   "cell_type": "code",
   "execution_count": 18,
   "metadata": {},
   "outputs": [
    {
     "data": {
      "text/plain": [
       "4"
      ]
     },
     "execution_count": 18,
     "metadata": {},
     "output_type": "execute_result"
    }
   ],
   "source": [
    "relu(4)"
   ]
  },
  {
   "cell_type": "markdown",
   "metadata": {},
   "source": [
    "## 32.2.2  map에 객체를 여러 개 넣기"
   ]
  },
  {
   "cell_type": "code",
   "execution_count": 19,
   "metadata": {},
   "outputs": [
    {
     "data": {
      "text/plain": [
       "[2, 8, 18, 32, 50]"
      ]
     },
     "execution_count": 19,
     "metadata": {},
     "output_type": "execute_result"
    }
   ],
   "source": [
    "a = [1, 2, 3, 4, 5]\n",
    "b = [2, 4, 6, 8, 10]\n",
    "list(map(lambda x, y: x * y, a, b))  #x * y 함수가 들있어, 페어링 곱곱"
   ]
  },
  {
   "cell_type": "markdown",
   "metadata": {},
   "source": [
    "## 32.2.3  filter 사용하기"
   ]
  },
  {
   "cell_type": "code",
   "execution_count": 20,
   "metadata": {},
   "outputs": [],
   "source": [
    "def f(x):\n",
    "    return x > 5 and x < 10  # 조건맞으면 True리턴(내려보냄), 조건틀리면 False리턴(안내려보냄ㅋ)"
   ]
  },
  {
   "cell_type": "code",
   "execution_count": 22,
   "metadata": {},
   "outputs": [
    {
     "data": {
      "text/plain": [
       "[6, 8]"
      ]
     },
     "execution_count": 22,
     "metadata": {},
     "output_type": "execute_result"
    }
   ],
   "source": [
    "a = [2, 4, 6, 8, 10, 12]  # map대신 필터를넣어보겠다.\n",
    "list(filter(f, a))        # f필터를 a에 적용. 통과하는애들만 나옴"
   ]
  },
  {
   "cell_type": "code",
   "execution_count": 24,
   "metadata": {},
   "outputs": [
    {
     "data": {
      "text/plain": [
       "[6, 8]"
      ]
     },
     "execution_count": 24,
     "metadata": {},
     "output_type": "execute_result"
    }
   ],
   "source": [
    "# f자리에 람다를 넣을 수 있다.\n",
    "list(filter(lambda x: x > 5 and x < 10, a))"
   ]
  },
  {
   "cell_type": "code",
   "execution_count": 32,
   "metadata": {},
   "outputs": [
    {
     "data": {
      "text/plain": [
       "[6, 8]"
      ]
     },
     "execution_count": 32,
     "metadata": {},
     "output_type": "execute_result"
    }
   ],
   "source": [
    "# 위와똑같이 6,8을 꺼낼 수 있는 리스트표현식을 해보자(깜짝과제)★★★★★★★★★\n",
    "[ x for x in a if  x > 5 and x < 10]      #코딩도장22.5.1참고"
   ]
  },
  {
   "cell_type": "markdown",
   "metadata": {},
   "source": [
    "# 코딩도장 퀴즈"
   ]
  },
  {
   "cell_type": "markdown",
   "metadata": {},
   "source": [
    "#### 1. 다음 중 값 세 개를 매개변수로 받은 뒤 매개변수를 모두 곱해서 반환하는 람다 표현식\n",
    "\n",
    "lambda a, b, c: a * b * c  \n",
    "\n",
    "\n",
    "람다 표현식은 lambda 매개변수들: 식 형식으로 만듭니다. 여기서는 값 세 개를 매개변수로 받은 뒤 모두 곱해야 하므로 lambda a, b, c: a * b * c와 같이 만들어야 합니다."
   ]
  },
  {
   "cell_type": "markdown",
   "metadata": {},
   "source": [
    "#### 2. 다음 중 람다 표현식 자체를 호출하는 방법으로 올바른 것\n",
    "\n",
    "\n",
    "(lambda a: a + 1)(10)  \n",
    "\n",
    "람다 표현식 자체를 호출할 때는 (lambda 매개변수들: 식)(인수들) 형식으로 호출"
   ]
  },
  {
   "cell_type": "markdown",
   "metadata": {},
   "source": [
    "#### 3. 다음 중 리스트 a의 요소 중 7로 끝나는 숫자만 다시 리스트로 만드는 방법\n",
    "\n",
    "list(filter(lambda x: x % 10 == 7, a))  \n",
    "\n",
    "\n",
    "리스트의 요소 중 조건에 맞는 요소를 가져올 때는 filter를 사용해야 합니다. 이때 7로 끝나는 숫자만 가져오려면 lambda x: x % 10 == 7처럼 변수를 10으로 나누었을 때 나머지가 7이면 True가 나오도록 들어야 합니다."
   ]
  },
  {
   "cell_type": "markdown",
   "metadata": {},
   "source": [
    "# 코딩도장 연습문제"
   ]
  },
  {
   "cell_type": "code",
   "execution_count": null,
   "metadata": {},
   "outputs": [],
   "source": []
  }
 ],
 "metadata": {
  "kernelspec": {
   "display_name": "Python 3",
   "language": "python",
   "name": "python3"
  },
  "language_info": {
   "codemirror_mode": {
    "name": "ipython",
    "version": 3
   },
   "file_extension": ".py",
   "mimetype": "text/x-python",
   "name": "python",
   "nbconvert_exporter": "python",
   "pygments_lexer": "ipython3",
   "version": "3.8.3"
  }
 },
 "nbformat": 4,
 "nbformat_minor": 4
}
