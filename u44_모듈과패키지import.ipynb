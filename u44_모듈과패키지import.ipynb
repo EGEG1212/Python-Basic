{
 "metadata": {
  "language_info": {
   "codemirror_mode": {
    "name": "ipython",
    "version": 3
   },
   "file_extension": ".py",
   "mimetype": "text/x-python",
   "name": "python",
   "nbconvert_exporter": "python",
   "pygments_lexer": "ipython3",
   "version": "3.8.3-final"
  },
  "orig_nbformat": 2,
  "kernelspec": {
   "name": "Python 3.8.3 64-bit (conda)",
   "display_name": "Python 3.8.3 64-bit (conda)",
   "metadata": {
    "interpreter": {
     "hash": "b3ba2566441a7c06988d0923437866b63cedc61552a5af99d1f4fb67d367b25f"
    }
   }
  }
 },
 "nbformat": 4,
 "nbformat_minor": 2,
 "cells": [
  {
   "source": [
    "# Unit 44. 모듈과 패키지 사용하기\n",
    "설치안해도 사용한 모듈들.. re, math, string  \n",
    "import re  \n",
    "math  \n",
    "string  "
   ],
   "cell_type": "markdown",
   "metadata": {}
  },
  {
   "source": [
    "## 44.1 import로 모듈 가져오기"
   ],
   "cell_type": "markdown",
   "metadata": {}
  },
  {
   "cell_type": "code",
   "execution_count": null,
   "metadata": {},
   "outputs": [],
   "source": [
    "import 모듈\n",
    "import 모듈1, 모듈2 #여러개써도 상관없음\n",
    "모듈.변수           #모듈안에있는 변수\n",
    "모듈.함수()\n",
    "모듈.클래스()\n"
   ]
  },
  {
   "cell_type": "code",
   "execution_count": 1,
   "metadata": {},
   "outputs": [
    {
     "output_type": "execute_result",
     "data": {
      "text/plain": [
       "3.141592653589793"
      ]
     },
     "metadata": {},
     "execution_count": 1
    }
   ],
   "source": [
    "import math\n",
    "math.pi          #변수값 pi"
   ]
  },
  {
   "cell_type": "code",
   "execution_count": 2,
   "metadata": {},
   "outputs": [
    {
     "output_type": "execute_result",
     "data": {
      "text/plain": [
       "2.0"
      ]
     },
     "metadata": {},
     "execution_count": 2
    }
   ],
   "source": [
    "math.sqrt(4.0)      #스퀘어루트"
   ]
  },
  {
   "cell_type": "code",
   "execution_count": 4,
   "metadata": {},
   "outputs": [
    {
     "output_type": "execute_result",
     "data": {
      "text/plain": [
       "(3.141592653589793, 2.0)"
      ]
     },
     "metadata": {},
     "execution_count": 4
    }
   ],
   "source": [
    "import math as m       # as 줄여서 쓸수있다\n",
    "m.pi, m.sqrt(4.0)"
   ]
  },
  {
   "source": [
    "## 44.1.2  from import로 모듈의 일부만 가져오기\n",
    "from 모듈 import 변수  \n",
    "from 모듈 import 함수  \n",
    "from 모듈 import 클래스  \n",
    "from 모듈 import 변수, 함수, 클래스  \n",
    "from 모듈 import *"
   ],
   "cell_type": "markdown",
   "metadata": {}
  },
  {
   "cell_type": "code",
   "execution_count": 6,
   "metadata": {},
   "outputs": [
    {
     "output_type": "execute_result",
     "data": {
      "text/plain": [
       "(3.141592653589793, 2.0)"
      ]
     },
     "metadata": {},
     "execution_count": 6
    }
   ],
   "source": [
    "from math import pi, sqrt         #점점 더 편해졌어용~\n",
    "pi, sqrt(4.0)"
   ]
  },
  {
   "cell_type": "code",
   "execution_count": 7,
   "metadata": {},
   "outputs": [
    {
     "output_type": "execute_result",
     "data": {
      "text/plain": [
       "(1.0, 0.0, -2.4492935982947064e-16)"
      ]
     },
     "metadata": {},
     "execution_count": 7
    }
   ],
   "source": [
    "#양아치같은 짓?ㅋㅋ 다 가져올 수 있다\n",
    "from math import *\n",
    "exp(0), log(1), sin(2*pi)"
   ]
  },
  {
   "source": [
    "## 44.2 import로 패키지 가져오기\n",
    " 특정 기능과 관련된 여러 모듈을 묶은 것"
   ],
   "cell_type": "markdown",
   "metadata": {}
  },
  {
   "cell_type": "code",
   "execution_count": 8,
   "metadata": {},
   "outputs": [
    {
     "output_type": "execute_result",
     "data": {
      "text/plain": [
       "200"
      ]
     },
     "metadata": {},
     "execution_count": 8
    }
   ],
   "source": [
    "#이미 설치되어있는 urllib패키지.  그 패키지의모듈 request\n",
    "import urllib.request\n",
    "response = urllib.request.urlopen('http://www.google.co.kr') # 패키지.모듈request.함수urlopen\n",
    "response.status  #200 이란뜻은 OK 잘받았다!!"
   ]
  },
  {
   "cell_type": "code",
   "execution_count": 10,
   "metadata": {},
   "outputs": [
    {
     "output_type": "execute_result",
     "data": {
      "text/plain": [
       "200"
      ]
     },
     "metadata": {},
     "execution_count": 10
    }
   ],
   "source": [
    "# 위아래 같은\n",
    "import urllib.request as r\n",
    "response = r.urlopen('http://www.google.co.kr') # 패키지.모듈request.함수urlopen\n",
    "response.status  #200 이란뜻은 OK 잘받았다!!"
   ]
  },
  {
   "cell_type": "code",
   "execution_count": 12,
   "metadata": {},
   "outputs": [
    {
     "output_type": "execute_result",
     "data": {
      "text/plain": [
       "200"
      ]
     },
     "metadata": {},
     "execution_count": 12
    }
   ],
   "source": [
    "# 44.2.2  from import로 패키지의 모듈에서 일부만 가져오기\n",
    "from urllib.request import Request, urlopen  # urlopen 함수, Request 클래스를 가져옴\n",
    "req = Request('http://www.google.co.kr')     # Request 클래스를 사용하여 req 생성\n",
    "response = urlopen(req)                      # urlopen 함수 사용\n",
    "response.status"
   ]
  },
  {
   "cell_type": "code",
   "execution_count": 13,
   "metadata": {},
   "outputs": [
    {
     "output_type": "execute_result",
     "data": {
      "text/plain": [
       "200"
      ]
     },
     "metadata": {},
     "execution_count": 13
    }
   ],
   "source": [
    "from urllib.request import *    # urllib의 request 모듈에서 모든 변수, 함수, 클래스를 가져옴\n",
    "req = Request('http://www.google.co.kr')     # Request 클래스를 사용하여 req 생성\n",
    "response = urlopen(req)                      # urlopen 함수 사용\n",
    "response.status"
   ]
  },
  {
   "source": [
    "## 44.3.2  pip로 패키지 설치하기\n",
    "패키지 버전 관리기능이... npm은 최신버전으로 잘 깔아주는데 conda는 그닥.. 그렇다...   \n",
    "Node에서는 npm i 프로명 -g  /      npm i 프로명     \n",
    "파이썬에서는 pip install 프로명 / conda install 프로명 "
   ],
   "cell_type": "markdown",
   "metadata": {}
  },
  {
   "cell_type": "code",
   "execution_count": 20,
   "metadata": {},
   "outputs": [
    {
     "output_type": "error",
     "ename": "SyntaxError",
     "evalue": "invalid syntax (<ipython-input-20-c81b237611fa>, line 3)",
     "traceback": [
      "\u001b[1;36m  File \u001b[1;32m\"<ipython-input-20-c81b237611fa>\"\u001b[1;36m, line \u001b[1;32m3\u001b[0m\n\u001b[1;33m    url =\u001b[0m\n\u001b[1;37m          ^\u001b[0m\n\u001b[1;31mSyntaxError\u001b[0m\u001b[1;31m:\u001b[0m invalid syntax\n"
     ]
    }
   ],
   "source": [
    "#나는 기계아니고 사림이야~~ 하고 사기치고 들어갔당\n",
    "import requests\n",
    "url = \n",
    "header = {  }\n",
    "req = \n",
    "html = \n",
    "#단점 깃허브가 엄청 길게 출력할 수도 있어서 ㅋㅋㅋ 삭제 ㅋㅋ"
   ]
  },
  {
   "cell_type": "code",
   "execution_count": 21,
   "metadata": {},
   "outputs": [
    {
     "output_type": "error",
     "ename": "NameError",
     "evalue": "name 'html' is not defined",
     "traceback": [
      "\u001b[1;31m---------------------------------------------------------------------------\u001b[0m",
      "\u001b[1;31mNameError\u001b[0m                                 Traceback (most recent call last)",
      "\u001b[1;32m<ipython-input-21-90ae610a654b>\u001b[0m in \u001b[0;36m<module>\u001b[1;34m\u001b[0m\n\u001b[1;32m----> 1\u001b[1;33m \u001b[0mprint\u001b[0m\u001b[1;33m(\u001b[0m\u001b[0mhtml\u001b[0m\u001b[1;33m)\u001b[0m\u001b[1;33m\u001b[0m\u001b[1;33m\u001b[0m\u001b[0m\n\u001b[0m",
      "\u001b[1;31mNameError\u001b[0m: name 'html' is not defined"
     ]
    }
   ],
   "source": [
    "print(html)"
   ]
  },
  {
   "cell_type": "code",
   "execution_count": null,
   "metadata": {},
   "outputs": [],
   "source": []
  }
 ]
}