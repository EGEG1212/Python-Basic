{
 "cells": [
  {
   "cell_type": "markdown",
   "metadata": {},
   "source": [
    "# Unit 34. 클래스 사용하기"
   ]
  },
  {
   "cell_type": "code",
   "execution_count": 1,
   "metadata": {},
   "outputs": [],
   "source": [
    "#클래스 만드는 방법\n",
    "class Person:             # 클래스이름: 대문자로시작\n",
    "    def greeting(self):   # 함수를 만들면 메소드가 됨. 첫번째아귀먼트는 무조건 self 반드시붙여야함\n",
    "        print('Hello, world.')"
   ]
  },
  {
   "cell_type": "code",
   "execution_count": 2,
   "metadata": {},
   "outputs": [],
   "source": [
    "# 자바에서는 new 로 썼는데? today = new Date();\n",
    "# 파이썬에서는 아래와 같다  \n",
    "# 인스턴스만들기\n",
    "james = Person() "
   ]
  },
  {
   "cell_type": "code",
   "execution_count": 3,
   "metadata": {},
   "outputs": [
    {
     "name": "stdout",
     "output_type": "stream",
     "text": [
      "Hello, world.\n"
     ]
    }
   ],
   "source": [
    "# 메소드호출하기. 가장단순한형태\n",
    "james.greeting()  # 왠지 위self써있어서 써야할것같은데.. 아니다. 함수와달라용"
   ]
  },
  {
   "cell_type": "code",
   "execution_count": 4,
   "metadata": {},
   "outputs": [],
   "source": [
    "class Person:             \n",
    "    def greeting(self): # 그리팅메소드, 헬로메소드    \n",
    "        print('Hello')\n",
    "    def hello(self):\n",
    "        self.greeting()  # 안에있는 메소드 불러야할떄 self.greeting() 해줘야한다"
   ]
  },
  {
   "cell_type": "code",
   "execution_count": 9,
   "metadata": {},
   "outputs": [
    {
     "name": "stdout",
     "output_type": "stream",
     "text": [
      "Hello\n"
     ]
    }
   ],
   "source": [
    "maria = Person()\n",
    "maria.hello()"
   ]
  },
  {
   "cell_type": "code",
   "execution_count": 10,
   "metadata": {},
   "outputs": [
    {
     "data": {
      "text/plain": [
       "True"
      ]
     },
     "execution_count": 10,
     "metadata": {},
     "output_type": "execute_result"
    }
   ],
   "source": [
    "isinstance(maria, Person)  #34.1.3참고\n",
    "# 현재 인스턴스가 특정 클래스의 인스턴스인지 확인할 때는 isinstance 함수를 사용합니다. 특정 클래스의 인스턴스가 맞으면 True, 아니면 False를 반환합니다.\n",
    "# isinstance는 주로 객체의 자료형을 판단할 때 사용"
   ]
  },
  {
   "cell_type": "markdown",
   "metadata": {},
   "source": [
    "## 34.2 속성 사용하기"
   ]
  },
  {
   "cell_type": "code",
   "execution_count": 13,
   "metadata": {},
   "outputs": [],
   "source": [
    "class Person:\n",
    "    def __init__(self, name, age, address):  #__init__\n",
    "        self.hello = '안녕하세요.'        #이런속성을 갖고있다.\n",
    "        self.name = name\n",
    "        self.age = age\n",
    "        self.address = address\n",
    " \n",
    "    def greeting(self):\n",
    "        print(f'{self.hello} 저는 {self.name}입니다.')\n"
   ]
  },
  {
   "cell_type": "code",
   "execution_count": 15,
   "metadata": {},
   "outputs": [],
   "source": [
    "# 위를 부를떄는.. 이렇게 하는것이다.\n",
    "# 이름 나이 주소 주기. 근데 self가 첫번쨰라 2.3.4번쨰 \n",
    "maria = Person('마리아', 20, '서울시 서초구 반포동')"
   ]
  },
  {
   "cell_type": "code",
   "execution_count": 16,
   "metadata": {},
   "outputs": [
    {
     "name": "stdout",
     "output_type": "stream",
     "text": [
      "안녕하세요. 저는 마리아입니다.\n"
     ]
    }
   ],
   "source": [
    "# 그리팅을 줍니다\n",
    "maria.greeting()"
   ]
  },
  {
   "cell_type": "code",
   "execution_count": 26,
   "metadata": {},
   "outputs": [],
   "source": [
    "#깜짝퀴즈 저는 몇살이고 어디에 삽니다.를추가하라1. 클래스추가방법\n",
    "class Person:  # 클래스로 인스턴스를 만들때 호출되는 메서드__init__\n",
    "    def __init__(self, name, age, address):  #__init__ 반드시있어야함.\n",
    "        self.hello = '안녕하세요.'        #이런속성을 갖고있다.\n",
    "        self.name = name\n",
    "        self.age = age\n",
    "        self.address = address\n",
    " \n",
    "    def greeting(self):\n",
    "        print(f'{self.hello} 저는 {self.name}입니다.')\n",
    "    def introduce(self):\n",
    "        print(f'저는 {self.age}살이고 {self.address}살고 있습니다.')"
   ]
  },
  {
   "cell_type": "code",
   "execution_count": 27,
   "metadata": {},
   "outputs": [],
   "source": [
    "james = Person('제임스', 20, '발산동')"
   ]
  },
  {
   "cell_type": "code",
   "execution_count": 28,
   "metadata": {},
   "outputs": [
    {
     "name": "stdout",
     "output_type": "stream",
     "text": [
      "안녕하세요. 저는 제임스입니다.\n",
      "저는 20살이고 발산동살고 있습니다.\n"
     ]
    }
   ],
   "source": [
    "james.greeting()\n",
    "james.introduce()"
   ]
  },
  {
   "cell_type": "code",
   "execution_count": null,
   "metadata": {},
   "outputs": [],
   "source": [
    "#깜짝퀴즈 저는 몇살이고 어디에 삽니다.를추가하라2. 상속하기방법은 이따가.."
   ]
  },
  {
   "cell_type": "code",
   "execution_count": 29,
   "metadata": {},
   "outputs": [],
   "source": [
    "james.job = '개발자'"
   ]
  },
  {
   "cell_type": "code",
   "execution_count": 31,
   "metadata": {},
   "outputs": [
    {
     "name": "stdout",
     "output_type": "stream",
     "text": [
      "제임스\n",
      "개발자\n"
     ]
    }
   ],
   "source": [
    "print(james.name)  #속성값은 이렇게 밖에서 출력이 가능\n",
    "print(james.job)"
   ]
  },
  {
   "cell_type": "code",
   "execution_count": null,
   "metadata": {},
   "outputs": [],
   "source": [
    "# 단점은..   펄슨하나 만들고"
   ]
  },
  {
   "cell_type": "code",
   "execution_count": 32,
   "metadata": {},
   "outputs": [],
   "source": [
    "maria = Person('마리아', 20, '서울시 서초구 반포동')"
   ]
  },
  {
   "cell_type": "code",
   "execution_count": 33,
   "metadata": {},
   "outputs": [
    {
     "name": "stdout",
     "output_type": "stream",
     "text": [
      "마리아\n"
     ]
    }
   ],
   "source": [
    "print(maria.name)      # 마리아가 나오는데 잡을 안넣었으니까"
   ]
  },
  {
   "cell_type": "code",
   "execution_count": 34,
   "metadata": {
    "scrolled": true
   },
   "outputs": [
    {
     "ename": "AttributeError",
     "evalue": "'Person' object has no attribute 'job'",
     "output_type": "error",
     "traceback": [
      "\u001b[1;31m---------------------------------------------------------------------------\u001b[0m",
      "\u001b[1;31mAttributeError\u001b[0m                            Traceback (most recent call last)",
      "\u001b[1;32m<ipython-input-34-648515e9b284>\u001b[0m in \u001b[0;36m<module>\u001b[1;34m\u001b[0m\n\u001b[1;32m----> 1\u001b[1;33m \u001b[0mprint\u001b[0m\u001b[1;33m(\u001b[0m\u001b[0mmaria\u001b[0m\u001b[1;33m.\u001b[0m\u001b[0mjob\u001b[0m\u001b[1;33m)\u001b[0m\u001b[1;33m\u001b[0m\u001b[1;33m\u001b[0m\u001b[0m\n\u001b[0m",
      "\u001b[1;31mAttributeError\u001b[0m: 'Person' object has no attribute 'job'"
     ]
    }
   ],
   "source": [
    "print(maria.job)        # 잡을 물으니 에러...  제임스의잡은. 다른 인스턴스에 적용이 안된다"
   ]
  },
  {
   "cell_type": "markdown",
   "metadata": {},
   "source": [
    "## 34.3 비공개 속성 사용하기"
   ]
  },
  {
   "cell_type": "code",
   "execution_count": 42,
   "metadata": {},
   "outputs": [],
   "source": [
    "class Person:\n",
    "    def __init__(self, name, age, address):  \n",
    "        self.hello = '안녕하세요.'       \n",
    "        self.name = name\n",
    "        self.__age__ = age #앞뒤 밑줄2개씩은 공개다'ㅁ'ㅋㅋㅋ\n",
    "        self.__address = address  #밑줄 두개 추가 여기랑 밑밑밑밑줄에\n",
    " \n",
    "    def greeting(self):\n",
    "        print(f'{self.hello} 저는 {self.name}입니다.')\n",
    "    def introduce(self):\n",
    "        print(f'저는 {self.__age__}살이고 {self.__address}살고 있습니다.')"
   ]
  },
  {
   "cell_type": "code",
   "execution_count": 43,
   "metadata": {},
   "outputs": [],
   "source": [
    "maria = Person('마리아', 20, '서울시 서초구 반포동')\n",
    "#마리아인스턴스시킴. \n",
    "#인스턴스마리아는= 클래스펄슨('마리아정보') 만든뒤에\n",
    "#\n",
    "#그리팅메소드호출 인스턴스.메소드()형식\n",
    "#maria.greeting()"
   ]
  },
  {
   "cell_type": "code",
   "execution_count": 44,
   "metadata": {},
   "outputs": [
    {
     "data": {
      "text/plain": [
       "'마리아'"
      ]
     },
     "execution_count": 44,
     "metadata": {},
     "output_type": "execute_result"
    }
   ],
   "source": [
    "maria.name   "
   ]
  },
  {
   "cell_type": "code",
   "execution_count": 48,
   "metadata": {},
   "outputs": [
    {
     "data": {
      "text/plain": [
       "20"
      ]
     },
     "execution_count": 48,
     "metadata": {},
     "output_type": "execute_result"
    }
   ],
   "source": [
    "maria.__age__  #의외ㅋ__밑줄있어서 비공개일것같지?\n",
    "# __ __앞뒤로있어서 공개다.  #스페셜네이밍\n",
    "#오잉. __init__ 나도모르게 파이썬에서 알아서 만들어줌"
   ]
  },
  {
   "cell_type": "code",
   "execution_count": 46,
   "metadata": {},
   "outputs": [
    {
     "ename": "AttributeError",
     "evalue": "'Person' object has no attribute '__address'",
     "output_type": "error",
     "traceback": [
      "\u001b[1;31m---------------------------------------------------------------------------\u001b[0m",
      "\u001b[1;31mAttributeError\u001b[0m                            Traceback (most recent call last)",
      "\u001b[1;32m<ipython-input-46-6a9bc9d21244>\u001b[0m in \u001b[0;36m<module>\u001b[1;34m\u001b[0m\n\u001b[1;32m----> 1\u001b[1;33m \u001b[0mmaria\u001b[0m\u001b[1;33m.\u001b[0m\u001b[0m__address\u001b[0m \u001b[1;31m# 틀림없이 갖고있는데 왜 없다고 하냣!!(이것이캡슐화_메소드에의해서만 공개되는.밑줄2개로) 이건안되는데\u001b[0m\u001b[1;33m\u001b[0m\u001b[1;33m\u001b[0m\u001b[0m\n\u001b[0m",
      "\u001b[1;31mAttributeError\u001b[0m: 'Person' object has no attribute '__address'"
     ]
    }
   ],
   "source": [
    "maria.__address # 틀림없이 갖고있는데 왜 없다고 하냣!!\n",
    "#(이것이캡슐화_메소드에의해서만 공개되는.밑줄2개로) 이건안되는데"
   ]
  },
  {
   "cell_type": "code",
   "execution_count": 47,
   "metadata": {},
   "outputs": [
    {
     "name": "stdout",
     "output_type": "stream",
     "text": [
      "저는 20살이고 서울시 서초구 반포동살고 있습니다.\n"
     ]
    }
   ],
   "source": [
    "maria.introduce()  #왜 이건 되지롱~_~"
   ]
  },
  {
   "cell_type": "markdown",
   "metadata": {},
   "source": [
    "# 파이썬 언더바언더바__name__언더바언더바 구글링하면 됨"
   ]
  },
  {
   "cell_type": "code",
   "execution_count": 49,
   "metadata": {},
   "outputs": [],
   "source": [
    "class Person:\n",
    "    def __init__(self, name, age, address, wallet):\n",
    "        self.name = name\n",
    "        self.age = age\n",
    "        self.address = address\n",
    "        self.__wallet = wallet  #비공개속성"
   ]
  },
  {
   "cell_type": "code",
   "execution_count": 50,
   "metadata": {},
   "outputs": [
    {
     "ename": "AttributeError",
     "evalue": "'Person' object has no attribute 'wallet'",
     "output_type": "error",
     "traceback": [
      "\u001b[1;31m---------------------------------------------------------------------------\u001b[0m",
      "\u001b[1;31mAttributeError\u001b[0m                            Traceback (most recent call last)",
      "\u001b[1;32m<ipython-input-50-53cc5bf7978e>\u001b[0m in \u001b[0;36m<module>\u001b[1;34m\u001b[0m\n\u001b[0;32m      1\u001b[0m \u001b[0mmaria\u001b[0m \u001b[1;33m=\u001b[0m \u001b[0mPerson\u001b[0m\u001b[1;33m(\u001b[0m\u001b[1;34m'마리아'\u001b[0m\u001b[1;33m,\u001b[0m \u001b[1;36m20\u001b[0m\u001b[1;33m,\u001b[0m \u001b[1;34m'서울시 서초구 반포동'\u001b[0m\u001b[1;33m,\u001b[0m \u001b[1;36m10000\u001b[0m\u001b[1;33m)\u001b[0m \u001b[1;31m#값이주어졌지만\u001b[0m\u001b[1;33m\u001b[0m\u001b[1;33m\u001b[0m\u001b[0m\n\u001b[1;32m----> 2\u001b[1;33m \u001b[0mmaria\u001b[0m\u001b[1;33m.\u001b[0m\u001b[0mwallet\u001b[0m\u001b[1;33m\u001b[0m\u001b[1;33m\u001b[0m\u001b[0m\n\u001b[0m",
      "\u001b[1;31mAttributeError\u001b[0m: 'Person' object has no attribute 'wallet'"
     ]
    }
   ],
   "source": [
    "maria = Person('마리아', 20, '서울시 서초구 반포동', 10000) #값이주어졌지만\n",
    "maria.wallet  #비공개속성이기 때문에 에러가 난다는점. "
   ]
  },
  {
   "cell_type": "code",
   "execution_count": 55,
   "metadata": {},
   "outputs": [],
   "source": [
    "#비공개 속성을 사용하게 하려면. 메소드를 하나 만들면 된다.(맨밑 3줄)\n",
    "class Person:\n",
    "    def __init__(self, name, age, address, wallet):\n",
    "        self.name = name\n",
    "        self.age = age\n",
    "        self.address = address\n",
    "        self.__wallet = wallet \n",
    "        \n",
    "    def pay(self, amount):\n",
    "        self.__wallet -= amount   # 비공개 속성은 클래스 안의 메서드에서만 접근할 수 있음\n",
    "        print(f'이제 {self.__wallet}원 남았네요.')"
   ]
  },
  {
   "cell_type": "code",
   "execution_count": 56,
   "metadata": {},
   "outputs": [
    {
     "name": "stdout",
     "output_type": "stream",
     "text": [
      "이제 5000원 남았네요.\n"
     ]
    }
   ],
   "source": [
    "maria = Person('마리아', 20, '서울시 서초구 반포동', 10000)\n",
    "maria.pay(5000)"
   ]
  },
  {
   "cell_type": "markdown",
   "metadata": {},
   "source": [
    "# 한번 더 정리~_~"
   ]
  },
  {
   "cell_type": "markdown",
   "metadata": {},
   "source": [
    "__init__()  ......언더바언더바init언더바언더바()  \n",
    "self.attribute      공개 public  \n",
    "self.__attribute    비공개 private  "
   ]
  },
  {
   "cell_type": "code",
   "execution_count": null,
   "metadata": {},
   "outputs": [],
   "source": []
  },
  {
   "cell_type": "code",
   "execution_count": null,
   "metadata": {},
   "outputs": [],
   "source": []
  },
  {
   "cell_type": "code",
   "execution_count": null,
   "metadata": {},
   "outputs": [],
   "source": []
  }
 ],
 "metadata": {
  "kernelspec": {
   "display_name": "Python 3",
   "language": "python",
   "name": "python3"
  },
  "language_info": {
   "codemirror_mode": {
    "name": "ipython",
    "version": 3
   },
   "file_extension": ".py",
   "mimetype": "text/x-python",
   "name": "python",
   "nbconvert_exporter": "python",
   "pygments_lexer": "ipython3",
   "version": "3.8.3"
  }
 },
 "nbformat": 4,
 "nbformat_minor": 4
}
