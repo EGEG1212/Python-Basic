{
 "metadata": {
  "language_info": {
   "codemirror_mode": {
    "name": "ipython",
    "version": 3
   },
   "file_extension": ".py",
   "mimetype": "text/x-python",
   "name": "python",
   "nbconvert_exporter": "python",
   "pygments_lexer": "ipython3",
   "version": "3.8.3-final"
  },
  "orig_nbformat": 2,
  "kernelspec": {
   "name": "Python 3.8.3 64-bit (conda)",
   "display_name": "Python 3.8.3 64-bit (conda)",
   "metadata": {
    "interpreter": {
     "hash": "b3ba2566441a7c06988d0923437866b63cedc61552a5af99d1f4fb67d367b25f"
    }
   }
  }
 },
 "nbformat": 4,
 "nbformat_minor": 2,
 "cells": [
  {
   "source": [
    "### 2020.11.05 (책12.4~12.8)+(책13.1~13.8)\n",
    "# 12장"
   ],
   "cell_type": "markdown",
   "metadata": {}
  },
  {
   "cell_type": "code",
   "execution_count": 51,
   "metadata": {},
   "outputs": [],
   "source": [
    "#12.4\n",
    "mammoth = '''\n",
    "We have seen three, queen of cheese,\n",
    "Lying quietly at your ease,\n",
    "Gently fanned by evening breeze,\n",
    "The fairform no flies dare seize.\n",
    "\n",
    "All gaily dressed soon you'll go\n",
    "To the grear Provincial show,\n",
    "To be admired by many a beau\n",
    "In the city of Toronto.\n",
    "\n",
    "Cows numerous as a swarm of bees,\n",
    "Or as the leaves upon the trees,\n",
    "It did require to make thee please,\n",
    "And stand unrivalled, queen of cheese.\n",
    "\n",
    "May you not receive a scar as\n",
    "We have heard that Mr. Harris\n",
    "Intends to send you off as far as\n",
    "The great world's show at Paris.\n",
    "\n",
    "Of the youth beware of these,\n",
    "For some of them might rudely squeeze\n",
    "And bite your sheek, then songs or glees\n",
    "We could not sing, oh! queen of cheese.\n",
    "\n",
    "We'rt thou suspended from balloon,\n",
    "You'd cast a shade even at noon,\n",
    "Folks would think it was the moon\n",
    "About to fall ans crush them soon.\n",
    "'''"
   ]
  },
  {
   "cell_type": "code",
   "execution_count": 52,
   "metadata": {},
   "outputs": [],
   "source": [
    "# 패턴에 대한 pat 변수를 정의한 후 c로 시작하는 단어를 찾는다.\n",
    "# \\b는 단어와 비단어 사이의 경계의 시작의 의미\n",
    "# 단어의 시작이나 끝을 지정하기 위에 \\b를 사용\n",
    "# \\w는 문자, 숫자, 언더바를 포함\n",
    "# *는 0회이상 반복되는 단어문자를 의미\n",
    "# r을 붙이지 않으면 \\b를 백스페이스로 인식하게 됨 ㄴㄴ\n",
    "import re\n",
    "pat = r'\\bc\\w*'"
   ]
  },
  {
   "cell_type": "code",
   "execution_count": 53,
   "metadata": {},
   "outputs": [
    {
     "output_type": "execute_result",
     "data": {
      "text/plain": [
       "['cheese', 'city', 'cheese', 'could', 'cheese', 'cast', 'crush']"
      ]
     },
     "metadata": {},
     "execution_count": 53
    }
   ],
   "source": [
    "re.findall(pat, mammoth)"
   ]
  },
  {
   "cell_type": "code",
   "execution_count": 54,
   "metadata": {},
   "outputs": [],
   "source": [
    "#12.6\n",
    "pat = r'\\bc\\w{3}\\b'"
   ]
  },
  {
   "cell_type": "code",
   "execution_count": 55,
   "metadata": {},
   "outputs": [
    {
     "output_type": "execute_result",
     "data": {
      "text/plain": [
       "['city', 'cast']"
      ]
     },
     "metadata": {},
     "execution_count": 55
    }
   ],
   "source": [
    "re.findall(pat, mammoth)"
   ]
  },
  {
   "cell_type": "code",
   "execution_count": 56,
   "metadata": {},
   "outputs": [],
   "source": [
    "pat = r'\\bc\\w{3}'\n",
    "# 단어의 끝을 가리키기 위해 마지막 \\b사용\n",
    "# 마지막 \\b를 빼면, c로 시작하는 네글자 이상의 모든단어에 대해 처음 네글자가 검색된다."
   ]
  },
  {
   "cell_type": "code",
   "execution_count": 57,
   "metadata": {},
   "outputs": [
    {
     "output_type": "execute_result",
     "data": {
      "text/plain": [
       "['chee', 'city', 'chee', 'coul', 'chee', 'cast', 'crus']"
      ]
     },
     "metadata": {},
     "execution_count": 57
    }
   ],
   "source": [
    "re.findall(pat, mammoth)"
   ]
  },
  {
   "cell_type": "code",
   "execution_count": 58,
   "metadata": {},
   "outputs": [],
   "source": [
    "#12.7\n",
    "pat = r'\\b\\w*r\\b' #r로 끝나는 단어"
   ]
  },
  {
   "cell_type": "code",
   "execution_count": 59,
   "metadata": {},
   "outputs": [
    {
     "output_type": "execute_result",
     "data": {
      "text/plain": [
       "['your', 'grear', 'Or', 'scar', 'Mr', 'far', 'For', 'your', 'or']"
      ]
     },
     "metadata": {},
     "execution_count": 59
    }
   ],
   "source": [
    "re.findall(pat, mammoth)"
   ]
  },
  {
   "cell_type": "code",
   "execution_count": 60,
   "metadata": {},
   "outputs": [],
   "source": [
    "pat = r'\\b\\w*l\\b' #l로 끝나는 단어"
   ]
  },
  {
   "cell_type": "code",
   "execution_count": 61,
   "metadata": {},
   "outputs": [
    {
     "output_type": "execute_result",
     "data": {
      "text/plain": [
       "['All', 'll', 'Provincial', 'fall']"
      ]
     },
     "metadata": {},
     "execution_count": 61
    }
   ],
   "source": [
    "re.findall(pat, mammoth)"
   ]
  },
  {
   "cell_type": "code",
   "execution_count": 62,
   "metadata": {},
   "outputs": [],
   "source": [
    "pat = r\"\\b[\\w']*l\\b\""
   ]
  },
  {
   "cell_type": "code",
   "execution_count": 63,
   "metadata": {},
   "outputs": [
    {
     "output_type": "execute_result",
     "data": {
      "text/plain": [
       "['All', \"you'll\", 'Provincial', 'fall']"
      ]
     },
     "metadata": {},
     "execution_count": 63
    }
   ],
   "source": [
    "re.findall(pat, mammoth)"
   ]
  },
  {
   "cell_type": "code",
   "execution_count": 64,
   "metadata": {},
   "outputs": [],
   "source": [
    "#12.8\n",
    "#단어의 경계로 시작.\n",
    "#단어의 수에 상관없이 연속으로 무음이 세 번 나오는 패턴을 입력.\n",
    "# 비모음 문자를 단어의 끝에 놓는다.\n",
    "pat = r'\\b\\w*[aeiou]{3}[^aeiou]\\w*\\b'\n",
    "# [^aeiou]는 \\n(텍스트 라인의 끝을 표시하는 라인피드)을 포함한 모든 비모음 문자와 매친항다.\n",
    "#한가지 더 무시해야 할것이 있다.\n",
    "# \\s는 \\n을 포함한 모든 공백 문자와 매칭"
   ]
  },
  {
   "cell_type": "code",
   "execution_count": 65,
   "metadata": {},
   "outputs": [
    {
     "output_type": "execute_result",
     "data": {
      "text/plain": [
       "['queen', 'quietly', 'beau\\nIn', 'queen', 'squeeze', 'queen']"
      ]
     },
     "metadata": {},
     "execution_count": 65
    }
   ],
   "source": [
    "re.findall(pat, mammoth)"
   ]
  },
  {
   "cell_type": "code",
   "execution_count": 66,
   "metadata": {},
   "outputs": [],
   "source": [
    "pat = r'\\b\\w*[aeiou]{3}[^aeiou]*\\w*\\b'"
   ]
  },
  {
   "cell_type": "code",
   "execution_count": 67,
   "metadata": {},
   "outputs": [
    {
     "output_type": "execute_result",
     "data": {
      "text/plain": [
       "['queen of', 'quietly at', 'beau\\nIn the', 'queen of', 'squeeze', 'queen of']"
      ]
     },
     "metadata": {},
     "execution_count": 67
    }
   ],
   "source": [
    "re.findall(pat, mammoth)"
   ]
  },
  {
   "source": [
    "# 13장"
   ],
   "cell_type": "markdown",
   "metadata": {}
  },
  {
   "cell_type": "code",
   "execution_count": 165,
   "metadata": {},
   "outputs": [],
   "source": [
    "#13.1 현재 날짜를 문자열로 작성. today.txt파일에 저장한다\n",
    "from datetime import date\n",
    "now = date.today()\n",
    "fmt = '%Y-%m-%d'\n",
    "today = now.strftime(fmt)\n",
    "with open('today.txt','w') as file:\n",
    "    file.write(today)"
   ]
  },
  {
   "cell_type": "code",
   "execution_count": 129,
   "metadata": {},
   "outputs": [
    {
     "output_type": "execute_result",
     "data": {
      "text/plain": [
       "'2020-11-05'"
      ]
     },
     "metadata": {},
     "execution_count": 129
    }
   ],
   "source": [
    "#13.2 today.txt파일을 읽어 today_string문자열에 저장한다\n",
    "with open('today.txt','r') as file:\n",
    "    today_string = file.read()\n",
    "today_string"
   ]
  },
  {
   "cell_type": "code",
   "execution_count": 130,
   "metadata": {},
   "outputs": [
    {
     "output_type": "execute_result",
     "data": {
      "text/plain": [
       "datetime.datetime(2020, 11, 5, 0, 0)"
      ]
     },
     "metadata": {},
     "execution_count": 130
    }
   ],
   "source": [
    "#13.3 today_dtring문자열을 날짜로 파싱한다.\n",
    "from datetime import datetime\n",
    "datetime.strptime(today_string,'%Y-%m-%d')"
   ]
  },
  {
   "cell_type": "code",
   "execution_count": 162,
   "metadata": {},
   "outputs": [
    {
     "output_type": "execute_result",
     "data": {
      "text/plain": [
       "datetime.date(1999, 9, 5)"
      ]
     },
     "metadata": {},
     "execution_count": 162
    }
   ],
   "source": [
    "#13.4 생일 date객체를 생성한다\n",
    "from datetime import date\n",
    "birthday = date(1999,9,5)\n",
    "birthday"
   ]
  },
  {
   "cell_type": "code",
   "execution_count": 166,
   "metadata": {},
   "outputs": [
    {
     "output_type": "execute_result",
     "data": {
      "text/plain": [
       "'일'"
      ]
     },
     "metadata": {},
     "execution_count": 166
    }
   ],
   "source": [
    "#13.5 무슨요일에 태어났는가?\n",
    "dayOfTheWeek = [\"월\", \"화\", \"수\", \"목\", \"금\", \"토\", \"일\"]\n",
    "dayOfTheWeek[birthday.weekday()]"
   ]
  },
  {
   "cell_type": "code",
   "execution_count": 164,
   "metadata": {},
   "outputs": [
    {
     "output_type": "execute_result",
     "data": {
      "text/plain": [
       "datetime.date(2027, 1, 21)"
      ]
     },
     "metadata": {},
     "execution_count": 164
    }
   ],
   "source": [
    "#13.6 생일로부터 1만일이 지났을 때의 날짜는?\n",
    "tenthous = timedelta(days=10000)\n",
    "birthday + tenthous"
   ]
  },
  {
   "cell_type": "code",
   "execution_count": null,
   "metadata": {},
   "outputs": [],
   "source": []
  }
 ]
}