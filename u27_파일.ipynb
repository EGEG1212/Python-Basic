{
 "cells": [
  {
   "cell_type": "markdown",
   "metadata": {},
   "source": [
    "# Unit 27. 파일 사용하기"
   ]
  },
  {
   "cell_type": "markdown",
   "metadata": {},
   "source": [
    "### 27.1.1  파일에 문자열 쓰기\n",
    ">파일객체 = open(파일이름, 파일모드)   어펜드할지 읽기만할지  \n",
    ">파일객체.write('문자열')   문자열이 파일에 써짐, 리드읽은결과가 써짐  \n",
    ">파일객체.close()    파일객체를 닫는..  "
   ]
  },
  {
   "cell_type": "code",
   "execution_count": 1,
   "metadata": {},
   "outputs": [],
   "source": [
    "file = open('hello.txt', 'w')    # hello.txt 파일을 쓰기 모드(w)로 열기. 파일 객체 반환\n",
    "file.write('Hello, world!')      # 파일에 문자열 저장\n",
    "file.close()                     # 파일 객체 닫기\n",
    "#  파이썬베이직폴더 안에 헬로.txt생성됨 우와!! ㅋㅋ"
   ]
  },
  {
   "cell_type": "markdown",
   "metadata": {},
   "source": [
    "### 27.1.2  파일에서 문자열 읽기"
   ]
  },
  {
   "cell_type": "code",
   "execution_count": 6,
   "metadata": {},
   "outputs": [
    {
     "name": "stdout",
     "output_type": "stream",
     "text": [
      "Hello, world! have a good day~\n"
     ]
    }
   ],
   "source": [
    "file = open('hello.txt', 'r')    # hello.txt 파일을 읽기 모드(r)로 열기. 파일 객체 반환\n",
    "s = file.read()                  # s읽은데이터. 파일에서 문자열 읽기\n",
    "print(s)                         # Hello, world! 출력하고\n",
    "file.close()                     # 파일 객체 닫기"
   ]
  },
  {
   "cell_type": "markdown",
   "metadata": {},
   "source": [
    "### 27.1.3  자동으로 파일 객체 닫기"
   ]
  },
  {
   "cell_type": "code",
   "execution_count": 5,
   "metadata": {},
   "outputs": [
    {
     "name": "stdout",
     "output_type": "stream",
     "text": [
      "Hello, world! have a good day~\n"
     ]
    }
   ],
   "source": [
    "# 위와같은 코드이다 colse안해도 닫긴다고?????\n",
    "with open('hello.txt', 'r') as file:    # hello.txt 파일을 읽기 모드(r)로 열기\n",
    "    s = file.read()                     # 파일에서 문자열 읽기\n",
    "    print(s)                            # Hello, world!"
   ]
  },
  {
   "cell_type": "markdown",
   "metadata": {},
   "source": [
    "### 27.2.1  반복문으로 문자열 여러 줄을 파일에 쓰기"
   ]
  },
  {
   "cell_type": "code",
   "execution_count": 7,
   "metadata": {},
   "outputs": [],
   "source": [
    "with open('hello.txt', 'w') as file:    # hello.txt 파일을 쓰기 모드(w)로 열기\n",
    "    for i in range(3):       # 3번 반복할꺼다\n",
    "        file.write(f'Hello, world! {i+1}\\n')  # format은 옛날버전이라 f''로변경\n",
    "#(덮어쓰기되네...)"
   ]
  },
  {
   "cell_type": "code",
   "execution_count": null,
   "metadata": {},
   "outputs": [],
   "source": [
    "with open('hello.txt', 'w') as file:\n",
    "    for i in range(3):\n",
    "        file.write(f'Hello, world! {i+1}\\n')"
   ]
  },
  {
   "cell_type": "markdown",
   "metadata": {},
   "source": [
    "### 27.2.2  리스트에 들어있는 문자열을 파일에 쓰기\n",
    "아까는 write(쓰려는 내용이 스트링일 때) 였는데,  \n",
    "writelines(쓰려는 내용이 리스트일때)"
   ]
  },
  {
   "cell_type": "code",
   "execution_count": 8,
   "metadata": {},
   "outputs": [],
   "source": [
    "lines = ['안녕하세요.\\n', '파이썬\\n', '코딩 도장입니다.\\n'] #\\n이 있는 리스트여서 writelines사용\n",
    " \n",
    "with open('hello.txt', 'w') as file:    # hello.txt 파일을 쓰기 모드(w)로 열기\n",
    "    file.writelines(lines)   "
   ]
  },
  {
   "cell_type": "code",
   "execution_count": 9,
   "metadata": {},
   "outputs": [],
   "source": [
    "lines = ''.join(lines)         # 스트링일경유 join과 함께 write하면 입력됨\n",
    "with open('hello.txt', 'w') as file:    \n",
    "    file.write(lines)   "
   ]
  },
  {
   "cell_type": "markdown",
   "metadata": {},
   "source": [
    "### 27.2.3  여러줄 파일의 내용을 한 줄씩 리스트로 가져오기"
   ]
  },
  {
   "cell_type": "code",
   "execution_count": 11,
   "metadata": {},
   "outputs": [
    {
     "name": "stdout",
     "output_type": "stream",
     "text": [
      "안녕하세요.\n",
      "파이썬\n",
      "코딩 도장입니다.\n",
      "\n"
     ]
    }
   ],
   "source": [
    "#여러줄 문자열을 파일로부터 읽기 1)\n",
    "with open('hello.txt', 'r') as file:\n",
    "    s = file.read()\n",
    "    print(s)"
   ]
  },
  {
   "cell_type": "code",
   "execution_count": 12,
   "metadata": {},
   "outputs": [
    {
     "name": "stdout",
     "output_type": "stream",
     "text": [
      "['안녕하세요.\\n', '파이썬\\n', '코딩 도장입니다.\\n']\n"
     ]
    }
   ],
   "source": [
    "# 2) 정말많은 줄이면 이렇게 리스트에 넣는게 편하고 위에 방법도 가능하긴한데... \n",
    "#리스트로 읽기\n",
    "with open('hello.txt', 'r') as file:    # hello.txt 파일을 읽기 모드(r)로 열기\n",
    "    lines = file.readlines()\n",
    "    print(lines)"
   ]
  },
  {
   "cell_type": "markdown",
   "metadata": {},
   "source": [
    "### 27.2.4  파일의 내용을 한 줄씩 읽기 \n",
    "### ★★(가장많이 쓰는방법)외우세영이해하지말고★★\n",
    "### 어떤 랭기지는 여러줄을 한번에 못읽게 한다..."
   ]
  },
  {
   "cell_type": "code",
   "execution_count": 13,
   "metadata": {},
   "outputs": [
    {
     "name": "stdout",
     "output_type": "stream",
     "text": [
      "안녕하세요.\n",
      "파이썬\n",
      "코딩 도장입니다.\n",
      "\n"
     ]
    }
   ],
   "source": [
    "#스트링으로 읽기  자바, 다른랭기지등에도 적용가능한\n",
    "with open('hello.txt', 'r') as file:    # hello.txt 파일을 읽기 모드(r)로 열기\n",
    "    line = None    # ★변수 line을 None으로 초기화  라인을 빈공간으로\n",
    "    while line != '':  # ★다 읽으면 엔드캐릭터(빈칸)나올때까지 읽는다... EOF end-of-file(언제끝날지모르니까 for아니고 while)\n",
    "        line = file.readline()  #파일을 줄로읽는다  \n",
    "        print(line.strip('\\n'))    # 파일에서 읽어온 문자열에서 \\n 삭제하여 출력 (위와다르게 \\n지우고 출력)"
   ]
  },
  {
   "cell_type": "code",
   "execution_count": 14,
   "metadata": {},
   "outputs": [
    {
     "data": {
      "text/plain": [
       "str"
      ]
     },
     "execution_count": 14,
     "metadata": {},
     "output_type": "execute_result"
    }
   ],
   "source": [
    "type(line)"
   ]
  },
  {
   "cell_type": "markdown",
   "metadata": {},
   "source": [
    "### 27.2.5  for 반복문으로 파일의 내용을 줄 단위로 읽기"
   ]
  },
  {
   "cell_type": "code",
   "execution_count": 16,
   "metadata": {
    "scrolled": true
   },
   "outputs": [
    {
     "name": "stdout",
     "output_type": "stream",
     "text": [
      "안녕하세요.\n",
      "파이썬\n",
      "코딩 도장입니다.\n"
     ]
    }
   ],
   "source": [
    "# 포룩에 쓸수있는거. [시퀀스객체: range, 문자열, 리스트, 튜플,] 세트, 딕셔너리, 파일\n",
    "# for in 뭐\n",
    "# 파이썬에서는 위방법보다 이방법for 돌려서 많이 함\n",
    "with open('hello.txt', 'r') as file:    # hello.txt 파일을 읽기 모드(r)로 열기\n",
    "    for line in file:                # for에 파일 객체를 지정하면 파일의 내용을 한 줄씩 읽어서 변수에 저장함\n",
    "        print(line.strip('\\n'))    # 파일에서 읽어온 문자열에서 \\n 삭제하여 출력"
   ]
  },
  {
   "cell_type": "markdown",
   "metadata": {},
   "source": [
    "### 27.3.1  파이썬 객체를 파일에 저장하기 pickle"
   ]
  },
  {
   "cell_type": "code",
   "execution_count": null,
   "metadata": {},
   "outputs": [],
   "source": [
    "# 머신러닝할때 모델을 학습시키는데 시간이 엄청 오래걸리는데.. 그게 날아가거나 지워질수있다.\n",
    "# 그래서 파이썬객체로 피클링(저장하는것)\n",
    "# 시간이 오래 걸려 만들었기 때문에 소중한 데이터다.. 소듕해... ㅎㅎ\n",
    "# 메인메모리는전원을 끄면 날아감\n",
    "# 보조메모리(하드디스크에) 써놓으려고 파일형태로 저장해야해1!!! \n",
    "# 객체 하나를 저장하고 읽는것이다."
   ]
  },
  {
   "cell_type": "code",
   "execution_count": 17,
   "metadata": {},
   "outputs": [],
   "source": [
    "import pickle\n",
    " \n",
    "name = 'james'\n",
    "age = 17\n",
    "address = '서울시 서초구 반포동'\n",
    "scores = {'korean': 90, 'english': 95, 'mathematics': 85, 'science': 82} #딕셔너리네..\n",
    " \n",
    "with open('james.p', 'wb') as file:    # james.p 파일을 2진수형태 binary바이너리 쓰기 모드(wb)라이트비 로 열기\n",
    "    pickle.dump(name, file)\n",
    "    pickle.dump(age, file)   #2진수로들어가서 ... ㅋㅋ00010001단번에 알아볼수없음\n",
    "    pickle.dump(address, file)\n",
    "    pickle.dump(scores, file)\n",
    "    \n",
    "# json 읽는 스트링형태\n",
    "# binary 읽기쓰기  dump떠넘기다\n",
    "\n",
    "#바이너리데이터는 이따구로 생겼다 ㅋㅋ\n",
    "#파일은생성되었으나.. 열수도없고. 메모장에뿌려도 글자가 깨져서 한글못알아봄.. "
   ]
  },
  {
   "cell_type": "markdown",
   "metadata": {},
   "source": [
    "### 27.3.2  파일에서 파이썬 객체 읽기"
   ]
  },
  {
   "cell_type": "code",
   "execution_count": 18,
   "metadata": {},
   "outputs": [
    {
     "name": "stdout",
     "output_type": "stream",
     "text": [
      "james\n",
      "17\n",
      "서울시 서초구 반포동\n",
      "{'korean': 90, 'english': 95, 'mathematics': 85, 'science': 82}\n"
     ]
    }
   ],
   "source": [
    "#이번에는 반대로 객체를 가지고 와보자\n",
    "import pickle\n",
    " \n",
    "with open('james.p', 'rb') as file:    # james.p 파일을 바이너리 읽기 모드(rb)로 열기\n",
    "    name = pickle.load(file)        #load 한짐\n",
    "    age = pickle.load(file)\n",
    "    address = pickle.load(file)\n",
    "    scores = pickle.load(file)\n",
    "    print(name)\n",
    "    print(age)\n",
    "    print(address)\n",
    "    print(scores)"
   ]
  },
  {
   "cell_type": "code",
   "execution_count": 19,
   "metadata": {},
   "outputs": [],
   "source": [
    "#번외) 객체로 만들어보자\n",
    "james_p = {'name': 'james', 'age': 17, 'address': '서울시 서초구 반포동', 'scores': {'korean': 90, 'english': 95, 'mathematics': 85, 'science': 82}}\n",
    "with open('james.p', 'wb') as file: \n",
    "        pickle.dump(james_p, file)\n",
    "    "
   ]
  },
  {
   "cell_type": "code",
   "execution_count": 20,
   "metadata": {},
   "outputs": [
    {
     "name": "stdout",
     "output_type": "stream",
     "text": [
      "{'name': 'james', 'age': 17, 'address': '서울시 서초구 반포동', 'scores': {'korean': 90, 'english': 95, 'mathematics': 85, 'science': 82}}\n"
     ]
    }
   ],
   "source": [
    "#번외) 객체를 읽을떄는 요래요래\n",
    "with open('james.p', 'rb') as file: \n",
    "    james_p = pickle.load(file)\n",
    "print(james_p)"
   ]
  },
  {
   "cell_type": "markdown",
   "metadata": {},
   "source": [
    "# JSON형태로 변환/복원"
   ]
  },
  {
   "cell_type": "code",
   "execution_count": 26,
   "metadata": {},
   "outputs": [
    {
     "name": "stdout",
     "output_type": "stream",
     "text": [
      "{\"name\": \"james\", \"age\": 17, \"address\": \"\\uc11c\\uc6b8\\uc2dc \\uc11c\\ucd08\\uad6c \\ubc18\\ud3ec\\ub3d9\", \"scores\": {\"korean\": 90, \"english\": 95, \"mathematics\": 85, \"science\": 82}}\n"
     ]
    }
   ],
   "source": [
    "import json #모듈\n",
    "james_json = json.dumps(james_p) #dumps 에스 주의\n",
    "print(james_json)"
   ]
  },
  {
   "cell_type": "code",
   "execution_count": 34,
   "metadata": {},
   "outputs": [],
   "source": [
    "#파일에 써봅시다\n",
    "with open('hello.txt', 'w') as file:\n",
    "    file.write(james_json)"
   ]
  },
  {
   "cell_type": "code",
   "execution_count": 35,
   "metadata": {},
   "outputs": [
    {
     "name": "stdout",
     "output_type": "stream",
     "text": [
      "{\"name\": \"james\", \"age\": 17, \"address\": \"\\uc11c\\uc6b8\\uc2dc \\uc11c\\ucd08\\uad6c \\ubc18\\ud3ec\\ub3d9\", \"scores\": {\"korean\": 90, \"english\": 95, \"mathematics\": 85, \"science\": 82}}\n"
     ]
    }
   ],
   "source": [
    "# 헬로텍스트에서 리드로\n",
    "with open('hello.txt', 'r') as file:\n",
    "    james_str = file.read()       # 제임스스트링이 튕겨져나올것\n",
    "print(james_str)"
   ]
  },
  {
   "cell_type": "code",
   "execution_count": 28,
   "metadata": {},
   "outputs": [
    {
     "name": "stdout",
     "output_type": "stream",
     "text": [
      "{'name': 'james', 'age': 17, 'address': '서울시 서초구 반포동', 'scores': {'korean': 90, 'english': 95, 'mathematics': 85, 'science': 82}}\n"
     ]
    }
   ],
   "source": [
    "james = json.loads(james_json)  #loads 에스주의\n",
    "print(james)"
   ]
  },
  {
   "cell_type": "markdown",
   "metadata": {},
   "source": [
    "## 피크을 바이너리 데이타\n",
    "## 제이쓴은 스트링(읽을수있쟈나)"
   ]
  },
  {
   "cell_type": "markdown",
   "metadata": {},
   "source": [
    "# 코딩도장 퀴즈"
   ]
  },
  {
   "cell_type": "markdown",
   "metadata": {},
   "source": [
    "#### 1. 다음 중 파일에 문자열을 쓸 때 파일 열기 방법\n",
    "file = open('hello.txt', 'w')\n",
    "\n",
    "r b rb w wb 모드 가 있나봄..."
   ]
  },
  {
   "cell_type": "markdown",
   "metadata": {},
   "source": [
    "#### 2. 다음 중 파일에서 문자열을 한 줄씩 읽어서 리스트 형태로 가져오는 메서드\n",
    "readlines  \n",
    "\n",
    "readline 아니고 라인즈!"
   ]
  },
  {
   "cell_type": "markdown",
   "metadata": {},
   "source": [
    "#### 3. 다음 중 pickle 모듈로 파일에 저장된 파이썬의 객체를 읽어올 때 파일 열기 방법\n",
    "file = open('maria.p', 'rb')  \n",
    "\n",
    "pickle 모듈로 파일에 저장된 파이썬 객체를 읽어올 때는 바이너리 읽기 모드 'rb'를 사용합니다."
   ]
  },
  {
   "cell_type": "markdown",
   "metadata": {},
   "source": [
    "# 코딩도장 연습문제\n",
    "27.5 연습문제: 파일에서 10자 이하인 단어 개수 세기  \n",
    "단어가 줄 단위로 저장된 words.txt 파일이 주어집니다. 다음 소스 코드를 완성하여 10자 이하인 단어의 개수가 출력되게  "
   ]
  },
  {
   "cell_type": "code",
   "execution_count": 23,
   "metadata": {},
   "outputs": [
    {
     "ename": "FileNotFoundError",
     "evalue": "[Errno 2] No such file or directory: 'words.txt'",
     "output_type": "error",
     "traceback": [
      "\u001b[1;31m---------------------------------------------------------------------------\u001b[0m",
      "\u001b[1;31mFileNotFoundError\u001b[0m                         Traceback (most recent call last)",
      "\u001b[1;32m<ipython-input-23-67ed2d378415>\u001b[0m in \u001b[0;36m<module>\u001b[1;34m\u001b[0m\n\u001b[1;32m----> 1\u001b[1;33m \u001b[1;32mwith\u001b[0m \u001b[0mopen\u001b[0m\u001b[1;33m(\u001b[0m\u001b[1;34m'words.txt'\u001b[0m\u001b[1;33m,\u001b[0m\u001b[1;34m'r'\u001b[0m\u001b[1;33m)\u001b[0m \u001b[1;32mas\u001b[0m \u001b[0mfile\u001b[0m\u001b[1;33m:\u001b[0m\u001b[1;33m\u001b[0m\u001b[1;33m\u001b[0m\u001b[0m\n\u001b[0m\u001b[0;32m      2\u001b[0m     \u001b[0mcount\u001b[0m \u001b[1;33m=\u001b[0m \u001b[1;36m0\u001b[0m\u001b[1;33m\u001b[0m\u001b[1;33m\u001b[0m\u001b[0m\n\u001b[0;32m      3\u001b[0m     \u001b[0mwords\u001b[0m \u001b[1;33m=\u001b[0m \u001b[0mfile\u001b[0m\u001b[1;33m.\u001b[0m\u001b[0mreadlines\u001b[0m\u001b[1;33m(\u001b[0m\u001b[1;33m)\u001b[0m\u001b[1;33m\u001b[0m\u001b[1;33m\u001b[0m\u001b[0m\n\u001b[0;32m      4\u001b[0m     \u001b[1;32mfor\u001b[0m \u001b[0mword\u001b[0m \u001b[1;32min\u001b[0m \u001b[0mwords\u001b[0m\u001b[1;33m:\u001b[0m\u001b[1;33m\u001b[0m\u001b[1;33m\u001b[0m\u001b[0m\n\u001b[0;32m      5\u001b[0m         \u001b[1;32mif\u001b[0m \u001b[0mlen\u001b[0m\u001b[1;33m(\u001b[0m\u001b[0mword\u001b[0m\u001b[1;33m.\u001b[0m\u001b[0mstrip\u001b[0m\u001b[1;33m(\u001b[0m\u001b[1;34m'\\n'\u001b[0m\u001b[1;33m)\u001b[0m\u001b[1;33m)\u001b[0m \u001b[1;33m<=\u001b[0m \u001b[1;36m10\u001b[0m\u001b[1;33m:\u001b[0m\u001b[1;33m\u001b[0m\u001b[1;33m\u001b[0m\u001b[0m\n",
      "\u001b[1;31mFileNotFoundError\u001b[0m: [Errno 2] No such file or directory: 'words.txt'"
     ]
    }
   ],
   "source": [
    "with open('words.txt','r') as file:\n",
    "    count = 0\n",
    "    words = file.readlines()\n",
    "    for word in words:\n",
    "        if len(word.strip('\\n')) <= 10:\n",
    "            count += 1"
   ]
  },
  {
   "cell_type": "markdown",
   "metadata": {},
   "source": [
    "해설  \n",
    "  \n",
    "words.txt 파일이 주어진다고 했으므로  \n",
    "with open('words.txt', 'r') as file:과 같이 파일을 읽기 모드 'r'로 엽니다.  \n",
    "그리고 단어가 줄 단위로 저장되어 있다고 했으므로  \n",
    "readlines로 파일의 내용을 읽어서 리스트 형태로 가져옵니다.  \n",
    "  \n",
    "단어가 10자 이하인지 판단할 때는   \n",
    "for 반복문으로 단어 리스트를 반복하면서 len으로 단어 길이를 구합니다.  \n",
    "단, readlines로 파일을 읽었을 때는   \n",
    "문자열에 \\n이 들어있으므로 strip('\\n')으로 \\n을 삭제해야 합니다.   \n",
    "그다음에 단어 길이가 10 이하이면   \n",
    "count에 1을 더해서 저장해주면 됩니다.  "
   ]
  },
  {
   "cell_type": "markdown",
   "metadata": {},
   "source": [
    "# 코딩도장 심사문제"
   ]
  },
  {
   "cell_type": "code",
   "execution_count": null,
   "metadata": {},
   "outputs": [],
   "source": [
    "with open('words.txt', 'r') as file:    \n",
    "    split() 공백기준 분리하여 리스트로 만들기\n",
    "....하.. 1도모르겠다 "
   ]
  },
  {
   "cell_type": "markdown",
   "metadata": {},
   "source": [
    "해설  \n",
    "open으로 words.txt 파일을 연 뒤 read로 파일의 내용을 읽어옵니다.   \n",
    "그다음에 split()으로 읽어온 문자열을 공백을 기준으로 분리하여 리스로 만듭니다.\n",
    "\n",
    "리스트가 준비되었으면 for로 반복하면서 단어에 c가 들어있는지 판단합니다.   \n",
    "여기서 단어에 c가 들어있는지 판단하려면 'c' in 단어와 같이 in 연산자를 사용하면 됩니다.\n",
    "\n",
    "마지막으로 찾은 단어를 출력할 때는 ,  \n",
    "(콤마)와 .(점)은 출력하지 않아야 하므로 strip(',.')를 사용하여   \n",
    "콤마와 점을 삭제한 뒤 print로 출력해야 합니다."
   ]
  },
  {
   "cell_type": "code",
   "execution_count": null,
   "metadata": {},
   "outputs": [],
   "source": []
  }
 ],
 "metadata": {
  "kernelspec": {
   "display_name": "Python 3",
   "language": "python",
   "name": "python3"
  },
  "language_info": {
   "codemirror_mode": {
    "name": "ipython",
    "version": 3
   },
   "file_extension": ".py",
   "mimetype": "text/x-python",
   "name": "python",
   "nbconvert_exporter": "python",
   "pygments_lexer": "ipython3",
   "version": "3.8.3"
  }
 },
 "nbformat": 4,
 "nbformat_minor": 4
}
