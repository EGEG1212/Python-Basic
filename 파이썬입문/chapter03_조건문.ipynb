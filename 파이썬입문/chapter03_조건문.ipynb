{
 "cells": [
  {
   "cell_type": "markdown",
   "metadata": {},
   "source": [
    "# 조건문 "
   ]
  },
  {
   "cell_type": "code",
   "execution_count": 2,
   "metadata": {},
   "outputs": [
    {
     "name": "stdout",
     "output_type": "stream",
     "text": [
      "숫자를 입력하세요 : 0\n",
      "0 또는 음수!\n"
     ]
    }
   ],
   "source": [
    "# 양수 판별\n",
    "x = int(input('숫자를 입력하세요 : '))\n",
    "\n",
    "if x > 0 :\n",
    "    print('양수!')\n",
    "else :\n",
    "    print('0 또는 음수!')"
   ]
  },
  {
   "cell_type": "code",
   "execution_count": 3,
   "metadata": {},
   "outputs": [
    {
     "name": "stdout",
     "output_type": "stream",
     "text": [
      "숫자를 입력하세요 : 10\n"
     ]
    }
   ],
   "source": [
    "n = (input('숫자를 입력하세요 : '))"
   ]
  },
  {
   "cell_type": "code",
   "execution_count": 4,
   "metadata": {},
   "outputs": [
    {
     "name": "stdout",
     "output_type": "stream",
     "text": [
      "True\n"
     ]
    }
   ],
   "source": [
    "x = 10\n",
    "y = 3\n",
    "print(x>9)"
   ]
  },
  {
   "cell_type": "code",
   "execution_count": 5,
   "metadata": {},
   "outputs": [
    {
     "name": "stdout",
     "output_type": "stream",
     "text": [
      "필기성적을 입력하세요 : 80\n",
      "실기성적을 입력하세요 : 90\n",
      "합격!!!ㅊㅋㅊㅋ\n"
     ]
    }
   ],
   "source": [
    "# 논리 곱\n",
    "score1 = int(input('필기성적을 입력하세요 : '))\n",
    "score2 = int(input('실기성적을 입력하세요 : '))\n",
    "\n",
    "if score1 >=80 and score2>= 80:\n",
    "    print('합격!!!ㅊㅋㅊㅋ')\n",
    "else :\n",
    "    print('불합격ㅠ.ㅠ')"
   ]
  },
  {
   "cell_type": "code",
   "execution_count": 6,
   "metadata": {},
   "outputs": [
    {
     "name": "stdout",
     "output_type": "stream",
     "text": [
      "합격!\n"
     ]
    }
   ],
   "source": [
    "if (score1 >= 80) and (score2 >= 80):\n",
    "    print('합격!')\n",
    "else :\n",
    "    print('불합격!')"
   ]
  },
  {
   "cell_type": "code",
   "execution_count": 7,
   "metadata": {},
   "outputs": [
    {
     "name": "stdout",
     "output_type": "stream",
     "text": [
      "이름을 입력> 고채경\n"
     ]
    }
   ],
   "source": [
    "# 논리 부정\n",
    "name = input('이름을 입력> ')"
   ]
  },
  {
   "cell_type": "code",
   "execution_count": 8,
   "metadata": {},
   "outputs": [
    {
     "name": "stdout",
     "output_type": "stream",
     "text": [
      "입력된 이름: 고채경\n"
     ]
    }
   ],
   "source": [
    "if not name :\n",
    "    print('이름이 입력되지 않았음.')\n",
    "else:\n",
    "    print('입력된 이름: %s' % name)   "
   ]
  },
  {
   "cell_type": "code",
   "execution_count": 9,
   "metadata": {},
   "outputs": [
    {
     "name": "stdout",
     "output_type": "stream",
     "text": [
      "이름을 입력> james\n"
     ]
    }
   ],
   "source": [
    "name = None\n",
    "name = input('이름을 입력> ')"
   ]
  },
  {
   "cell_type": "code",
   "execution_count": 10,
   "metadata": {},
   "outputs": [
    {
     "name": "stdout",
     "output_type": "stream",
     "text": [
      "입력된 이름: james\n"
     ]
    }
   ],
   "source": [
    "if not name :\n",
    "    print('이름이 입력되지 않았음.')\n",
    "else:\n",
    "    print('입력된 이름: %s' % name)  "
   ]
  },
  {
   "cell_type": "code",
   "execution_count": 2,
   "metadata": {},
   "outputs": [
    {
     "name": "stdout",
     "output_type": "stream",
     "text": [
      "정수를 입력하세요 : 5\n"
     ]
    }
   ],
   "source": [
    "# 양수,0,음수 판별\n",
    "x = int(input('정수를 입력하세요 : '))"
   ]
  },
  {
   "cell_type": "code",
   "execution_count": 4,
   "metadata": {},
   "outputs": [
    {
     "name": "stdout",
     "output_type": "stream",
     "text": [
      "5 은/는 양수입니다!\n"
     ]
    }
   ],
   "source": [
    "if x > 0 :\n",
    "    print('%d 은/는 양수입니다!'%x)\n",
    "elif x == 0 :\n",
    "    print('0 입니다.')\n",
    "else :\n",
    "    print('%d 은/는 음수입니다!'%x)"
   ]
  },
  {
   "cell_type": "code",
   "execution_count": 1,
   "metadata": {},
   "outputs": [
    {
     "name": "stdout",
     "output_type": "stream",
     "text": [
      "점수를 입력하세요 : 50\n",
      "탈락입니다\n"
     ]
    }
   ],
   "source": [
    "# 학점\n",
    "score = int(input('점수를 입력하세요 : '))\n",
    "if 90 <= score <= 100 :\n",
    "    print('A')\n",
    "elif 80 <= score < 90 :\n",
    "    print('B')\n",
    "elif 70 <= score < 80 :\n",
    "    print('C')\n",
    "elif 60 <= score < 70 :\n",
    "    print('D')\n",
    "else :\n",
    "    print('탈락입니다')"
   ]
  },
  {
   "cell_type": "code",
   "execution_count": 6,
   "metadata": {},
   "outputs": [
    {
     "name": "stdout",
     "output_type": "stream",
     "text": [
      "점수를 입력하세요 : 75\n",
      "C\n"
     ]
    }
   ],
   "source": [
    "score = int(input('점수를 입력하세요 : '))\n",
    "if 90 <= score  :\n",
    "    print('A')\n",
    "elif 80 <= score  :\n",
    "    print('B')\n",
    "elif 70 <= score  :\n",
    "    print('C')\n",
    "elif 60 <= score  :\n",
    "    print('D')\n",
    "else :\n",
    "    print('F')"
   ]
  },
  {
   "cell_type": "code",
   "execution_count": null,
   "metadata": {},
   "outputs": [],
   "source": [
    "# 세 수의 합과 평균\n",
    "x = int(input('숫자> '))\n",
    "y = int(input('숫자> '))\n",
    "z = int(input('숫자> '))"
   ]
  },
  {
   "cell_type": "code",
   "execution_count": 1,
   "metadata": {},
   "outputs": [
    {
     "name": "stdout",
     "output_type": "stream",
     "text": [
      "세개의 숫자입력> 35 67 94\n"
     ]
    }
   ],
   "source": [
    "x, y, z = input('세개의 숫자입력> ').split()"
   ]
  },
  {
   "cell_type": "code",
   "execution_count": 2,
   "metadata": {},
   "outputs": [
    {
     "name": "stdout",
     "output_type": "stream",
     "text": [
      "35 67 94\n"
     ]
    }
   ],
   "source": [
    "print(x, y, z)"
   ]
  },
  {
   "cell_type": "code",
   "execution_count": 3,
   "metadata": {},
   "outputs": [
    {
     "data": {
      "text/plain": [
       "('35', '67', '94')"
      ]
     },
     "execution_count": 3,
     "metadata": {},
     "output_type": "execute_result"
    }
   ],
   "source": [
    "x, y, z"
   ]
  },
  {
   "cell_type": "code",
   "execution_count": 4,
   "metadata": {},
   "outputs": [
    {
     "data": {
      "text/plain": [
       "(35, 67, 94)"
      ]
     },
     "execution_count": 4,
     "metadata": {},
     "output_type": "execute_result"
    }
   ],
   "source": [
    "int(x), int(y), int(z)"
   ]
  },
  {
   "cell_type": "code",
   "execution_count": 6,
   "metadata": {},
   "outputs": [
    {
     "name": "stdout",
     "output_type": "stream",
     "text": [
      "세개의 숫자입력> 35 56 78\n"
     ]
    },
    {
     "data": {
      "text/plain": [
       "(35, 56, 78)"
      ]
     },
     "execution_count": 6,
     "metadata": {},
     "output_type": "execute_result"
    }
   ],
   "source": [
    "x, y, z = map(int, input('세개의 숫자입력> ').split())\n",
    "x, y, z"
   ]
  },
  {
   "cell_type": "code",
   "execution_count": 8,
   "metadata": {},
   "outputs": [
    {
     "data": {
      "text/plain": [
       "(169, 56.333333333333336)"
      ]
     },
     "execution_count": 8,
     "metadata": {},
     "output_type": "execute_result"
    }
   ],
   "source": [
    "sum = x + y + z\n",
    "avg = sum / 3\n",
    "sum, avg"
   ]
  },
  {
   "cell_type": "code",
   "execution_count": null,
   "metadata": {},
   "outputs": [],
   "source": [
    "# if문으로 만 나이 계산하기\n",
    "current_year = 2020\n",
    "current_month = 8\n",
    "current_day = 28"
   ]
  },
  {
   "cell_type": "code",
   "execution_count": 16,
   "metadata": {},
   "outputs": [
    {
     "name": "stdout",
     "output_type": "stream",
     "text": [
      "생일 입력>1999 7 4\n"
     ]
    },
    {
     "data": {
      "text/plain": [
       "(1999, 7, 4)"
      ]
     },
     "execution_count": 16,
     "metadata": {},
     "output_type": "execute_result"
    }
   ],
   "source": [
    "birth_year, birth_month, birth_day = map(int, input('생일 입력>').split())\n",
    "birth_year, birth_month, birth_day"
   ]
  },
  {
   "cell_type": "code",
   "execution_count": 17,
   "metadata": {},
   "outputs": [
    {
     "name": "stdout",
     "output_type": "stream",
     "text": [
      "21\n"
     ]
    }
   ],
   "source": [
    "if current_month > birth_month:         # 현재월 > 생월\n",
    "    age = current_year - birth_year\n",
    "elif current_month < birth_month:       # 현재월 < 생월\n",
    "    age = current_year - birth_year - 1\n",
    "else:                                   # 현재월 = 생월\n",
    "    if current_day < birth_day:             # 현재일 <생일\n",
    "        age = current_year - birth_year - 1\n",
    "    else:                                   # 현재일 >= 생일 \n",
    "        age = current_year - birth_year\n",
    "        \n",
    "print(age)"
   ]
  },
  {
   "cell_type": "code",
   "execution_count": 10,
   "metadata": {},
   "outputs": [
    {
     "data": {
      "text/plain": [
       "datetime.datetime(2020, 8, 28, 11, 37, 9, 125)"
      ]
     },
     "execution_count": 10,
     "metadata": {},
     "output_type": "execute_result"
    }
   ],
   "source": [
    "# 파이썬 datetime 모듈 활용\n",
    "import datetime\n",
    "datetime.datetime.now() "
   ]
  },
  {
   "cell_type": "code",
   "execution_count": 11,
   "metadata": {},
   "outputs": [],
   "source": [
    "current_year = datetime.datetime.now().year \n",
    "current_month = datetime.datetime.now().month\n",
    "current_day = datetime.datetime.now().day"
   ]
  },
  {
   "cell_type": "code",
   "execution_count": 12,
   "metadata": {},
   "outputs": [
    {
     "name": "stdout",
     "output_type": "stream",
     "text": [
      "생일 입력>2000 8 4\n"
     ]
    },
    {
     "data": {
      "text/plain": [
       "(2000, 8, 4)"
      ]
     },
     "execution_count": 12,
     "metadata": {},
     "output_type": "execute_result"
    }
   ],
   "source": [
    "birth_year, birth_month, birth_day = map(int, input('생일 입력>').split())\n",
    "birth_year, birth_month, birth_day"
   ]
  },
  {
   "cell_type": "code",
   "execution_count": 13,
   "metadata": {},
   "outputs": [
    {
     "name": "stdout",
     "output_type": "stream",
     "text": [
      "만 나이는 20입니다.\n"
     ]
    }
   ],
   "source": [
    "if current_month > birth_month:         # 현재월 > 생월\n",
    "    age = current_year - birth_year\n",
    "elif current_month < birth_month:       # 현재월 < 생월\n",
    "    age = current_year - birth_year - 1\n",
    "else:                                   # 현재월 = 생월\n",
    "    if current_day < birth_day:             # 현재일 <생일\n",
    "        age = current_year - birth_year - 1\n",
    "    else:                                   # 현재일 >= 생일 \n",
    "        age = current_year - birth_year\n",
    "        \n",
    "print('만 나이는 %d입니다.' % age)"
   ]
  },
  {
   "cell_type": "code",
   "execution_count": 19,
   "metadata": {},
   "outputs": [
    {
     "ename": "SyntaxError",
     "evalue": "invalid syntax (<ipython-input-19-8d8f0da7e85f>, line 3)",
     "output_type": "error",
     "traceback": [
      "\u001b[1;36m  File \u001b[1;32m\"<ipython-input-19-8d8f0da7e85f>\"\u001b[1;36m, line \u001b[1;32m3\u001b[0m\n\u001b[1;33m    if len(brirthday) = 8:\u001b[0m\n\u001b[1;37m                      ^\u001b[0m\n\u001b[1;31mSyntaxError\u001b[0m\u001b[1;31m:\u001b[0m invalid syntax\n"
     ]
    }
   ],
   "source": [
    "# 생년월일 6자리 숫자로 받아서 처리하기 \n",
    "brirthday = input('생일 6자리 숫자> ')\n",
    "if len(brirthday) = 8:\n",
    "    print('\"년년/월월/일일\" 만 입력하세요.')\n",
    "elif len(brirthday) = 6:\n",
    "    print('년년/월월/일일 만 입력하세요.')\n",
    "    \n",
    "    \n",
    "b_year = int(brirthday[:2])\n",
    "if b_year <= 20:\n",
    "    b_year += 2020\n",
    "else:\n",
    "    b_year += 1900\n",
    "b_month = int(brirthday[2:4])\n",
    "b_day = int(brirthday[4:])\n",
    "b_year, b_month,b_day"
   ]
  },
  {
   "cell_type": "code",
   "execution_count": 22,
   "metadata": {},
   "outputs": [
    {
     "name": "stdout",
     "output_type": "stream",
     "text": [
      "생일 (6, 7, 8자리 숫자> 7209022\n",
      "1972 9 2\n"
     ]
    }
   ],
   "source": [
    "# 생일 임의의 연속된 숫자로 받아서 처리하기\n",
    "brirthday = input('생일 (6, 7, 8자리 숫자> ')\n",
    "if len(brirthday) == 6:\n",
    "    b_year = int(brirthday[:2])\n",
    "    if b_year <= 20:\n",
    "        b_year += 2020\n",
    "    else:\n",
    "        b_year += 1900\n",
    "    b_month = int(brirthday[2:4])\n",
    "    b_day = int(brirthday[4:])\n",
    "elif len(brirthday) == 7:\n",
    "    b_year = int(brirthday[:2])\n",
    "    if int(brirthday[-1]) > 2:\n",
    "        b_year += 2000\n",
    "    else:\n",
    "        b_year += 1900\n",
    "    b_month = int(brirthday[2:4])\n",
    "    b_day = int(brirthday[4:6])\n",
    "else:\n",
    "    b_year = int(brirthday[:4])\n",
    "    b_month = int(brirthday[4:6])\n",
    "    b_day = int(brirthday[6:8])\n",
    "\n",
    "print(b_year, b_month, b_day)"
   ]
  },
  {
   "cell_type": "code",
   "execution_count": 25,
   "metadata": {},
   "outputs": [
    {
     "name": "stdout",
     "output_type": "stream",
     "text": [
      "생일 (6, 7, 8자리 숫자> 198702222\n",
      "6~8자리의 숫자를 입력하세요\n",
      "1987 12 25\n"
     ]
    }
   ],
   "source": [
    "# 생일 임의의 연속된 숫자로 받아서 처리하기-ver2\n",
    "brirthday = input('생일 (6, 7, 8자리 숫자> ')\n",
    "if len(brirthday) == 6:\n",
    "    b_year = int(brirthday[:2])\n",
    "    if b_year <= 20:\n",
    "        b_year += 2020\n",
    "    else:\n",
    "        b_year += 1900\n",
    "    b_month = int(brirthday[2:4])\n",
    "    b_day = int(brirthday[4:])\n",
    "elif len(brirthday) == 7:\n",
    "    b_year = int(brirthday[:2])\n",
    "    if int(brirthday[-1]) > 2:\n",
    "        b_year += 2000\n",
    "    else:\n",
    "        b_year += 1900\n",
    "    b_month = int(brirthday[2:4])\n",
    "    b_day = int(brirthday[4:6])\n",
    "elif len(brirthday) == 8:\n",
    "    b_year = int(brirthday[:4])\n",
    "    b_month = int(brirthday[4:6])\n",
    "    b_day = int(brirthday[6:8])\n",
    "else:\n",
    "    print('6~8자리의 숫자를 입력하세요')\n",
    "\n",
    "print(b_year, b_month, b_day)"
   ]
  },
  {
   "cell_type": "code",
   "execution_count": null,
   "metadata": {},
   "outputs": [],
   "source": []
  },
  {
   "cell_type": "code",
   "execution_count": null,
   "metadata": {},
   "outputs": [],
   "source": []
  }
 ],
 "metadata": {
  "kernelspec": {
   "display_name": "Python 3",
   "language": "python",
   "name": "python3"
  },
  "language_info": {
   "codemirror_mode": {
    "name": "ipython",
    "version": 3
   },
   "file_extension": ".py",
   "mimetype": "text/x-python",
   "name": "python",
   "nbconvert_exporter": "python",
   "pygments_lexer": "ipython3",
   "version": "3.8.3"
  }
 },
 "nbformat": 4,
 "nbformat_minor": 4
}
