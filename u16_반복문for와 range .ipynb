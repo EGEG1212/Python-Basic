{
 "cells": [
  {
   "cell_type": "markdown",
   "metadata": {},
   "source": [
    "# Unit 16. for 반복문"
   ]
  },
  {
   "cell_type": "code",
   "execution_count": 1,
   "metadata": {},
   "outputs": [
    {
     "ename": "SyntaxError",
     "evalue": "invalid syntax (<ipython-input-1-243b3df24231>, line 1)",
     "output_type": "error",
     "traceback": [
      "\u001b[1;36m  File \u001b[1;32m\"<ipython-input-1-243b3df24231>\"\u001b[1;36m, line \u001b[1;32m1\u001b[0m\n\u001b[1;33m    for(let i=0; i<10; i++) {\u001b[0m\n\u001b[1;37m            ^\u001b[0m\n\u001b[1;31mSyntaxError\u001b[0m\u001b[1;31m:\u001b[0m invalid syntax\n"
     ]
    }
   ],
   "source": [
    "for(let i=0; i<10; i++) {\n",
    "    #전통적c랭기지 단점: array[i] 어레이로접근\n",
    "}"
   ]
  },
  {
   "cell_type": "code",
   "execution_count": 2,
   "metadata": {},
   "outputs": [
    {
     "ename": "SyntaxError",
     "evalue": "invalid syntax (<ipython-input-2-8fbad1ce6090>, line 1)",
     "output_type": "error",
     "traceback": [
      "\u001b[1;36m  File \u001b[1;32m\"<ipython-input-2-8fbad1ce6090>\"\u001b[1;36m, line \u001b[1;32m1\u001b[0m\n\u001b[1;33m    for(let element of array또는object) {\u001b[0m\n\u001b[1;37m            ^\u001b[0m\n\u001b[1;31mSyntaxError\u001b[0m\u001b[1;31m:\u001b[0m invalid syntax\n"
     ]
    }
   ],
   "source": [
    "for(let element of array또는object) {\n",
    "    #enhanced 요즘 보편적사용\n",
    "}"
   ]
  },
  {
   "cell_type": "code",
   "execution_count": 3,
   "metadata": {},
   "outputs": [
    {
     "ename": "IndentationError",
     "evalue": "expected an indented block (<ipython-input-3-e02e1796f0db>, line 2)",
     "output_type": "error",
     "traceback": [
      "\u001b[1;36m  File \u001b[1;32m\"<ipython-input-3-e02e1796f0db>\"\u001b[1;36m, line \u001b[1;32m2\u001b[0m\n\u001b[1;33m    for i in range(10):          #횟수중심 전통적 구닥다리Ver.\u001b[0m\n\u001b[1;37m    ^\u001b[0m\n\u001b[1;31mIndentationError\u001b[0m\u001b[1;31m:\u001b[0m expected an indented block\n"
     ]
    }
   ],
   "source": [
    "for 변수 in 시퀀스객체또는딕셔너리:       # 콜론까지 잘 챙기세요\n",
    "for i in range(10):          #횟수중심 전통적 구닥다리Ver.\n",
    "for element in list:          #enhanced Ver."
   ]
  },
  {
   "cell_type": "code",
   "execution_count": 4,
   "metadata": {},
   "outputs": [
    {
     "name": "stdout",
     "output_type": "stream",
     "text": [
      "Hello world\n",
      "Hello world\n",
      "Hello world\n",
      "Hello world\n",
      "Hello world\n"
     ]
    }
   ],
   "source": [
    "for i in range(5):       #반복코드\n",
    "    print('Hello world')"
   ]
  },
  {
   "cell_type": "code",
   "execution_count": 5,
   "metadata": {},
   "outputs": [
    {
     "name": "stdout",
     "output_type": "stream",
     "text": [
      "Hello world 0\n",
      "Hello world 1\n",
      "Hello world 2\n",
      "Hello world 3\n",
      "Hello world 4\n"
     ]
    }
   ],
   "source": [
    "for i in range(5):       #인덱스가어떻게 변하나 보자.range(0,5,1) 앞뒤생략\n",
    "    print('Hello world', i)"
   ]
  },
  {
   "cell_type": "code",
   "execution_count": 6,
   "metadata": {},
   "outputs": [
    {
     "name": "stdout",
     "output_type": "stream",
     "text": [
      "2500\n"
     ]
    }
   ],
   "source": [
    " # for와 range 응용하기 증가폭\n",
    "sum = 0\n",
    "for i in range(1,100,2):\n",
    "    sum += i\n",
    "print(sum)"
   ]
  },
  {
   "cell_type": "code",
   "execution_count": 7,
   "metadata": {},
   "outputs": [
    {
     "name": "stdout",
     "output_type": "stream",
     "text": [
      "Hello world 5\n",
      "Hello world 4\n",
      "Hello world 3\n",
      "Hello world 2\n",
      "Hello world 1\n"
     ]
    }
   ],
   "source": [
    "# 숫자를 감소시키기  -1생략하면 안됨!!\n",
    "for i in range(5, 0, -1):       \n",
    "    print('Hello world', i)\n"
   ]
  },
  {
   "cell_type": "code",
   "execution_count": 8,
   "metadata": {},
   "outputs": [
    {
     "name": "stdout",
     "output_type": "stream",
     "text": [
      "Hello world 4\n",
      "Hello world 3\n",
      "Hello world 2\n",
      "Hello world 1\n",
      "Hello world 0\n"
     ]
    }
   ],
   "source": [
    "for i in reversed(range(5)):         #reversed라는게있다...  위에꺼랑 비슷한데 다름!\n",
    "    print('Hello world', i)"
   ]
  },
  {
   "cell_type": "code",
   "execution_count": 9,
   "metadata": {},
   "outputs": [
    {
     "name": "stdout",
     "output_type": "stream",
     "text": [
      "Hello world 0\n",
      "Hello world 1\n",
      "Hello world 2\n",
      "Hello world 3\n",
      "Hello world 4\n"
     ]
    }
   ],
   "source": [
    "for i in range(5):        #하나의 엘리먼트값으로 전혀영양을 안미친다고라고라?\n",
    "    print('Hello world', i)  #다른랭기지의 포룩과는 차이가 있다...?\n",
    "    i=5                #이걸 하는게 의미가없다?"
   ]
  },
  {
   "cell_type": "code",
   "execution_count": null,
   "metadata": {},
   "outputs": [],
   "source": [
    "#CMD 창에서 \n",
    "for (let i=0; i<5; i++) {\n",
    "... console.log(i);\n",
    "... i=5;\n",
    "... }\n",
    "결과값 0 5 #왜5를 찍는것인가.. 교수님이해불가! "
   ]
  },
  {
   "cell_type": "code",
   "execution_count": 10,
   "metadata": {},
   "outputs": [
    {
     "name": "stdout",
     "output_type": "stream",
     "text": [
      "반복할 횟수> 3\n",
      "Hello world 0\n",
      "Hello world 1\n",
      "Hello world 2\n"
     ]
    }
   ],
   "source": [
    "#인풋과 연계\n",
    "loop = int(input('반복할 횟수> '))  #숫자를 입력받는데 int화 해주고\n",
    "for i in range(loop):\n",
    "    print('Hello world', i)"
   ]
  },
  {
   "cell_type": "markdown",
   "metadata": {},
   "source": [
    "### sequence시퀀스 객체로 반복하기 (문자도)"
   ]
  },
  {
   "cell_type": "code",
   "execution_count": 11,
   "metadata": {},
   "outputs": [
    {
     "name": "stdout",
     "output_type": "stream",
     "text": [
      "10 20 30 40 50 "
     ]
    }
   ],
   "source": [
    "a = [10, 20, 30, 40, 50]        # 리스트\n",
    "for element in a:\n",
    "    print(element, end=' ')     #엘리먼트가와도 시퀀스로 나옵?"
   ]
  },
  {
   "cell_type": "code",
   "execution_count": 12,
   "metadata": {},
   "outputs": [
    {
     "name": "stdout",
     "output_type": "stream",
     "text": [
      "apple orange grape "
     ]
    }
   ],
   "source": [
    "fruits = ('apple', 'orange', 'grape')  #그래서 여기는 복수형태로만들어 놔야한다\n",
    "for fruit in fruits:             #앞에는 단수/ 뒤에는 복수s아니면 list\n",
    "    print(fruit, end=' ')"
   ]
  },
  {
   "cell_type": "code",
   "execution_count": 13,
   "metadata": {},
   "outputs": [
    {
     "name": "stdout",
     "output_type": "stream",
     "text": [
      "P y t h o n "
     ]
    }
   ],
   "source": [
    "for letter in 'Python':   #문자도 가능\n",
    "    print(letter, end=' ')"
   ]
  },
  {
   "cell_type": "code",
   "execution_count": 16,
   "metadata": {},
   "outputs": [
    {
     "name": "stdout",
     "output_type": "stream",
     "text": [
      "n o h t y P "
     ]
    }
   ],
   "source": [
    "for letter in reversed('Python'):   #문자를 리벌스로 해볼까 된다 거꾸로\n",
    "    print(letter, end=' ')"
   ]
  },
  {
   "cell_type": "markdown",
   "metadata": {},
   "source": [
    "### 코딩도장 퀴즈"
   ]
  },
  {
   "cell_type": "code",
   "execution_count": null,
   "metadata": {},
   "outputs": [],
   "source": [
    "# 1. 다음 중 for로 10번 반복하는 방법으로 올바른 것\n",
    "for i in range(10):\n",
    "for i in range(20, 40, 2):\n",
    "    \n",
    "#for에 range(10)을 지정하면 0부터 9까지 10번 반복하고, \n",
    "#range(20, 40, 2)를 지정하면 20부터 38까지 2씩 증가하면서 10번 반복합니다."
   ]
  },
  {
   "cell_type": "code",
   "execution_count": null,
   "metadata": {},
   "outputs": [],
   "source": [
    "# 2. 다음 중 20부터 10까지 출력하는 방법으로 올바른 것\n",
    "for i in range(20, 9, -1):\n",
    "    print(i)\n",
    "    \n",
    "for i in reversed(range(10, 21)):\n",
    "    print(i)\n",
    "    \n",
    "#for에 range(20, 9, -1)을 지정하면 20부터 10까지 1씩 감소하면서 \n",
    "#10번 반복하고, reversed(range(10, 21))을 지정하면 \n",
    "#10부터 20까지 숫자를 생성한 뒤 reversed로 뒤집어서 20부터 10까지 반복합니다."
   ]
  },
  {
   "cell_type": "code",
   "execution_count": null,
   "metadata": {},
   "outputs": [],
   "source": [
    "# 3. 다음 소스 코드에서 잘못된 부분\n",
    "a. count = input()   #여기 잘못됨\n",
    "b.\n",
    "c. for i in range(count)  #여기 잘못됨\n",
    "d.     print('i의 값은', end=' ')\n",
    "e.     print(i)\n",
    "\n",
    "..........???\n",
    "# input으로 입력받은 값은 문자열입니다. \n",
    "#따라서 int를 사용하여 정수로 변환해주어야 합니다. \n",
    "#그리고 for 반복문은 끝에 :(콜론)을 붙여야 합니다.\n"
   ]
  },
  {
   "cell_type": "code",
   "execution_count": null,
   "metadata": {},
   "outputs": [],
   "source": [
    "# 4. 다음 for 반복문을 실행했을 때의 출력 결과\n",
    "for i in reversed('Python'):\n",
    "    print(i, end='.')\n",
    "    \n",
    "n.o.h.t.y.P.출력\n",
    "\n",
    "#문자열 'Python'을 reversed에 넣었으므로 뒤집어서 문자를 꺼냅니다. \n",
    "#그리고 print에 end='.'을 지정했으므로 줄바꿈이 되지 않고 \n",
    "#각 문자에 .(점)이 붙어서 출력됩니다."
   ]
  }
 ],
 "metadata": {
  "kernelspec": {
   "display_name": "Python 3",
   "language": "python",
   "name": "python3"
  },
  "language_info": {
   "codemirror_mode": {
    "name": "ipython",
    "version": 3
   },
   "file_extension": ".py",
   "mimetype": "text/x-python",
   "name": "python",
   "nbconvert_exporter": "python",
   "pygments_lexer": "ipython3",
   "version": "3.8.3"
  }
 },
 "nbformat": 4,
 "nbformat_minor": 4
}
