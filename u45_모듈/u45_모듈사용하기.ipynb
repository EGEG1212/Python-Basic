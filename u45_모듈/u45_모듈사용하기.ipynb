{
 "metadata": {
  "language_info": {
   "codemirror_mode": {
    "name": "ipython",
    "version": 3
   },
   "file_extension": ".py",
   "mimetype": "text/x-python",
   "name": "python",
   "nbconvert_exporter": "python",
   "pygments_lexer": "ipython3",
   "version": "3.8.3-final"
  },
  "orig_nbformat": 2,
  "kernelspec": {
   "name": "Python 3.8.3 64-bit (conda)",
   "display_name": "Python 3.8.3 64-bit (conda)",
   "metadata": {
    "interpreter": {
     "hash": "b3ba2566441a7c06988d0923437866b63cedc61552a5af99d1f4fb67d367b25f"
    }
   }
  }
 },
 "nbformat": 4,
 "nbformat_minor": 2,
 "cells": [
  {
   "source": [
    "# Unit 45. 파이썬모듈과 패키지 사용하기"
   ],
   "cell_type": "markdown",
   "metadata": {}
  },
  {
   "cell_type": "code",
   "execution_count": 4,
   "metadata": {},
   "outputs": [],
   "source": [
    "# square2.py에 모듈을 작성해놓았다"
   ]
  },
  {
   "cell_type": "code",
   "execution_count": 5,
   "metadata": {},
   "outputs": [
    {
     "output_type": "execute_result",
     "data": {
      "text/plain": [
       "1024"
      ]
     },
     "metadata": {},
     "execution_count": 5
    }
   ],
   "source": [
    "import square2 as s2\n",
    "s2.square(10)"
   ]
  },
  {
   "cell_type": "code",
   "execution_count": 6,
   "metadata": {},
   "outputs": [
    {
     "output_type": "execute_result",
     "data": {
      "text/plain": [
       "2"
      ]
     },
     "metadata": {},
     "execution_count": 6
    }
   ],
   "source": [
    "s2.base   #s2모듈의 변수가 무엇이냐!!!"
   ]
  },
  {
   "source": [
    "## 45.1.2  from import로 변수, 함수 가져오기"
   ],
   "cell_type": "markdown",
   "metadata": {}
  },
  {
   "cell_type": "code",
   "execution_count": 7,
   "metadata": {},
   "outputs": [
    {
     "output_type": "execute_result",
     "data": {
      "text/plain": [
       "(2, 1024)"
      ]
     },
     "metadata": {},
     "execution_count": 7
    }
   ],
   "source": [
    "from square2 import base, square\n",
    "base, square(10)"
   ]
  },
  {
   "cell_type": "code",
   "execution_count": null,
   "metadata": {},
   "outputs": [],
   "source": [
    "# 뭔가 컴파일된(바뀐) 파일은 pycache폴더로 들어가있다.\n",
    "사람눈으로 볼 수 있는것이 아니다.\n",
    "깃이그노어에 __pycache__추가되어있다\n"
   ]
  },
  {
   "source": [
    "## 45.1.3  모듈에 클래스 작성하기\n",
    "person.py작성했다."
   ],
   "cell_type": "markdown",
   "metadata": {}
  },
  {
   "cell_type": "code",
   "execution_count": 9,
   "metadata": {},
   "outputs": [
    {
     "output_type": "stream",
     "name": "stdout",
     "text": [
      "안녕하세요. 저는 서울에 사는 마리아입니다.\n"
     ]
    }
   ],
   "source": [
    "import person\n",
    "maria = person.Person('마리아', 20, '서울')\n",
    "maria.greeting()"
   ]
  },
  {
   "cell_type": "code",
   "execution_count": 10,
   "metadata": {},
   "outputs": [
    {
     "output_type": "stream",
     "name": "stdout",
     "text": [
      "안녕하세요. 저는 서울에 사는 마리아입니다.\n"
     ]
    }
   ],
   "source": [
    "#위 아래 같은 결과값, 표현방식이 다름\n",
    "from person import Person             #윗부분을 이렇게 수정하면 \n",
    "maria = Person('마리아', 20, '서울')  #요줄에서 person.을 뗄 수 있다.\n",
    "maria.greeting()"
   ]
  },
  {
   "source": [
    "## 45.2 모듈과 시작점 알아보기\n",
    "모듈이 될수도 메인이 될수도  \n",
    "나부터 hello.py 시작하면 __main__이고   \n",
    "import hello 불려서 시작했으면 이름... \n",
    "\n",
    "\n",
    "hello.py 파일을 만들었다.  "
   ],
   "cell_type": "markdown",
   "metadata": {}
  },
  {
   "cell_type": "code",
   "execution_count": null,
   "metadata": {},
   "outputs": [],
   "source": [
    "if __name__ == '__main__': # 이런코드의 뜻은. 나로부터 시작했으면~~~~  "
   ]
  },
  {
   "cell_type": "code",
   "execution_count": 11,
   "metadata": {},
   "outputs": [
    {
     "output_type": "stream",
     "name": "stdout",
     "text": [
      "hello 모듈 시작\nhello.py __name__: hello\nhello 모듈 끝\nmain.py __name__: __main__\n"
     ]
    }
   ],
   "source": [
    "import hello \n",
    "print('main.py __name__:', __name__) # __name__ 변수 출력"
   ]
  },
  {
   "cell_type": "code",
   "execution_count": 12,
   "metadata": {},
   "outputs": [
    {
     "output_type": "stream",
     "name": "stdout",
     "text": [
      "u45.ipynb __name__: __main__\n"
     ]
    }
   ],
   "source": [
    "import hello \n",
    "print('u45.ipynb __name__:', __name__) # __name__ 변수 출력"
   ]
  },
  {
   "source": [
    "### calc.py 파일을 만들었다"
   ],
   "cell_type": "markdown",
   "metadata": {}
  },
  {
   "cell_type": "code",
   "execution_count": 13,
   "metadata": {},
   "outputs": [
    {
     "output_type": "execute_result",
     "data": {
      "text/plain": [
       "(300, 20000)"
      ]
     },
     "metadata": {},
     "execution_count": 13
    }
   ],
   "source": [
    "import calc\n",
    "calc.add(100, 200), calc.mul(100, 200)"
   ]
  },
  {
   "source": [
    "calc.py에 만들어놓은\n",
    "if __name__ == '__main__':    \n",
    "    print(add(10, 20))\n",
    "    print(mul(10, 20)) 부분 10,20이 안나온걸 보니...\n",
    "    메인으로 시작되지 않아서이다! \n",
    "\n",
    "아나콘다프롬포트에서 python calc.py실행하면 \n",
    "30,200 출력된다"
   ],
   "cell_type": "markdown",
   "metadata": {}
  },
  {
   "source": [
    "## 45.3.1  패키지에 모듈 만들기\n",
    "calcpkg폴더에 __init__.py파일생성 \n",
    "# 빈파일상관없다\n",
    "같은 폴더 안에 패키지 파일을 만든다."
   ],
   "cell_type": "markdown",
   "metadata": {}
  },
  {
   "source": [
    "## 45.3.2  패키지 사용하기"
   ],
   "cell_type": "markdown",
   "metadata": {}
  },
  {
   "cell_type": "code",
   "execution_count": 15,
   "metadata": {},
   "outputs": [],
   "source": [
    "import calcpkg.operation    # calcpkg 패키지의 operation 모듈을 가져옴\n",
    "import calcpkg.geometry     # calcpkg 패키지의 geometry 모듈을 가져옴"
   ]
  },
  {
   "cell_type": "code",
   "execution_count": 16,
   "metadata": {},
   "outputs": [
    {
     "output_type": "stream",
     "name": "stdout",
     "text": [
      "30\n200\n"
     ]
    }
   ],
   "source": [
    "print(calcpkg.operation.add(10, 20))    # operation 모듈의 add 함수 사용\n",
    "print(calcpkg.operation.mul(10, 20))    # operation 모듈의 mul 함수 사용"
   ]
  },
  {
   "cell_type": "code",
   "execution_count": 18,
   "metadata": {},
   "outputs": [
    {
     "output_type": "execute_result",
     "data": {
      "text/plain": [
       "(30, 200)"
      ]
     },
     "metadata": {},
     "execution_count": 18
    }
   ],
   "source": [
    "calcpkg.operation.add(10, 20), calcpkg.operation.mul(10, 20)"
   ]
  },
  {
   "cell_type": "code",
   "execution_count": 17,
   "metadata": {},
   "outputs": [
    {
     "output_type": "stream",
     "name": "stdout",
     "text": [
      "600.0\n1200\n"
     ]
    }
   ],
   "source": [
    "print(calcpkg.geometry.triangle_area(30, 40))    # geometry 모듈의 triangle_area 함수 사용\n",
    "print(calcpkg.geometry.rectangle_area(30, 40))   # geometry 모듈의 rectangle_area 함수 사용"
   ]
  },
  {
   "cell_type": "code",
   "execution_count": 19,
   "metadata": {},
   "outputs": [
    {
     "output_type": "execute_result",
     "data": {
      "text/plain": [
       "(600.0, 1200)"
      ]
     },
     "metadata": {},
     "execution_count": 19
    }
   ],
   "source": [
    "calcpkg.geometry.triangle_area(30, 40), calcpkg.geometry.rectangle_area(30, 40)"
   ]
  },
  {
   "source": [
    "## 45.3.3  from import로 패키지의 모듈에서 변수, 함수, 클래스 가져오기\n",
    "from 패키지.모듈 import 변수  \n",
    "from 패키지.모듈 import 함수  \n",
    "from 패키지.모듈 import 클래스  "
   ],
   "cell_type": "markdown",
   "metadata": {}
  },
  {
   "cell_type": "code",
   "execution_count": 20,
   "metadata": {},
   "outputs": [],
   "source": [
    "from calcpkg.operation import add, mul"
   ]
  },
  {
   "cell_type": "code",
   "execution_count": 22,
   "metadata": {},
   "outputs": [
    {
     "output_type": "execute_result",
     "data": {
      "text/plain": [
       "(30, 200)"
      ]
     },
     "metadata": {},
     "execution_count": 22
    }
   ],
   "source": [
    "add(10, 20), mul(10, 20)"
   ]
  },
  {
   "source": [
    "calcpkg/\\__init__.py파일을 수정했따 from.import "
   ],
   "cell_type": "markdown",
   "metadata": {}
  },
  {
   "source": [
    "아까는     \n",
    "import calcpkg.operation    # calcpkg 패키지의 operation 모듈을 가져옴  \n",
    "import calcpkg.geometry     # calcpkg 패키지의 geometry 모듈을 가져옴  \n",
    "이렇게 불러왔었는데  \n",
    "이제는 (수정했으니까) 아래처럼 해도 된다. "
   ],
   "cell_type": "markdown",
   "metadata": {}
  },
  {
   "cell_type": "code",
   "execution_count": 23,
   "metadata": {},
   "outputs": [
    {
     "output_type": "execute_result",
     "data": {
      "text/plain": [
       "(30, 200)"
      ]
     },
     "metadata": {},
     "execution_count": 23
    }
   ],
   "source": [
    "import calcpkg\n",
    "calcpkg.operation.add(10, 20), calcpkg.operation.mul(10, 20)"
   ]
  },
  {
   "cell_type": "code",
   "execution_count": null,
   "metadata": {},
   "outputs": [],
   "source": [
    "###  from calcpkg import * +>"
   ]
  },
  {
   "source": [
    "main2.py 파일을만들고  \n",
    "아나콘다프롬프트에서 실행시켰는데 python main2.py 에러남  \n",
    "왜냐하면   \n",
    "add가 \\__init\\__.py에 없어서 그런가?  \n",
    "\\__init\\__의 세번째처럼 수정했따  \n",
    "from .operation import *  \n",
    "from .geometry import *    \n",
    "아나콘다프롬프트에서 실행시키니 정상작동함."
   ],
   "cell_type": "markdown",
   "metadata": {}
  },
  {
   "source": [
    "## 코딩도장 연습문제"
   ],
   "cell_type": "markdown",
   "metadata": {}
  },
  {
   "cell_type": "code",
   "execution_count": null,
   "metadata": {},
   "outputs": [],
   "source": []
  },
  {
   "cell_type": "code",
   "execution_count": null,
   "metadata": {},
   "outputs": [],
   "source": []
  },
  {
   "cell_type": "code",
   "execution_count": null,
   "metadata": {},
   "outputs": [],
   "source": []
  },
  {
   "cell_type": "code",
   "execution_count": null,
   "metadata": {},
   "outputs": [],
   "source": []
  },
  {
   "cell_type": "code",
   "execution_count": null,
   "metadata": {},
   "outputs": [],
   "source": []
  },
  {
   "cell_type": "code",
   "execution_count": null,
   "metadata": {},
   "outputs": [],
   "source": []
  }
 ]
}