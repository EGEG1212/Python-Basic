{
 "cells": [
  {
   "cell_type": "markdown",
   "metadata": {},
   "source": [
    "# elif 사용하기\n",
    "\n",
    "elif는 else인 상태에서 조건식을 지정할 때 사용하며 else if라는 뜻입니다.  \n",
    "물론 if, else와 마찬가지로 조건식 끝에 :(콜론)을 붙여야 하고,  \n",
    "elif 단독으로 사용할 수 없습니다"
   ]
  },
  {
   "cell_type": "code",
   "execution_count": 26,
   "metadata": {},
   "outputs": [
    {
     "name": "stdout",
     "output_type": "stream",
     "text": [
      "10입니다.\n"
     ]
    }
   ],
   "source": [
    "a, b, c = 10, 20, 30\n",
    "\n",
    "if a == 10:                 #if와 elif는 앞이 참True이면 건너뜀/ 여러코드중 하나만 실행할 때 사용\n",
    "    print('10입니다.')\n",
    "elif b == 20:\n",
    "    print('20입니다.')\n",
    "elif c == 30:\n",
    "    print('30입니다.')"
   ]
  },
  {
   "cell_type": "code",
   "execution_count": 27,
   "metadata": {},
   "outputs": [
    {
     "name": "stdout",
     "output_type": "stream",
     "text": [
      "and 한개라도 충족되지않으면 안나와용\n"
     ]
    }
   ],
   "source": [
    "a, b, c = 10, 40, 30\n",
    "\n",
    "if a == 10 and b == 20 and c == 30:    #elif 대신 and를 써보았으나 안되넹 ㅠㅠ\n",
    "    print('a, b, c 입니다')\n",
    "else :\n",
    "    print('and 한개라도 충족되지않으면 안나와용')"
   ]
  },
  {
   "cell_type": "code",
   "execution_count": 28,
   "metadata": {},
   "outputs": [
    {
     "name": "stdout",
     "output_type": "stream",
     "text": [
      "a, b, c 입니다\n"
     ]
    }
   ],
   "source": [
    "a, b, c = 50, 40, 30\n",
    "\n",
    "if a == 10 or b == 20 or c == 30:    #elif 대신 or 써봄.. 한개만충족되면되는거라 막 다 나옴 ㅋㅋㅋㅋ\n",
    "    print('a, b, c 입니다')"
   ]
  },
  {
   "cell_type": "code",
   "execution_count": 29,
   "metadata": {},
   "outputs": [
    {
     "name": "stdout",
     "output_type": "stream",
     "text": [
      "20\n"
     ]
    }
   ],
   "source": [
    "a, b, c = 5, 20, 30\n",
    "\n",
    "if a == 10:\n",
    "    print('10')\n",
    "elif b == 20:\n",
    "    print('20')\n",
    "elif c == 30:\n",
    "    print('30')"
   ]
  },
  {
   "cell_type": "code",
   "execution_count": 7,
   "metadata": {},
   "outputs": [
    {
     "name": "stdout",
     "output_type": "stream",
     "text": [
      "10도 20도 아닙니다ㅋ\n"
     ]
    }
   ],
   "source": [
    "x = 15\n",
    "if x == 10:                #이 조건이 True맞으면 if실행\n",
    "    print('10입니다.')\n",
    "elif x == 20:              #이 조건이 True맞으면 elif실행    #단독사용불가능\n",
    "    print('20입니다.')\n",
    "else:                      #위 조건 모두 False틀리면 else실행    #단독사용불가능\n",
    "    print('10도 20도 아닙니다ㅋ')"
   ]
  },
  {
   "cell_type": "code",
   "execution_count": 11,
   "metadata": {},
   "outputs": [
    {
     "name": "stdout",
     "output_type": "stream",
     "text": [
      "5\n",
      "제공하지 않는 메뉴\n"
     ]
    }
   ],
   "source": [
    "button = int(input())\n",
    "\n",
    "if button == 1:\n",
    "    print('콜라')\n",
    "elif button == 2:\n",
    "    print('사이다')\n",
    "elif button == 3:\n",
    "    print('환타')\n",
    "else :\n",
    "    print('제공하지 않는 메뉴')"
   ]
  },
  {
   "cell_type": "code",
   "execution_count": 14,
   "metadata": {},
   "outputs": [
    {
     "name": "stdout",
     "output_type": "stream",
     "text": [
      "날짜 입력 yyyy.mm.dd> 2020.10.31\n",
      "2020.10.31 2020 10 31\n"
     ]
    }
   ],
   "source": [
    "text = input('날짜 입력 yyyy.mm.dd> ')\n",
    "y,m,d = text.split('.')\n",
    "\n",
    "print(text, y, m, d)"
   ]
  },
  {
   "cell_type": "code",
   "execution_count": 16,
   "metadata": {},
   "outputs": [
    {
     "name": "stdout",
     "output_type": "stream",
     "text": [
      "0\n",
      "아무것도 해당되지 않음\n"
     ]
    }
   ],
   "source": [
    "x = int(input())\n",
    "\n",
    "if 11 <= x <= 20 :\n",
    "    print('11~20')\n",
    "elif 21 <= x <= 30:\n",
    "    print('21~30')\n",
    "else :\n",
    "    print('아무것도 해당되지 않음')"
   ]
  },
  {
   "cell_type": "markdown",
   "metadata": {},
   "source": [
    "# 코딩도장 심사문제"
   ]
  },
  {
   "cell_type": "markdown",
   "metadata": {},
   "source": [
    "   표준 입력으로 나이(만 나이)가 입력됩니다(입력 값은 7 이상 입력됨). 교통카드 시스템에서 시내버스 요금은 다음과 같으며 각 나이에 맞게 요금을 차감한 뒤 잔액이 출력되게 만드세요(if, elif 사용). 현재 교통카드에는 9,000원이 들어있습니다.\n",
    "\n",
    "어린이(초등학생, 만 7세 이상 12세 이하): 650원  \n",
    "청소년(중∙고등학생, 만 13세 이상 18세 이하): 1,050원  \n",
    "어른(일반, 만 19세 이상): 1,250원"
   ]
  },
  {
   "cell_type": "code",
   "execution_count": 25,
   "metadata": {},
   "outputs": [
    {
     "name": "stdout",
     "output_type": "stream",
     "text": [
      "17\n",
      "7950\n"
     ]
    }
   ],
   "source": [
    "age = int(input())\n",
    "balance = 9000 #교통카드잔액\n",
    "\n",
    "if 7 <= age <= 12:\n",
    "    balance -= 650\n",
    "    print(balance)\n",
    "elif 13 <= age <= 18:\n",
    "    balance -= 1050\n",
    "    print(balance)\n",
    "elif 19 <= age:\n",
    "    balance -= 1250\n",
    "    print(balance)"
   ]
  },
  {
   "cell_type": "markdown",
   "metadata": {},
   "source": [
    "변수 age에 나이가 저장됩니다. 먼저 7세 이상이면서 12세 이하는 if 7 <= age <= 12:와 같이 if 조건문을 작성한 뒤 balance에서 650을 차감합니다. 13세 이상이면서 18세 이하은 elif 13 <= age <= 18:과 같이 elif를 작성한 뒤 balance에서 1050을 차감합니다. 마지막으로 19세 이상은 elif age >= 19:와 같이 elif를 작성한 뒤 balance에서 1250을 차감하면 됩니다. 단, balance에서 요금을 단순히 빼는 것이 아니라 -= 연산자를 사용하여 뺀 결과를 다시 balance에 저장해야 합니다(balance = balance - 요금 형식도 맞음).\n",
    "\n",
    "참고로 조건식을 만들 때 age >= 7 and age <= 12와 age >= 13 and age <= 18처럼 두 조건식을 and 연산자로 판단해도 됩니다."
   ]
  },
  {
   "cell_type": "code",
   "execution_count": null,
   "metadata": {},
   "outputs": [],
   "source": []
  }
 ],
 "metadata": {
  "kernelspec": {
   "display_name": "Python 3",
   "language": "python",
   "name": "python3"
  },
  "language_info": {
   "codemirror_mode": {
    "name": "ipython",
    "version": 3
   },
   "file_extension": ".py",
   "mimetype": "text/x-python",
   "name": "python",
   "nbconvert_exporter": "python",
   "pygments_lexer": "ipython3",
   "version": "3.8.3"
  }
 },
 "nbformat": 4,
 "nbformat_minor": 4
}
