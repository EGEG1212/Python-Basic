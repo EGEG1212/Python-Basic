{
 "cells": [
  {
   "cell_type": "markdown",
   "metadata": {},
   "source": [
    "# Unit 18. break, continue로 반복문 제어하기"
   ]
  },
  {
   "cell_type": "markdown",
   "metadata": {},
   "source": [
    "### break"
   ]
  },
  {
   "cell_type": "markdown",
   "metadata": {},
   "source": [
    "if 있음\n",
    "switch없음 i++없음 파이썬에 없음\n",
    "\n",
    "### break: 제어흐름 중단 윗단계로감. while반복문을 끝냄\n",
    "### continue: 제어흐름 유지, 코드 실행만 건너뜀(그 아래에 오는 코드를 건너뛴 뒤 계속 반복한다)코드를 실행하지 않고, 건너뛰며, 루프를 중단하지 않는다."
   ]
  },
  {
   "cell_type": "code",
   "execution_count": 1,
   "metadata": {},
   "outputs": [
    {
     "name": "stdout",
     "output_type": "stream",
     "text": [
      "100\n"
     ]
    }
   ],
   "source": [
    "i = 0\n",
    "while True:     # 무한 루프\n",
    "    i += 1\n",
    "    if i == 100:      # i가 100일 때\n",
    "        break         # 반복문을 끝냄. while의 제어흐름을 벗어남\n",
    "print(i)"
   ]
  },
  {
   "cell_type": "code",
   "execution_count": 2,
   "metadata": {},
   "outputs": [
    {
     "name": "stdout",
     "output_type": "stream",
     "text": [
      "100\n"
     ]
    }
   ],
   "source": [
    "for i in range(1000):\n",
    "    if i == 100:\n",
    "        break\n",
    "print(i)\n",
    "    "
   ]
  },
  {
   "cell_type": "markdown",
   "metadata": {},
   "source": [
    "### continue"
   ]
  },
  {
   "cell_type": "code",
   "execution_count": 4,
   "metadata": {},
   "outputs": [
    {
     "name": "stdout",
     "output_type": "stream",
     "text": [
      "2 4 6 8 10 "
     ]
    }
   ],
   "source": [
    "i = 0\n",
    "while i <= 10:\n",
    "    i += 1              #증가를시키지않으면 무한루프됨 ㅠㅠ\n",
    "    if i % 2 == 1:   # 짝수만 나오면 출력해라\n",
    "        continue\n",
    "    print(i, end=' ')\n"
   ]
  },
  {
   "cell_type": "code",
   "execution_count": null,
   "metadata": {},
   "outputs": [],
   "source": [
    "while True:\n",
    "    pass      #TO-DO 할일  / 아직스펙안넣었.. 구조만 맞춰놓고 나중에 하겠다. "
   ]
  },
  {
   "cell_type": "code",
   "execution_count": null,
   "metadata": {},
   "outputs": [],
   "source": [
    "for i in range(10):\n",
    "    pass      #TO-DO \n",
    "    "
   ]
  },
  {
   "cell_type": "markdown",
   "metadata": {},
   "source": [
    "### 코딩도장 퀴즈"
   ]
  },
  {
   "cell_type": "code",
   "execution_count": null,
   "metadata": {},
   "outputs": [],
   "source": [
    "# 1. 다음 중 break와 continue에 대한 설명으로 올바른 것\n",
    "break는 while 반복문을 끝낸다.\n",
    "break는 if 조건문에 영향을 미지치 않습니다. \n",
    "그리고 for range 반복문에 break를 사용할 수 있습니다.\n",
    "\n",
    "continue는 코드를 실행하지 않고 건너뛰며 루프를 중단하지 않는다."
   ]
  },
  {
   "cell_type": "code",
   "execution_count": null,
   "metadata": {},
   "outputs": [],
   "source": [
    "# 2. 다음 코드로 1부터 10까지 출력하면서 3의 배수는 제외하려고 할 때\n",
    "for i in range(1, 11):\n",
    "    if i % 3 == 0:\n",
    "    continue      \n",
    "    print(i)\n",
    "    \n",
    "# 3의 배수는 i % 3 == 0과 같이 3으로 나누었을 때 0인지 검사하면 됩니다. \n",
    "#그리고 그다음 줄에 있는 print에서 숫자를 출력하지 않으려면 \n",
    "# continue로 코드를 건너뛰어야 합니다."
   ]
  },
  {
   "cell_type": "code",
   "execution_count": 12,
   "metadata": {},
   "outputs": [
    {
     "name": "stdout",
     "output_type": "stream",
     "text": [
      "29\n",
      "28\n",
      "27\n",
      "26\n",
      "25\n",
      "24\n",
      "23\n",
      "22\n",
      "21\n",
      "20\n",
      "19\n",
      "18\n",
      "17\n",
      "16\n",
      "15\n",
      "14\n",
      "13\n",
      "12\n",
      "11\n"
     ]
    }
   ],
   "source": [
    "# 3. 다음 코드로 30부터 10까지 출력할 때 밑줄 부분에 들어가야 할 코드\n",
    "i = 30\n",
    "\n",
    "while True:\n",
    "    i -= 1\n",
    "    if i == 10:\n",
    "        break                \n",
    "    print(i)   \n",
    "\n",
    "# i가 30이고 무한 루프에서 30부터 10까지 출력하려면 \n",
    "# i가 10일 때 break로 반복문을 끝내면 됩니다."
   ]
  },
  {
   "cell_type": "markdown",
   "metadata": {},
   "source": [
    "## 코딩도장 연습문제 "
   ]
  },
  {
   "cell_type": "code",
   "execution_count": null,
   "metadata": {},
   "outputs": [],
   "source": [
    "# 18.5 연습문제: 3으로 끝나는 숫자만 출력하기\n",
    "다음 소스 코드를 완성하여 0과 73 사이의 숫자 중 3으로 끝나는 숫자만 출력되게 \n",
    "\n",
    "i = 0\n",
    "while True:\n",
    "    if i % 10 != 3:\n",
    "        i += 1\n",
    "        continue\n",
    "    if i > 73:\n",
    "        break\n",
    "    print(i, end=' ')\n",
    "    i += 1\n",
    "    \n",
    "출력 3 13 23 33 43 53 63 73\n",
    "\n",
    "\n",
    "#먼저 3으로 끝나는 숫자를 구하려면 i를 10으로 나눈 뒤 나머지가 3인지 검사하면 됩니다.\n",
    "#하지만 if i % 10 == 3:에서 i를 출력하더라도 그 아래에 있는 print에서도 i를 출력하므로 \n",
    "#원하는 결과가 나오지 않게 됩니다\n",
    "#따라서 아래에 있는 print에서 i가 출력되지 않도록 continue로 코드를 건너뛰어야 합니다.\n",
    "\n",
    "#3으로 끝나는 숫자만 출력되도록 하려면 \n",
    "#if i % 10 != 3:과 같이 if 조건문을 만들어서 3으로 끝나지 않는 숫자일 때 \n",
    "#continue로 건너뜁니다. \n",
    "#이렇게 하면 그 아래에 있는 print에서 3으로 끝나는 숫자만 출력할 수 있습니다. \n",
    "#그리고 continue로 코드를 건너뛰면 아래에 있는 i += 1까지 건너뛰게 되므로 \n",
    "#continue 위에 i += 1을 넣어주어야 합니다.\n",
    "\n",
    "#그리고 while 반복문에 True가 지정되어 있으므로 무한 루프입니다. \n",
    "#따라서 if 조건문을 사용하여 i가 73보다 클 때 break로 루프를 중단해줍니다. \n",
    "#여기서는 숫자를 출력하는 print가 아래에 있으므로 \n",
    "#i가 73과 같을 때 break로 중단해버리면 73은 출력되지 않습니다\n",
    "#(73을 출력하기 전에 break로 루프가 중단됨). \n",
    "#그러므로 73까지 출력하려면 i가 73일 때는 그냥 넘어가고 \n",
    "#루프를 한 번 더 실행하여 i가 73보다 클 때 루프를 중단하는 것입니다."
   ]
  }
 ],
 "metadata": {
  "kernelspec": {
   "display_name": "Python 3",
   "language": "python",
   "name": "python3"
  },
  "language_info": {
   "codemirror_mode": {
    "name": "ipython",
    "version": 3
   },
   "file_extension": ".py",
   "mimetype": "text/x-python",
   "name": "python",
   "nbconvert_exporter": "python",
   "pygments_lexer": "ipython3",
   "version": "3.8.3"
  }
 },
 "nbformat": 4,
 "nbformat_minor": 4
}
