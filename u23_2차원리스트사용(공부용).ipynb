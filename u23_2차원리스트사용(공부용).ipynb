{
 "cells": [
  {
   "cell_type": "markdown",
   "metadata": {},
   "source": [
    "# unit 23. 2차원 리스트 사용하기"
   ]
  },
  {
   "cell_type": "code",
   "execution_count": 1,
   "metadata": {},
   "outputs": [],
   "source": [
    "# 리스트[행][열]\n",
    "# 리스트[row][column]\n",
    "# 리스트[세로][가로]"
   ]
  },
  {
   "cell_type": "code",
   "execution_count": 2,
   "metadata": {},
   "outputs": [
    {
     "data": {
      "text/plain": [
       "[[10, 20], [30, 40], [50, 60]]"
      ]
     },
     "execution_count": 2,
     "metadata": {},
     "output_type": "execute_result"
    }
   ],
   "source": [
    "a = [[10, 20], [30, 40], [50, 60]]\n",
    "a"
   ]
  },
  {
   "cell_type": "code",
   "execution_count": 3,
   "metadata": {},
   "outputs": [
    {
     "data": {
      "text/plain": [
       "40"
      ]
     },
     "execution_count": 3,
     "metadata": {},
     "output_type": "execute_result"
    }
   ],
   "source": [
    "a[1][1]  #파이썬은 이것만 지원하는데"
   ]
  },
  {
   "cell_type": "code",
   "execution_count": 4,
   "metadata": {},
   "outputs": [
    {
     "data": {
      "text/plain": [
       "array([[10, 20],\n",
       "       [30, 40],\n",
       "       [50, 60]])"
      ]
     },
     "execution_count": 4,
     "metadata": {},
     "output_type": "execute_result"
    }
   ],
   "source": [
    "# Numpy array 빅데이터 인공지능하려면 넘파이필요\n",
    "import numpy as np\n",
    "arr = np.array(a)\n",
    "arr                     #위에것보다 보기가 좀 편함 ^^"
   ]
  },
  {
   "cell_type": "code",
   "execution_count": 5,
   "metadata": {},
   "outputs": [
    {
     "data": {
      "text/plain": [
       "40"
      ]
     },
     "execution_count": 5,
     "metadata": {},
     "output_type": "execute_result"
    }
   ],
   "source": [
    "arr[1,1]      #넘파이_행렬을 컴마로 분류"
   ]
  },
  {
   "cell_type": "code",
   "execution_count": 7,
   "metadata": {},
   "outputs": [
    {
     "data": {
      "text/plain": [
       "array([[40],\n",
       "       [60]])"
      ]
     },
     "execution_count": 7,
     "metadata": {},
     "output_type": "execute_result"
    }
   ],
   "source": [
    "arr[1:, 1:]      #넘파이_2차원 슬라이싱 우어어어어어어1!!!!!1부터 끝까지"
   ]
  },
  {
   "cell_type": "code",
   "execution_count": 8,
   "metadata": {},
   "outputs": [
    {
     "data": {
      "text/plain": [
       "array([[20],\n",
       "       [40],\n",
       "       [60]])"
      ]
     },
     "execution_count": 8,
     "metadata": {},
     "output_type": "execute_result"
    }
   ],
   "source": [
    "arr[0:, 1:]  "
   ]
  },
  {
   "cell_type": "code",
   "execution_count": 9,
   "metadata": {},
   "outputs": [],
   "source": [
    "# 톱니형 리스트  이런것도 가능합니다~ 들쑥날쑥 행열 값이 안같아도 되요. 리스트에서는 자유로와~~\n",
    "a = [[1],\n",
    "     [2, 3],\n",
    "     [4, 5, 6],\n",
    "     [7, 8],\n",
    "     [9]]"
   ]
  },
  {
   "cell_type": "code",
   "execution_count": 10,
   "metadata": {},
   "outputs": [
    {
     "data": {
      "text/plain": [
       "5"
      ]
     },
     "execution_count": 10,
     "metadata": {},
     "output_type": "execute_result"
    }
   ],
   "source": [
    "len(a)"
   ]
  },
  {
   "cell_type": "code",
   "execution_count": 11,
   "metadata": {},
   "outputs": [
    {
     "name": "stdout",
     "output_type": "stream",
     "text": [
      "1 \n",
      "2 3 \n",
      "4 5 6 \n",
      "7 8 \n",
      "9 \n"
     ]
    }
   ],
   "source": [
    "for row in a:       #사람이 보기쉽게한건가..?for문써서\n",
    "    for element in row:\n",
    "        print(element, end=' ')\n",
    "    print()"
   ]
  },
  {
   "cell_type": "code",
   "execution_count": 12,
   "metadata": {},
   "outputs": [
    {
     "name": "stdout",
     "output_type": "stream",
     "text": [
      "1 \n",
      "2 3 \n",
      "4 5 6 \n",
      "7 8 \n",
      "9 \n"
     ]
    }
   ],
   "source": [
    "for i in range(len(a)):     #인덱스로 뽑아보자\n",
    "    for k in range(len(a[i])):\n",
    "        print(a[i][k], end=' ')\n",
    "    print()"
   ]
  },
  {
   "cell_type": "markdown",
   "metadata": {},
   "source": [
    "# for 반복문으로 2차원 리스트 만들기"
   ]
  },
  {
   "cell_type": "code",
   "execution_count": 13,
   "metadata": {},
   "outputs": [
    {
     "name": "stdout",
     "output_type": "stream",
     "text": [
      "[[0, 0], [0, 0], [0, 0]]\n"
     ]
    }
   ],
   "source": [
    "a = []    # 겉에 빈 리스트 생성\n",
    " \n",
    "for i in range(3):\n",
    "    line = []              # 안쪽 리스트로 사용할 빈 리스트 생성\n",
    "    for j in range(2):\n",
    "        line.append(0)     # 안쪽 리스트에 0 추가\n",
    "    a.append(line)         # 전체 리스트에 안쪽 리스트를 추가append\n",
    " \n",
    "print(a)"
   ]
  },
  {
   "cell_type": "code",
   "execution_count": 14,
   "metadata": {},
   "outputs": [],
   "source": [
    "# (u22에 있던 예제활용) 3 x 6 list에 1~6 랜덤값 채우기\n",
    "import random as rd\n",
    "mat = []\n",
    "for i in range(3):        # 행의 갯수\n",
    "    row = []              #들어가기전 빈 리스트 만들기\n",
    "    for k in range(6):    #열의 갯수_ 표현식의 안쪽루프로 넣음\n",
    "        row.append(rd.randint(1,6))\n",
    "    mat.append(row)"
   ]
  },
  {
   "cell_type": "code",
   "execution_count": 17,
   "metadata": {},
   "outputs": [
    {
     "data": {
      "text/plain": [
       "[[1, 2, 1, 1, 6, 4], [4, 1, 3, 4, 3, 6], [2, 3, 4, 3, 3, 2]]"
      ]
     },
     "execution_count": 17,
     "metadata": {},
     "output_type": "execute_result"
    }
   ],
   "source": [
    "# 표현식으로 만들기 위에것과 같음\n",
    "#리스트안에 리스트가 들어와야해.6개씩 3번을만들라\n",
    "mc= [[rd.randint(1,6) for k in range(6)] for i in range(3)] \n",
    "mc"
   ]
  },
  {
   "cell_type": "markdown",
   "metadata": {},
   "source": [
    "### 2차원 리스트의 복사"
   ]
  },
  {
   "cell_type": "code",
   "execution_count": 20,
   "metadata": {},
   "outputs": [
    {
     "data": {
      "text/plain": [
       "[[10, 20], [30, 40]]"
      ]
     },
     "execution_count": 20,
     "metadata": {},
     "output_type": "execute_result"
    }
   ],
   "source": [
    "a = [[10, 20], [30, 40]]\n",
    "b = a.copy()\n",
    "b"
   ]
  },
  {
   "cell_type": "code",
   "execution_count": 21,
   "metadata": {},
   "outputs": [
    {
     "data": {
      "text/plain": [
       "[[10, 20], [30, 100]]"
      ]
     },
     "execution_count": 21,
     "metadata": {},
     "output_type": "execute_result"
    }
   ],
   "source": [
    "b[1][1] = 100          #40을 100으로 변경. a도 바뀌었다!\n",
    "a"
   ]
  },
  {
   "cell_type": "code",
   "execution_count": 22,
   "metadata": {},
   "outputs": [],
   "source": [
    "import copy               #deepcopy하면  (잘안쓰이긴하는데)\n",
    "a = [[10, 20], [30, 40]]\n",
    "b = copy.deepcopy(a)"
   ]
  },
  {
   "cell_type": "code",
   "execution_count": 23,
   "metadata": {},
   "outputs": [
    {
     "data": {
      "text/plain": [
       "[[10, 20], [30, 40]]"
      ]
     },
     "execution_count": 23,
     "metadata": {},
     "output_type": "execute_result"
    }
   ],
   "source": [
    "b[1][1] = 100          #40을 100으로 변경. a는 바뀌지않는다.\n",
    "a"
   ]
  },
  {
   "cell_type": "markdown",
   "metadata": {},
   "source": [
    "# 코딩도장 퀴즈"
   ]
  },
  {
   "cell_type": "markdown",
   "metadata": {},
   "source": [
    "### 1. 다음 중 가로 2, 세로 2 크기의 2차원 리스트를 만드는 방법\n",
    "##### a = [[10, 20], [30, 40]]\n",
    "\n",
    "#### 가로 2, 세로 2 크기의 2차원 리스트는 리스트 = [[값, 값], [값, 값]] 형식으로 만듭니다."
   ]
  },
  {
   "cell_type": "markdown",
   "metadata": {},
   "source": [
    "### 2. 다음 중 리스트 a = [[10, 20], [30, 40, 50], [60]]에서 \n",
    "### 60을 출력하는 방법\n",
    "#### print(a[2][0])\n",
    "#### 리스트 [[10, 20], [30, 40, 50], [60]]에서 \n",
    "#### 60은 세로 인덱스 2, 가로 인덱스 0에 있으므로 \n",
    "#### print(a[2][0])으로 출력하면 됩니다."
   ]
  },
  {
   "cell_type": "markdown",
   "metadata": {},
   "source": [
    "### 3. 다음 중 for 반복문을 사용하여 2차원 리스트 a의 모든 요소를 출력하는 방법\n",
    "#### for i in a:\n",
    "####    for j in i:\n",
    "####        print(j)\n",
    "#### for로 2차원 리스트 a의 모든 요소를 출력할 때는 for i in a:와 같이 전체 리스트에서 가로 한 줄씩 꺼내 옵니다. 다시 for j in i:와 같이 가로 한 줄 i에서 요소를 하나씩 꺼내면 됩니다."
   ]
  },
  {
   "cell_type": "markdown",
   "metadata": {},
   "source": [
    "### 4. while 반복문을 사용하여 2차원 리스트의 모든 요소를 출력할 때\n",
    ".......쩝 ㅋ\n",
    "#### while i < len(a):와 같이 세로 크기만큼 반복했을 때는 while j < len(a[i]):와 같이 가로 크기만큼 반복하면 됩니다. 가로 크기는 len(a[i])와 같이 리스트에 세로 인덱스를 지정하여 len으로 구합니다.\n"
   ]
  },
  {
   "cell_type": "markdown",
   "metadata": {},
   "source": [
    "### 5. 다음 중 리스트 [[0, 0, 0], [0, 0, 0], [0, 0, 0]]를 만드는 방법으로 올바른 것을 모두\n",
    "#### 방법1) [[0 for j in range(3)] for i in range(3)]\n",
    "#### 방법2) [[0, 0, 0] for i in range(3)]\n",
    "\n",
    "#### 리스트 표현식으로 2차원 리스트를 만들 때는 먼저 [0 for j in range(3)]와 같이 0을 3번 반복하여 [0, 0, 0]으로 만들고 다시 for i in range(3)로 [0, 0, 0]을 3번 반복하여 [[0, 0, 0], [0, 0, 0], [0, 0, 0]]으로 만듭니다. 또는, [0, 0, 0] for i in range(3)와 같이 리스트 자체를 3번 반복해도 됩니다."
   ]
  },
  {
   "cell_type": "code",
   "execution_count": null,
   "metadata": {},
   "outputs": [],
   "source": []
  }
 ],
 "metadata": {
  "kernelspec": {
   "display_name": "Python 3",
   "language": "python",
   "name": "python3"
  },
  "language_info": {
   "codemirror_mode": {
    "name": "ipython",
    "version": 3
   },
   "file_extension": ".py",
   "mimetype": "text/x-python",
   "name": "python",
   "nbconvert_exporter": "python",
   "pygments_lexer": "ipython3",
   "version": "3.8.3"
  }
 },
 "nbformat": 4,
 "nbformat_minor": 4
}
